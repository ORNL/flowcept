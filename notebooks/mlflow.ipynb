{
 "cells": [
  {
   "cell_type": "markdown",
   "id": "0290242f-731f-4315-9987-6040c4070687",
   "metadata": {},
   "source": [
    "## Define a simple MLFlow workflow"
   ]
  },
  {
   "cell_type": "code",
   "execution_count": 1,
   "id": "c08c39cf-8489-47eb-aff3-d96768afc7e9",
   "metadata": {},
   "outputs": [],
   "source": [
    "def run_mlflow_workflow(sqlite_path, batch_size=64, number_epochs=10):\n",
    "    import uuid\n",
    "    import mlflow\n",
    "\n",
    "    mlflow.set_tracking_uri(\n",
    "        f\"sqlite:///\" f\"{sqlite_path}\"\n",
    "    )\n",
    "    experiment_name = \"LinearRegression\"\n",
    "    experiment_id = mlflow.create_experiment(\n",
    "        experiment_name + str(uuid.uuid4())\n",
    "    )\n",
    "    with mlflow.start_run(experiment_id=experiment_id) as run:\n",
    "        mlflow.log_params({\"number_epochs\": number_epochs})\n",
    "        mlflow.log_params({\"batch_size\": batch_size})\n",
    "\n",
    "        print(\"Generated training metadata.\")\n",
    "        mlflow.log_metric(\"loss\", 0.04)\n",
    "        return run.info.run_uuid"
   ]
  },
  {
   "cell_type": "code",
   "execution_count": 2,
   "id": "fef120ca-b12a-4823-96f5-550bfd6a1397",
   "metadata": {
    "tags": []
   },
   "outputs": [],
   "source": [
    "# Set log levels\n",
    "import os\n",
    "os.environ['LOG_STREAM_LEVEL'] = \"error\"\n",
    "os.environ['LOG_FILE_LEVEL'] = \"debug\""
   ]
  },
  {
   "cell_type": "markdown",
   "id": "b564c09b-7db9-46e3-b079-9799ca860f4f",
   "metadata": {},
   "source": [
    "## Initialize interceptor"
   ]
  },
  {
   "cell_type": "code",
   "execution_count": 3,
   "id": "7edd571f-9507-496f-8926-6dcc608b2358",
   "metadata": {},
   "outputs": [],
   "source": [
    "from flowcept import MLFlowInterceptor\n",
    "interceptor = MLFlowInterceptor()"
   ]
  },
  {
   "cell_type": "markdown",
   "id": "df97ce94-db1a-463e-84fb-66f046ab1716",
   "metadata": {
    "tags": []
   },
   "source": [
    "## Initialize consumer API"
   ]
  },
  {
   "cell_type": "code",
   "execution_count": 4,
   "id": "b57ee95c-a061-4f2d-b43a-d7e02d66bda8",
   "metadata": {},
   "outputs": [
    {
     "data": {
      "text/plain": [
       "<flowcept.flowcept_api.consumer_api.FlowceptConsumerAPI at 0x169c68610>"
      ]
     },
     "execution_count": 4,
     "metadata": {},
     "output_type": "execute_result"
    }
   ],
   "source": [
    "from flowcept import FlowceptConsumerAPI\n",
    "consumer = FlowceptConsumerAPI(interceptor)\n",
    "consumer.start()"
   ]
  },
  {
   "cell_type": "code",
   "execution_count": 5,
   "id": "6fc6c610-86c3-4460-9651-e05b859caa5b",
   "metadata": {
    "tags": []
   },
   "outputs": [],
   "source": [
    "## Run MLFlow workflow"
   ]
  },
  {
   "cell_type": "code",
   "execution_count": 6,
   "id": "f1c0f6d7-7d47-4c61-9d5b-e5bd398326cd",
   "metadata": {},
   "outputs": [
    {
     "name": "stdout",
     "output_type": "stream",
     "text": [
      "\n",
      "Trained model\n"
     ]
    },
    {
     "data": {
      "text/plain": [
       "'14123442c2d74b6a87f7b8c15f30b6ad'"
      ]
     },
     "execution_count": 6,
     "metadata": {},
     "output_type": "execute_result"
    }
   ],
   "source": [
    "mlflow_run_id = run_mlflow_workflow(interceptor.settings.file_path)\n",
    "print(f\"MLflow task id={mlflow_run_id})"
   ]
  },
  {
   "cell_type": "markdown",
   "id": "7a9bf556-8091-4e3a-916f-38a35b097870",
   "metadata": {
    "tags": []
   },
   "source": [
    "## Initialize Query API"
   ]
  },
  {
   "cell_type": "code",
   "execution_count": 7,
   "id": "0e0dd400-3578-4ace-a3e4-f6feec8b3152",
   "metadata": {},
   "outputs": [],
   "source": [
    "from flowcept import TaskQueryAPI\n",
    "query_api = TaskQueryAPI()"
   ]
  },
  {
   "cell_type": "markdown",
   "id": "948e423c-8d1f-4dbc-af7f-16d283e512bd",
   "metadata": {
    "tags": []
   },
   "source": [
    "## Query the task executed"
   ]
  },
  {
   "cell_type": "code",
   "execution_count": 8,
   "id": "48dbf1ba-f95c-4889-b5fc-1559ed55862f",
   "metadata": {},
   "outputs": [
    {
     "data": {
      "text/plain": [
       "[{'task_id': '14123442c2d74b6a87f7b8c15f30b6ad',\n",
       "  'utc_timestamp': 1676057669.196684,\n",
       "  'status': 'FINISHED',\n",
       "  'used': {'batch_size': '64', 'number_epochs': '10'},\n",
       "  'generated': {'loss': 0.04},\n",
       "  'plugin_id': 'mlflow',\n",
       "  'user': 'root',\n",
       "  'experiment_id': 'super-experiment',\n",
       "  'sys_name': 'Darwin',\n",
       "  'node_name': 'MAC132633',\n",
       "  'login_name': 'rsr',\n",
       "  'public_ip': '2620:0:2b30:e0::4b9',\n",
       "  'private_ip': '10.158.26.233',\n",
       "  'debug': True}]"
      ]
     },
     "execution_count": 8,
     "metadata": {},
     "output_type": "execute_result"
    }
   ],
   "source": [
    "_filter = {\"task_id\": mlflow_run_id}\n",
    "query_api.query(_filter)"
   ]
  },
  {
   "cell_type": "markdown",
   "id": "925781ce-35c0-41e6-9577-46bd2cd0a60f",
   "metadata": {
    "tags": []
   },
   "source": [
    "# Inspecting more tasks through the query api"
   ]
  },
  {
   "cell_type": "code",
   "execution_count": 9,
   "id": "2c90974b-5cb9-4a06-8c4c-608c3d2a4525",
   "metadata": {},
   "outputs": [],
   "source": [
    "from flowcept.commons.utils import get_utc_minutes_ago"
   ]
  },
  {
   "cell_type": "markdown",
   "id": "35d40657-94b4-4b34-b82f-e4fb32e823c9",
   "metadata": {
    "tags": []
   },
   "source": [
    "### Get the tasks executed in my experiment in the last 60 minutes"
   ]
  },
  {
   "cell_type": "code",
   "execution_count": 10,
   "id": "20bf2264-4f4f-4086-b2ed-7d44e088a3e2",
   "metadata": {},
   "outputs": [
    {
     "data": {
      "text/plain": [
       "[{'task_id': 'dummy_func1-ff697be9ec8641033d80d8f01e72b52b',\n",
       "  'custom_metadata': {'scheduler': 'tcp://127.0.0.1:55960',\n",
       "   'scheduler_id': 'Scheduler-7cd46b5a-0f7a-40f1-85a9-b403b10d93b8',\n",
       "   'scheduler_pid': 33398},\n",
       "  'status': 'SUBMITTED',\n",
       "  'utc_timestamp': 1676056235.084591,\n",
       "  'activity_id': 'dummy_func1',\n",
       "  'used': {'arg0': 0.2980732034559712},\n",
       "  'workflow_id': 'wf_0d5e4a40-03e6-47ee-9f46-a047a47dfd19',\n",
       "  'plugin_id': 'dask',\n",
       "  'user': 'root',\n",
       "  'experiment_id': 'super-experiment',\n",
       "  'sys_name': 'Darwin',\n",
       "  'node_name': 'MAC132633',\n",
       "  'login_name': 'rsr',\n",
       "  'public_ip': '2620:0:2b30:e0::4b9',\n",
       "  'private_ip': '10.158.26.233',\n",
       "  'debug': True,\n",
       "  'address': 'tcp://127.0.0.1:55967',\n",
       "  'generated': {'arg0': 0.5961464069119424},\n",
       "  'start_time': 1676038201.8871877,\n",
       "  'end_time': 1676038201.8871946,\n",
       "  'dependents': ['dummy_func2-7602538d2e41e97b798f9289735e3e8c',\n",
       "   'dummy_func3-adda83d53183fb96c2c7abb330fb5b20']},\n",
       " {'task_id': 'dummy_func2-7602538d2e41e97b798f9289735e3e8c',\n",
       "  'custom_metadata': {'scheduler': 'tcp://127.0.0.1:55960',\n",
       "   'scheduler_id': 'Scheduler-7cd46b5a-0f7a-40f1-85a9-b403b10d93b8',\n",
       "   'scheduler_pid': 33398},\n",
       "  'status': 'SUBMITTED',\n",
       "  'utc_timestamp': 1676056235.06487,\n",
       "  'dependencies': ['dummy_func1-ff697be9ec8641033d80d8f01e72b52b'],\n",
       "  'activity_id': 'dummy_func2',\n",
       "  'used': {'arg0': 'dummy_func1-ff697be9ec8641033d80d8f01e72b52b'},\n",
       "  'workflow_id': 'wf_0d5e4a40-03e6-47ee-9f46-a047a47dfd19',\n",
       "  'plugin_id': 'dask',\n",
       "  'user': 'root',\n",
       "  'experiment_id': 'super-experiment',\n",
       "  'sys_name': 'Darwin',\n",
       "  'node_name': 'MAC132633',\n",
       "  'login_name': 'rsr',\n",
       "  'public_ip': '2620:0:2b30:e0::4b9',\n",
       "  'private_ip': '10.158.26.233',\n",
       "  'debug': True,\n",
       "  'address': 'tcp://127.0.0.1:55967',\n",
       "  'generated': {'arg0': 1.1922928138238849},\n",
       "  'start_time': 1676038201.8938565,\n",
       "  'end_time': 1676038201.8938618,\n",
       "  'dependents': ['dummy_func3-adda83d53183fb96c2c7abb330fb5b20']},\n",
       " {'task_id': 'dummy_func3-adda83d53183fb96c2c7abb330fb5b20',\n",
       "  'custom_metadata': {'scheduler': 'tcp://127.0.0.1:55960',\n",
       "   'scheduler_id': 'Scheduler-7cd46b5a-0f7a-40f1-85a9-b403b10d93b8',\n",
       "   'scheduler_pid': 33398},\n",
       "  'status': 'SUBMITTED',\n",
       "  'utc_timestamp': 1676056235.038375,\n",
       "  'dependencies': ['dummy_func2-7602538d2e41e97b798f9289735e3e8c',\n",
       "   'dummy_func1-ff697be9ec8641033d80d8f01e72b52b'],\n",
       "  'activity_id': 'dummy_func3',\n",
       "  'used': {'arg0': 'dummy_func1-ff697be9ec8641033d80d8f01e72b52b',\n",
       "   'arg1': 'dummy_func2-7602538d2e41e97b798f9289735e3e8c'},\n",
       "  'workflow_id': 'wf_0d5e4a40-03e6-47ee-9f46-a047a47dfd19',\n",
       "  'plugin_id': 'dask',\n",
       "  'user': 'root',\n",
       "  'experiment_id': 'super-experiment',\n",
       "  'sys_name': 'Darwin',\n",
       "  'node_name': 'MAC132633',\n",
       "  'login_name': 'rsr',\n",
       "  'public_ip': '2620:0:2b30:e0::4b9',\n",
       "  'private_ip': '10.158.26.233',\n",
       "  'debug': True,\n",
       "  'address': 'tcp://127.0.0.1:55967',\n",
       "  'generated': {'batch_size': 17},\n",
       "  'start_time': 1676038201.9007516,\n",
       "  'end_time': 1676038201.9025915},\n",
       " {'task_id': 'dummy_func1-27b109469155692a51dc5beeb73903c4',\n",
       "  'custom_metadata': {'scheduler': 'tcp://127.0.0.1:56387',\n",
       "   'scheduler_id': 'Scheduler-bb138f70-babf-43e5-9b79-abbd359ba445',\n",
       "   'scheduler_pid': 34265},\n",
       "  'status': 'FINISHED',\n",
       "  'utc_timestamp': 1676056417.387205,\n",
       "  'activity_id': 'dummy_func1',\n",
       "  'used': {'arg0': 0.7610238851750382},\n",
       "  'workflow_id': 'wf_d1777dc4-bcb8-4caa-af7d-1fda7aabd35d',\n",
       "  'plugin_id': 'dask',\n",
       "  'user': 'root',\n",
       "  'experiment_id': 'super-experiment',\n",
       "  'sys_name': 'Darwin',\n",
       "  'node_name': 'MAC132633',\n",
       "  'login_name': 'rsr',\n",
       "  'public_ip': '2620:0:2b30:e0::4b9',\n",
       "  'private_ip': '10.158.26.233',\n",
       "  'debug': True,\n",
       "  'address': 'tcp://127.0.0.1:56394',\n",
       "  'generated': {'arg0': 1.5220477703500763},\n",
       "  'start_time': 1676038417.3887954,\n",
       "  'end_time': 1676038417.3887985},\n",
       " {'task_id': 'dummy_func2-bfb285a3ab939a8a8b8e5de2b30e929a',\n",
       "  'custom_metadata': {'scheduler': 'tcp://127.0.0.1:56387',\n",
       "   'scheduler_id': 'Scheduler-bb138f70-babf-43e5-9b79-abbd359ba445',\n",
       "   'scheduler_pid': 34265},\n",
       "  'status': 'FINISHED',\n",
       "  'utc_timestamp': 1676056417.391746,\n",
       "  'dependencies': ['dummy_func1-27b109469155692a51dc5beeb73903c4'],\n",
       "  'activity_id': 'dummy_func2',\n",
       "  'used': {'arg0': 'dummy_func1-27b109469155692a51dc5beeb73903c4'},\n",
       "  'workflow_id': 'wf_d1777dc4-bcb8-4caa-af7d-1fda7aabd35d',\n",
       "  'plugin_id': 'dask',\n",
       "  'user': 'root',\n",
       "  'experiment_id': 'super-experiment',\n",
       "  'sys_name': 'Darwin',\n",
       "  'node_name': 'MAC132633',\n",
       "  'login_name': 'rsr',\n",
       "  'public_ip': '2620:0:2b30:e0::4b9',\n",
       "  'private_ip': '10.158.26.233',\n",
       "  'debug': True,\n",
       "  'address': 'tcp://127.0.0.1:56394',\n",
       "  'generated': {'arg0': 3.0440955407001526},\n",
       "  'start_time': 1676038417.3934774,\n",
       "  'end_time': 1676038417.3934844},\n",
       " {'task_id': 'dummy_func3-a5532dbb19f6ee8eb9df16d34fe29101',\n",
       "  'custom_metadata': {'scheduler': 'tcp://127.0.0.1:56387',\n",
       "   'scheduler_id': 'Scheduler-bb138f70-babf-43e5-9b79-abbd359ba445',\n",
       "   'scheduler_pid': 34265},\n",
       "  'status': 'FINISHED',\n",
       "  'utc_timestamp': 1676056417.397027,\n",
       "  'dependencies': ['dummy_func1-27b109469155692a51dc5beeb73903c4',\n",
       "   'dummy_func2-bfb285a3ab939a8a8b8e5de2b30e929a'],\n",
       "  'activity_id': 'dummy_func3',\n",
       "  'used': {'arg0': 'dummy_func1-27b109469155692a51dc5beeb73903c4',\n",
       "   'arg1': 'dummy_func2-bfb285a3ab939a8a8b8e5de2b30e929a'},\n",
       "  'workflow_id': 'wf_d1777dc4-bcb8-4caa-af7d-1fda7aabd35d',\n",
       "  'plugin_id': 'dask',\n",
       "  'user': 'root',\n",
       "  'experiment_id': 'super-experiment',\n",
       "  'sys_name': 'Darwin',\n",
       "  'node_name': 'MAC132633',\n",
       "  'login_name': 'rsr',\n",
       "  'public_ip': '2620:0:2b30:e0::4b9',\n",
       "  'private_ip': '10.158.26.233',\n",
       "  'debug': True,\n",
       "  'address': 'tcp://127.0.0.1:56394',\n",
       "  'generated': {'batch_size': 20},\n",
       "  'start_time': 1676038417.3986654,\n",
       "  'end_time': 1676038417.3986745},\n",
       " {'task_id': '14123442c2d74b6a87f7b8c15f30b6ad',\n",
       "  'utc_timestamp': 1676057669.196684,\n",
       "  'status': 'FINISHED',\n",
       "  'used': {'batch_size': '64', 'number_epochs': '10'},\n",
       "  'generated': {'loss': 0.04},\n",
       "  'plugin_id': 'mlflow',\n",
       "  'user': 'root',\n",
       "  'experiment_id': 'super-experiment',\n",
       "  'sys_name': 'Darwin',\n",
       "  'node_name': 'MAC132633',\n",
       "  'login_name': 'rsr',\n",
       "  'public_ip': '2620:0:2b30:e0::4b9',\n",
       "  'private_ip': '10.158.26.233',\n",
       "  'debug': True}]"
      ]
     },
     "execution_count": 10,
     "metadata": {},
     "output_type": "execute_result"
    }
   ],
   "source": [
    "_filter = {\n",
    "    \"utc_timestamp\": { \"$gte\" : get_utc_minutes_ago(60) },\n",
    "    \"experiment_id\": \"super-experiment\"\n",
    "}\n",
    "query_api.query(_filter)"
   ]
  },
  {
   "cell_type": "markdown",
   "id": "4408e777-8abd-49b8-a9b7-4264eb6004d6",
   "metadata": {
    "tags": []
   },
   "source": [
    "### Get the tasks executed in my experiment in the last 60 minutes that were executed using mlflow and dask"
   ]
  },
  {
   "cell_type": "code",
   "execution_count": 35,
   "id": "ae88d8a0-0c10-4248-9793-daf29c82c488",
   "metadata": {},
   "outputs": [
    {
     "data": {
      "text/plain": [
       "[{'task_id': 'dd167381101d46b1a7ec43db36ba52eb',\n",
       "  'utc_timestamp': 1675796172.583409,\n",
       "  'status': 'FINISHED',\n",
       "  'used': {'batch_size': '64', 'number_epochs': '10'},\n",
       "  'generated': {'loss': 0.04},\n",
       "  'plugin_id': 'mlflow',\n",
       "  'user': 'root',\n",
       "  'experiment_id': 'super-experiment',\n",
       "  'sys_name': 'Darwin',\n",
       "  'node_name': 'MAC132633',\n",
       "  'login_name': 'rsr',\n",
       "  'public_ip': '2620:0:2b30:e0::4b9',\n",
       "  'private_ip': '10.158.26.233',\n",
       "  'debug': True},\n",
       " {'task_id': '9faf2ef9125e4e8a8b33df7edc02879b',\n",
       "  'utc_timestamp': 1675796220.932569,\n",
       "  'status': 'FINISHED',\n",
       "  'used': {'batch_size': '64', 'number_epochs': '10'},\n",
       "  'generated': {'loss': 0.04},\n",
       "  'plugin_id': 'mlflow',\n",
       "  'user': 'root',\n",
       "  'experiment_id': 'super-experiment',\n",
       "  'sys_name': 'Darwin',\n",
       "  'node_name': 'MAC132633',\n",
       "  'login_name': 'rsr',\n",
       "  'public_ip': '2620:0:2b30:e0::4b9',\n",
       "  'private_ip': '10.158.26.233',\n",
       "  'debug': True},\n",
       " {'task_id': '69dd04cbea944c5b80b723426079b187',\n",
       "  'utc_timestamp': 1675796229.67979,\n",
       "  'status': 'FINISHED',\n",
       "  'used': {'batch_size': '64', 'number_epochs': '10'},\n",
       "  'generated': {'loss': 0.04},\n",
       "  'plugin_id': 'mlflow',\n",
       "  'user': 'root',\n",
       "  'experiment_id': 'super-experiment',\n",
       "  'sys_name': 'Darwin',\n",
       "  'node_name': 'MAC132633',\n",
       "  'login_name': 'rsr',\n",
       "  'public_ip': '2620:0:2b30:e0::4b9',\n",
       "  'private_ip': '10.158.26.233',\n",
       "  'debug': True},\n",
       " {'task_id': '957e996868634cf8a00c9aef2f6b1373',\n",
       "  'utc_timestamp': 1675796260.830742,\n",
       "  'status': 'FINISHED',\n",
       "  'used': {'batch_size': '64', 'number_epochs': '10'},\n",
       "  'generated': {'loss': 0.04},\n",
       "  'plugin_id': 'mlflow',\n",
       "  'user': 'root',\n",
       "  'experiment_id': 'super-experiment',\n",
       "  'sys_name': 'Darwin',\n",
       "  'node_name': 'MAC132633',\n",
       "  'login_name': 'rsr',\n",
       "  'public_ip': '2620:0:2b30:e0::4b9',\n",
       "  'private_ip': '10.158.26.233',\n",
       "  'debug': True},\n",
       " {'task_id': '7350e40e10be43c6948ebb1cdff275cd',\n",
       "  'utc_timestamp': 1675796749.476072,\n",
       "  'status': 'FINISHED',\n",
       "  'used': {'batch_size': '64', 'number_epochs': '10'},\n",
       "  'generated': {'loss': 0.04},\n",
       "  'plugin_id': 'mlflow',\n",
       "  'user': 'root',\n",
       "  'experiment_id': 'super-experiment',\n",
       "  'sys_name': 'Darwin',\n",
       "  'node_name': 'MAC132633',\n",
       "  'login_name': 'rsr',\n",
       "  'public_ip': '2620:0:2b30:e0::4b9',\n",
       "  'private_ip': '10.158.26.233',\n",
       "  'debug': True},\n",
       " {'task_id': 'dummy_func1-c42cb12a511fc2f0446468bcf1768ecc',\n",
       "  'custom_metadata': {'scheduler': 'tcp://127.0.0.1:60471',\n",
       "   'scheduler_id': 'Scheduler-eab7ed3f-202a-4fae-905c-b6219f4d216c',\n",
       "   'scheduler_pid': 81467},\n",
       "  'status': 'FINISHED',\n",
       "  'utc_timestamp': 1675798240.796688,\n",
       "  'activity_id': 'dummy_func1',\n",
       "  'used': {'arg0': 0.5191074083022187},\n",
       "  'workflow_id': 'wf_7ef6e914-d562-4657-a3e2-e3cf21da63de',\n",
       "  'plugin_id': 'dask',\n",
       "  'user': 'root',\n",
       "  'experiment_id': 'super-experiment',\n",
       "  'sys_name': 'Darwin',\n",
       "  'node_name': 'MAC132633',\n",
       "  'login_name': 'rsr',\n",
       "  'public_ip': '2620:0:2b30:e0::4b9',\n",
       "  'private_ip': '10.158.26.233',\n",
       "  'debug': True,\n",
       "  'address': 'tcp://127.0.0.1:60478',\n",
       "  'generated': {'arg0': 1.0382148166044374},\n",
       "  'start_time': 1675780240.8007162,\n",
       "  'end_time': 1675780240.800719},\n",
       " {'task_id': 'dummy_func2-534edd824caa311f93837287d6a6ba85',\n",
       "  'custom_metadata': {'scheduler': 'tcp://127.0.0.1:60471',\n",
       "   'scheduler_id': 'Scheduler-eab7ed3f-202a-4fae-905c-b6219f4d216c',\n",
       "   'scheduler_pid': 81467},\n",
       "  'status': 'FINISHED',\n",
       "  'utc_timestamp': 1675798240.801115,\n",
       "  'dependencies': ['dummy_func1-c42cb12a511fc2f0446468bcf1768ecc'],\n",
       "  'activity_id': 'dummy_func2',\n",
       "  'used': {'arg0': 'dummy_func1-c42cb12a511fc2f0446468bcf1768ecc'},\n",
       "  'workflow_id': 'wf_7ef6e914-d562-4657-a3e2-e3cf21da63de',\n",
       "  'plugin_id': 'dask',\n",
       "  'user': 'root',\n",
       "  'experiment_id': 'super-experiment',\n",
       "  'sys_name': 'Darwin',\n",
       "  'node_name': 'MAC132633',\n",
       "  'login_name': 'rsr',\n",
       "  'public_ip': '2620:0:2b30:e0::4b9',\n",
       "  'private_ip': '10.158.26.233',\n",
       "  'debug': True,\n",
       "  'address': 'tcp://127.0.0.1:60478',\n",
       "  'generated': {'arg0': 2.0764296332088747},\n",
       "  'start_time': 1675780240.8050363,\n",
       "  'end_time': 1675780240.805041},\n",
       " {'task_id': 'dummy_func3-5711dd02e7574d2e484d545a9827112d',\n",
       "  'custom_metadata': {'scheduler': 'tcp://127.0.0.1:60471',\n",
       "   'scheduler_id': 'Scheduler-eab7ed3f-202a-4fae-905c-b6219f4d216c',\n",
       "   'scheduler_pid': 81467},\n",
       "  'status': 'FINISHED',\n",
       "  'utc_timestamp': 1675798240.805835,\n",
       "  'dependencies': ['dummy_func2-534edd824caa311f93837287d6a6ba85',\n",
       "   'dummy_func1-c42cb12a511fc2f0446468bcf1768ecc'],\n",
       "  'activity_id': 'dummy_func3',\n",
       "  'used': {'arg0': 'dummy_func1-c42cb12a511fc2f0446468bcf1768ecc',\n",
       "   'arg1': 'dummy_func2-534edd824caa311f93837287d6a6ba85'},\n",
       "  'workflow_id': 'wf_7ef6e914-d562-4657-a3e2-e3cf21da63de',\n",
       "  'plugin_id': 'dask',\n",
       "  'user': 'root',\n",
       "  'experiment_id': 'super-experiment',\n",
       "  'sys_name': 'Darwin',\n",
       "  'node_name': 'MAC132633',\n",
       "  'login_name': 'rsr',\n",
       "  'public_ip': '2620:0:2b30:e0::4b9',\n",
       "  'private_ip': '10.158.26.233',\n",
       "  'debug': True,\n",
       "  'address': 'tcp://127.0.0.1:60478',\n",
       "  'generated': {'batch_size': 19},\n",
       "  'start_time': 1675780240.809915,\n",
       "  'end_time': 1675780240.809927}]"
      ]
     },
     "execution_count": 35,
     "metadata": {},
     "output_type": "execute_result"
    }
   ],
   "source": [
    "_filter = {\n",
    "    \"utc_timestamp\": { \"$gte\" : get_utc_minutes_ago(60) },\n",
    "    \"experiment_id\": \"super-experiment\",\n",
    "    \"plugin_id\": {\"$in\": ['mlflow', 'dask']}\n",
    "}\n",
    "docs = query_api.query(_filter)\n",
    "docs"
   ]
  },
  {
   "cell_type": "markdown",
   "id": "4bfbac82-26e2-4164-987a-a1f2f9abe2ea",
   "metadata": {
    "tags": []
   },
   "source": [
    "### Get the tasks executed in my experiment in the last 60 minutes that generated a batch_size > 0"
   ]
  },
  {
   "cell_type": "code",
   "execution_count": 44,
   "id": "e7a854ec-987d-4136-976d-ff144ae6248e",
   "metadata": {},
   "outputs": [
    {
     "name": "stdout",
     "output_type": "stream",
     "text": [
      "task=dummy_func3-5711dd02e7574d2e484d545a9827112d, generated batch_size=19\n"
     ]
    },
    {
     "data": {
      "text/plain": [
       "[19]"
      ]
     },
     "execution_count": 44,
     "metadata": {},
     "output_type": "execute_result"
    }
   ],
   "source": [
    "_filter = {\n",
    "    \"utc_timestamp\": { \"$gte\" : get_utc_minutes_ago(60) },\n",
    "    \"experiment_id\": \"super-experiment\",\n",
    "    \"plugin_id\": 'dask',\n",
    "    \"generated.batch_size\": { \"$gte\" : 0 }\n",
    "}\n",
    "docs = query_api.query(filter=_filter)\n",
    "batch_sizes = []\n",
    "for doc in docs:\n",
    "    print(f\"task={doc['task_id']}, generated batch_size={doc['generated']['batch_size']}\")\n",
    "    batch_sizes.append(doc['generated']['batch_size'])\n",
    "batch_sizes"
   ]
  },
  {
   "cell_type": "markdown",
   "id": "e00a9290-1140-4047-954d-2239d0887a9b",
   "metadata": {
    "tags": []
   },
   "source": [
    "### Now run a new MLFlow task using the batch_sizes generated by the Dask workflow"
   ]
  },
  {
   "cell_type": "code",
   "execution_count": 49,
   "id": "e36f0135-af5e-407e-be5e-66055f260855",
   "metadata": {},
   "outputs": [
    {
     "name": "stdout",
     "output_type": "stream",
     "text": [
      "\n",
      "Trained model\n",
      "7f515374639d4631b1fcaaf4c0365902\n",
      "We need to intercept this Run: 7f515374639d4631b1fcaaf4c0365902\n",
      "Going to send to Redis an intercepted message:\n",
      "\t{\"task_id\": \"7f515374639d4631b1fcaaf4c0365902\", \"utc_timestamp\": 1675799022.065446, \"status\": \"FINISHED\", \"used\": {\"batch_size\": \"19\", \"number_epochs\": \"10\"}, \"generated\": {\"loss\": 0.04}, \"plugin_id\": \"mlflow\", \"user\": \"root\", \"experiment_id\": \"super-experiment\", \"sys_name\": \"Darwin\", \"node_name\": \"MAC132633\", \"login_name\": \"rsr\", \"public_ip\": \"2620:0:2b30:e0::4b9\", \"private_ip\": \"10.158.26.233\"}\n",
      "An intercepted message was received.\n",
      "Time to flush!\n"
     ]
    }
   ],
   "source": [
    "for batch_size in batch_sizes:\n",
    "    mlflow_task = run_mlflow_workflow(interceptor.settings.file_path, batch_size=batch_size)\n",
    "    print(mlflow_task)"
   ]
  },
  {
   "cell_type": "markdown",
   "id": "2b56e769-0c27-4e77-9cc3-bbaeb675a575",
   "metadata": {
    "tags": []
   },
   "source": [
    "### Get these tasks"
   ]
  },
  {
   "cell_type": "code",
   "execution_count": 50,
   "id": "d5afab03-897a-4eee-aec5-86743a72d45e",
   "metadata": {},
   "outputs": [
    {
     "data": {
      "text/plain": [
       "[{'task_id': '7f515374639d4631b1fcaaf4c0365902',\n",
       "  'utc_timestamp': 1675799022.065446,\n",
       "  'status': 'FINISHED',\n",
       "  'used': {'batch_size': '19', 'number_epochs': '10'},\n",
       "  'generated': {'loss': 0.04},\n",
       "  'plugin_id': 'mlflow',\n",
       "  'user': 'root',\n",
       "  'experiment_id': 'super-experiment',\n",
       "  'sys_name': 'Darwin',\n",
       "  'node_name': 'MAC132633',\n",
       "  'login_name': 'rsr',\n",
       "  'public_ip': '2620:0:2b30:e0::4b9',\n",
       "  'private_ip': '10.158.26.233',\n",
       "  'debug': True}]"
      ]
     },
     "execution_count": 50,
     "metadata": {},
     "output_type": "execute_result"
    },
    {
     "name": "stdout",
     "output_type": "stream",
     "text": [
      "An intercepted message was received.\n",
      "Time to flush!\n",
      "An intercepted message was received.\n",
      "An intercepted message was received.\n",
      "An intercepted message was received.\n",
      "An intercepted message was received.\n",
      "An intercepted message was received.\n",
      "An intercepted message was received.\n",
      "An intercepted message was received.\n",
      "An intercepted message was received.\n",
      "An intercepted message was received.\n",
      "Time to flush!\n",
      "An intercepted message was received.\n",
      "An intercepted message was received.\n",
      "An intercepted message was received.\n",
      "An intercepted message was received.\n",
      "An intercepted message was received.\n",
      "An intercepted message was received.\n",
      "Time to flush!\n",
      "An intercepted message was received.\n",
      "An intercepted message was received.\n",
      "An intercepted message was received.\n",
      "Time to flush!\n",
      "An intercepted message was received.\n",
      "An intercepted message was received.\n",
      "An intercepted message was received.\n",
      "Time to flush!\n",
      "An intercepted message was received.\n",
      "An intercepted message was received.\n",
      "An intercepted message was received.\n",
      "An intercepted message was received.\n",
      "An intercepted message was received.\n",
      "An intercepted message was received.\n",
      "We need to intercept this Run: 7f515374639d4631b1fcaaf4c0365902\n",
      "Going to send to Redis an intercepted message:\n",
      "\t{\"task_id\": \"7f515374639d4631b1fcaaf4c0365902\", \"utc_timestamp\": 1675806207.072091, \"status\": \"FINISHED\", \"used\": {\"batch_size\": \"19\", \"number_epochs\": \"10\"}, \"generated\": {\"loss\": 0.04}, \"plugin_id\": \"mlflow\", \"user\": \"root\", \"experiment_id\": \"super-experiment\", \"sys_name\": \"Darwin\", \"node_name\": \"MAC132633\", \"login_name\": \"rsr\", \"public_ip\": \"2620:0:2b30:e0::4b9\", \"private_ip\": \"10.158.26.233\"}\n",
      "An intercepted message was received.\n",
      "We need to intercept this Run: 6c88802fabaf4f0c8f5a72a502c7232b\n",
      "Going to send to Redis an intercepted message:\n",
      "\t{\"task_id\": \"6c88802fabaf4f0c8f5a72a502c7232b\", \"utc_timestamp\": 1675806207.078794, \"status\": \"FINISHED\", \"used\": {\"batch_size\": \"64\", \"number_epochs\": \"10\"}, \"generated\": {\"loss\": 0.04}, \"plugin_id\": \"mlflow\", \"user\": \"root\", \"experiment_id\": \"super-experiment\", \"sys_name\": \"Darwin\", \"node_name\": \"MAC132633\", \"login_name\": \"rsr\", \"public_ip\": \"2620:0:2b30:e0::4b9\", \"private_ip\": \"10.158.26.233\"}\n",
      "An intercepted message was received.\n",
      "We need to intercept this Run: 7350e40e10be43c6948ebb1cdff275cd\n",
      "Going to send to Redis an intercepted message:\n",
      "\t{\"task_id\": \"7350e40e10be43c6948ebb1cdff275cd\", \"utc_timestamp\": 1675806207.103158, \"status\": \"FINISHED\", \"used\": {\"batch_size\": \"64\", \"number_epochs\": \"10\"}, \"generated\": {\"loss\": 0.04}, \"plugin_id\": \"mlflow\", \"user\": \"root\", \"experiment_id\": \"super-experiment\", \"sys_name\": \"Darwin\", \"node_name\": \"MAC132633\", \"login_name\": \"rsr\", \"public_ip\": \"2620:0:2b30:e0::4b9\", \"private_ip\": \"10.158.26.233\"}\n",
      "An intercepted message was received.\n",
      "We need to intercept this Run: 957e996868634cf8a00c9aef2f6b1373\n",
      "Going to send to Redis an intercepted message:\n",
      "\t{\"task_id\": \"957e996868634cf8a00c9aef2f6b1373\", \"utc_timestamp\": 1675806207.108871, \"status\": \"FINISHED\", \"used\": {\"batch_size\": \"64\", \"number_epochs\": \"10\"}, \"generated\": {\"loss\": 0.04}, \"plugin_id\": \"mlflow\", \"user\": \"root\", \"experiment_id\": \"super-experiment\", \"sys_name\": \"Darwin\", \"node_name\": \"MAC132633\", \"login_name\": \"rsr\", \"public_ip\": \"2620:0:2b30:e0::4b9\", \"private_ip\": \"10.158.26.233\"}\n",
      "An intercepted message was received.\n",
      "We need to intercept this Run: 69dd04cbea944c5b80b723426079b187\n",
      "Going to send to Redis an intercepted message:\n",
      "\t{\"task_id\": \"69dd04cbea944c5b80b723426079b187\", \"utc_timestamp\": 1675806207.114726, \"status\": \"FINISHED\", \"used\": {\"batch_size\": \"64\", \"number_epochs\": \"10\"}, \"generated\": {\"loss\": 0.04}, \"plugin_id\": \"mlflow\", \"user\": \"root\", \"experiment_id\": \"super-experiment\", \"sys_name\": \"Darwin\", \"node_name\": \"MAC132633\", \"login_name\": \"rsr\", \"public_ip\": \"2620:0:2b30:e0::4b9\", \"private_ip\": \"10.158.26.233\"}\n",
      "An intercepted message was received.\n",
      "We need to intercept this Run: f87bab635acb4e6fac48aa4dbb7ad9b2\n",
      "Going to send to Redis an intercepted message:\n",
      "\t{\"task_id\": \"f87bab635acb4e6fac48aa4dbb7ad9b2\", \"utc_timestamp\": 1675806207.12467, \"status\": \"FINISHED\", \"used\": {\"batch_size\": \"64\", \"number_epochs\": \"10\"}, \"generated\": {\"loss\": 0.04}, \"plugin_id\": \"mlflow\", \"user\": \"root\", \"experiment_id\": \"super-experiment\", \"sys_name\": \"Darwin\", \"node_name\": \"MAC132633\", \"login_name\": \"rsr\", \"public_ip\": \"2620:0:2b30:e0::4b9\", \"private_ip\": \"10.158.26.233\"}\n",
      "An intercepted message was received.\n",
      "We need to intercept this Run: d752f865d4ed46a89e33a35465ae5246\n",
      "Going to send to Redis an intercepted message:\n",
      "\t{\"task_id\": \"d752f865d4ed46a89e33a35465ae5246\", \"utc_timestamp\": 1675806207.139696, \"status\": \"FINISHED\", \"used\": {\"batch_size\": \"64\", \"number_epochs\": \"10\"}, \"generated\": {\"loss\": 0.04}, \"plugin_id\": \"mlflow\", \"user\": \"root\", \"experiment_id\": \"super-experiment\", \"sys_name\": \"Darwin\", \"node_name\": \"MAC132633\", \"login_name\": \"rsr\", \"public_ip\": \"2620:0:2b30:e0::4b9\", \"private_ip\": \"10.158.26.233\"}\n",
      "An intercepted message was received.\n",
      "We need to intercept this Run: b1e4fe1f3df4490da50889d471246ce0\n",
      "Going to send to Redis an intercepted message:\n",
      "\t{\"task_id\": \"b1e4fe1f3df4490da50889d471246ce0\", \"utc_timestamp\": 1675806207.197915, \"status\": \"FINISHED\", \"used\": {\"batch_size\": \"64\", \"number_epochs\": \"10\"}, \"generated\": {\"loss\": 0.04}, \"plugin_id\": \"mlflow\", \"user\": \"root\", \"experiment_id\": \"super-experiment\", \"sys_name\": \"Darwin\", \"node_name\": \"MAC132633\", \"login_name\": \"rsr\", \"public_ip\": \"2620:0:2b30:e0::4b9\", \"private_ip\": \"10.158.26.233\"}\n",
      "An intercepted message was received.\n",
      "Time to flush!\n",
      "An intercepted message was received.\n",
      "Time to flush!\n",
      "An intercepted message was received.\n",
      "Time to flush!\n",
      "An intercepted message was received.\n",
      "Time to flush!\n"
     ]
    }
   ],
   "source": [
    "_filter = {\n",
    "    \"task_id\": mlflow_task\n",
    "}\n",
    "docs = query_api.query(filter=_filter)\n",
    "docs"
   ]
  }
 ],
 "metadata": {
  "kernelspec": {
   "display_name": "Python 3 (ipykernel)",
   "language": "python",
   "name": "python3"
  },
  "language_info": {
   "codemirror_mode": {
    "name": "ipython",
    "version": 3
   },
   "file_extension": ".py",
   "mimetype": "text/x-python",
   "name": "python",
   "nbconvert_exporter": "python",
   "pygments_lexer": "ipython3",
   "version": "3.10.9"
  }
 },
 "nbformat": 4,
 "nbformat_minor": 5
}
