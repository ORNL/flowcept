{
 "cells": [
  {
   "cell_type": "code",
   "execution_count": null,
   "id": "20dcc9d3-8895-4159-8892-5c7968c5a0ac",
   "metadata": {
    "tags": []
   },
   "outputs": [],
   "source": [
    "# Sleeps are used because these notebooks are being tested automatically as part of the CI/CD. \n",
    "# In a normal user interaction, these sleeps would not be necessary.\n",
    "from time import sleep"
   ]
  },
  {
   "cell_type": "code",
   "execution_count": null,
   "id": "710ec404-47c9-4e01-a0f4-a3e22eb9598b",
   "metadata": {},
   "outputs": [],
   "source": [
    "def connect_zambeze_queue():\n",
    "    import pika\n",
    "    connection = pika.BlockingConnection(\n",
    "        pika.ConnectionParameters('localhost', 5672)\n",
    "    )\n",
    "    channel = connection.channel()\n",
    "    channel.queue_declare('hello')\n",
    "    return channel\n",
    "\n",
    "def send_zambeze_message(channel):\n",
    "    from uuid import uuid4\n",
    "    import json\n",
    "    another_act_id = str(uuid4())\n",
    "    act_id = str(uuid4())\n",
    "    msg = {\n",
    "            \"name\": \"ImageMagick\",\n",
    "            \"activity_id\": act_id,\n",
    "            \"campaign_id\": \"campaign-uuid\",\n",
    "            \"origin_agent_id\": \"def-uuid\",\n",
    "            \"files\": [\"globus://Users/6o1/file.txt\"],\n",
    "            \"command\": \"convert\",\n",
    "            \"activity_status\": \"CREATED\",\n",
    "            \"arguments\": [\n",
    "                \"-delay\",\n",
    "                \"20\",\n",
    "                \"-loop\",\n",
    "                \"0\",\n",
    "                \"~/tests/campaigns/imagesequence/*.jpg\",\n",
    "                \"a.gif\",\n",
    "            ],\n",
    "            \"kwargs\": {},\n",
    "            \"depends_on\": [another_act_id],\n",
    "    }\n",
    "    channel.basic_publish(\n",
    "        exchange=\"\",\n",
    "        routing_key=\"hello\",\n",
    "        body=json.dumps(msg),\n",
    "    )\n",
    "    return act_id"
   ]
  },
  {
   "cell_type": "code",
   "execution_count": null,
   "id": "9cc8a753-0fd6-40d9-ba07-25621b22d0f1",
   "metadata": {
    "tags": []
   },
   "outputs": [],
   "source": [
    "# Set log levels\n",
    "import os\n",
    "os.environ['LOG_STREAM_LEVEL'] = \"error\"\n",
    "os.environ['LOG_FILE_LEVEL'] = \"debug\""
   ]
  },
  {
   "cell_type": "markdown",
   "id": "ab40e7aa-a87f-4c8d-bac3-2d41bf2e5d40",
   "metadata": {},
   "source": [
    "## Start Zambeze Flowceptor"
   ]
  },
  {
   "cell_type": "code",
   "execution_count": null,
   "id": "6d04a420-97aa-426b-a700-99c21318add7",
   "metadata": {},
   "outputs": [],
   "source": [
    "from flowcept import ZambezeInterceptor\n",
    "interceptor = ZambezeInterceptor()"
   ]
  },
  {
   "cell_type": "code",
   "execution_count": null,
   "id": "fe597f91-4a2b-4b3e-aa8e-2c19c5b4f0ce",
   "metadata": {},
   "outputs": [],
   "source": [
    "from flowcept import FlowceptConsumerAPI\n",
    "consumer = FlowceptConsumerAPI(interceptor)\n",
    "consumer.start()"
   ]
  },
  {
   "cell_type": "markdown",
   "id": "b28d0a53-7c14-46c5-bb46-872594a49c8d",
   "metadata": {},
   "source": [
    "## Send Zambeze Message"
   ]
  },
  {
   "cell_type": "code",
   "execution_count": null,
   "id": "d76d4b5a-21f3-43a6-9e5b-574e3b2a3bb1",
   "metadata": {},
   "outputs": [],
   "source": [
    "channel = connect_zambeze_queue()"
   ]
  },
  {
   "cell_type": "code",
   "execution_count": null,
   "id": "11bdd8d0-3be3-4e9e-bcc6-733653c3c097",
   "metadata": {},
   "outputs": [],
   "source": [
    "act_id = send_zambeze_message(channel)\n",
    "act_id"
   ]
  },
  {
   "cell_type": "code",
   "execution_count": null,
   "id": "cb06f2c0-32f9-45db-b2dc-c2acccf9e764",
   "metadata": {},
   "outputs": [],
   "source": [
    "sleep(10)"
   ]
  },
  {
   "cell_type": "markdown",
   "id": "b9f36a26-e27b-4e22-8a35-d6f018726c8f",
   "metadata": {},
   "source": [
    "## Check the task in Flowcept's database"
   ]
  },
  {
   "cell_type": "code",
   "execution_count": null,
   "id": "8674ac56-96cf-4e7e-8c4b-7470808c5037",
   "metadata": {},
   "outputs": [],
   "source": [
    "from flowcept import TaskQueryAPI\n",
    "query_api = TaskQueryAPI()"
   ]
  },
  {
   "cell_type": "code",
   "execution_count": null,
   "id": "ea981434-215b-4e7e-8b2d-be998dc5ce96",
   "metadata": {},
   "outputs": [],
   "source": [
    "_filter = {\"task_id\": act_id}\n",
    "query_api.query(_filter)"
   ]
  },
  {
   "cell_type": "markdown",
   "id": "e108e673-78c2-49b7-91a2-8954c93976de",
   "metadata": {
    "tags": []
   },
   "source": [
    "## Stop consumer"
   ]
  },
  {
   "cell_type": "code",
   "execution_count": null,
   "id": "feb37d75-7ad6-4b0a-8213-70af8718c3b4",
   "metadata": {},
   "outputs": [],
   "source": [
    "consumer.stop()"
   ]
  },
  {
   "cell_type": "code",
   "execution_count": null,
   "id": "d35f25ad-2c42-41e3-bfe9-64203e5ab0d3",
   "metadata": {},
   "outputs": [],
   "source": []
  }
 ],
 "metadata": {
  "kernelspec": {
   "display_name": "Python 3 (ipykernel)",
   "language": "python",
   "name": "python3"
  },
  "language_info": {
   "codemirror_mode": {
    "name": "ipython",
    "version": 3
   },
   "file_extension": ".py",
   "mimetype": "text/x-python",
   "name": "python",
   "nbconvert_exporter": "python",
   "pygments_lexer": "ipython3",
   "version": "3.8.16"
  }
 },
 "nbformat": 4,
 "nbformat_minor": 5
}
