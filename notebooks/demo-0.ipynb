{
 "cells": [
  {
   "cell_type": "code",
   "execution_count": 5,
   "id": "3a162086-a2fb-4f5e-81b3-8ede9592c880",
   "metadata": {
    "tags": []
   },
   "outputs": [],
   "source": [
    "def dummy_func1(x, workflow_id=None):\n",
    "    return x * 2\n",
    "\n",
    "\n",
    "def dummy_func2(y, workflow_id=None):\n",
    "    return y + y\n",
    "\n",
    "\n",
    "def dummy_func3(z, w, workflow_id=None):\n",
    "    return {\"r\": z + w}\n"
   ]
  },
  {
   "cell_type": "code",
   "execution_count": 1,
   "id": "b2eb33ef-8527-417e-882b-b5e6a335b727",
   "metadata": {
    "tags": []
   },
   "outputs": [],
   "source": [
    "def setup_local_dask_cluster():\n",
    "    from dask.distributed import Client, LocalCluster\n",
    "    from flowcept.flowceptor.plugins.dask.dask_plugins import (\n",
    "        FlowceptDaskSchedulerPlugin,\n",
    "        FlowceptDaskWorkerPlugin,\n",
    "    )\n",
    "\n",
    "    cluster = LocalCluster(n_workers=2)\n",
    "    scheduler = cluster.scheduler\n",
    "    client = Client(scheduler.address)\n",
    "\n",
    "    # Instantiate and Register FlowceptPlugins\n",
    "    scheduler_plugin = FlowceptDaskSchedulerPlugin(scheduler)\n",
    "    scheduler.add_plugin(scheduler_plugin)\n",
    "\n",
    "    worker_plugin = FlowceptDaskWorkerPlugin()\n",
    "    client.register_worker_plugin(worker_plugin)\n",
    "\n",
    "    return client"
   ]
  },
  {
   "cell_type": "markdown",
   "id": "06dd06c0-7436-4a8b-b57f-afacaef1a122",
   "metadata": {},
   "source": [
    "## Initializing Dask Cluster"
   ]
  },
  {
   "cell_type": "code",
   "execution_count": 2,
   "id": "1a6a4a2e-7479-4425-bdf1-b2186f780c3c",
   "metadata": {
    "tags": []
   },
   "outputs": [
    {
     "name": "stderr",
     "output_type": "stream",
     "text": [
      "/Users/rsr/opt/miniconda3/envs/flowcept/lib/python3.10/site-packages/distributed/node.py:182: UserWarning: Port 8787 is already in use.\n",
      "Perhaps you already have a cluster running?\n",
      "Hosting the HTTP server on port 56040 instead\n",
      "  warnings.warn(\n",
      "WARNING:bokeh.server.util:Host wildcard '*' will allow connections originating from multiple (or possibly all) hostnames or IPs. Use non-wildcard values to restrict access explicitly\n"
     ]
    }
   ],
   "source": [
    "dask_client = setup_local_dask_cluster()\n",
    "dask_client"
   ]
  },
  {
   "cell_type": "markdown",
   "id": "628b7e8b-4c07-4545-b309-9436d32048f3",
   "metadata": {
    "tags": []
   },
   "source": [
    "## Initializing Flowcept Consumer"
   ]
  },
  {
   "cell_type": "code",
   "execution_count": 3,
   "id": "0396701f-f2d0-4f0c-bba8-8de8e6976cbb",
   "metadata": {
    "tags": []
   },
   "outputs": [],
   "source": [
    "from flowcept.flowcept_api import FlowceptConsumerAPI"
   ]
  },
  {
   "cell_type": "code",
   "execution_count": 4,
   "id": "9e2e0b9f-5e5e-469d-8457-6f5b7abfd95b",
   "metadata": {
    "tags": []
   },
   "outputs": [
    {
     "name": "stdout",
     "output_type": "stream",
     "text": [
      "Flowcept Observer starting...\n",
      "Ok, we're observing!\n"
     ]
    }
   ],
   "source": [
    "consumer = FlowceptConsumerAPI()\n",
    "consumer.start()"
   ]
  },
  {
   "cell_type": "markdown",
   "id": "0c25b103-c4e1-4331-b4d0-e5fa7bdbacd8",
   "metadata": {
    "tags": []
   },
   "source": [
    "## Running a simple workflow"
   ]
  },
  {
   "cell_type": "code",
   "execution_count": 7,
   "id": "09bca517-093d-4a49-8691-aba285d0a8e4",
   "metadata": {
    "tags": []
   },
   "outputs": [
    {
     "name": "stdout",
     "output_type": "stream",
     "text": [
      "Workflow_Id=wf_523f0356-279f-4bf4-a0fd-7099e888f6ce\n",
      "Going to send to Redis an intercepted message:\n",
      "\t{\"task_id\": \"dummy_func1-5c9abf960cdbe419c9c1bdc7d44b25ac\", \"custom_metadata\": {\"scheduler\": \"tcp://127.0.0.1:56041\", \"scheduler_id\": \"Scheduler-fcbdb35d-e02e-4625-a763-ef85d7f63170\", \"scheduler_pid\": 54082}, \"status\": \"SUBMITTED\", \"utc_timestamp\": 1675750224.341255, \"activity_id\": \"dummy_func1\", \"used\": {\"arg0\": 0.25180804780289245}, \"workflow_id\": \"wf_523f0356-279f-4bf4-a0fd-7099e888f6ce\"}\n",
      "An intercepted message was received.\n",
      "Going to send to Redis an intercepted message:\n",
      "\t{\"task_id\": \"dummy_func2-3dbfdcc8b109576f7a3189a1c3fd7f35\", \"custom_metadata\": {\"scheduler\": \"tcp://127.0.0.1:56041\", \"scheduler_id\": \"Scheduler-fcbdb35d-e02e-4625-a763-ef85d7f63170\", \"scheduler_pid\": 54082}, \"status\": \"SUBMITTED\", \"utc_timestamp\": 1675750224.356819, \"dependencies\": [\"dummy_func1-5c9abf960cdbe419c9c1bdc7d44b25ac\"], \"activity_id\": \"dummy_func2\", \"used\": {\"arg0\": \"dummy_func1-5c9abf960cdbe419c9c1bdc7d44b25ac\"}, \"workflow_id\": \"wf_523f0356-279f-4bf4-a0fd-7099e888f6ce\"}\n",
      "Going to send to Redis an intercepted message:\n",
      "\t{\"task_id\": \"dummy_func3-e4c414c83c7721f9e9e221634b04df50\", \"custom_metadata\": {\"scheduler\": \"tcp://127.0.0.1:56041\", \"scheduler_id\": \"Scheduler-fcbdb35d-e02e-4625-a763-ef85d7f63170\", \"scheduler_pid\": 54082}, \"status\": \"SUBMITTED\", \"utc_timestamp\": 1675750224.361974, \"dependencies\": [\"dummy_func2-3dbfdcc8b109576f7a3189a1c3fd7f35\", \"dummy_func1-5c9abf960cdbe419c9c1bdc7d44b25ac\"], \"activity_id\": \"dummy_func3\", \"used\": {\"arg0\": \"dummy_func1-5c9abf960cdbe419c9c1bdc7d44b25ac\", \"arg1\": \"dummy_func2-3dbfdcc8b109576f7a3189a1c3fd7f35\"}, \"workflow_id\": \"wf_523f0356-279f-4bf4-a0fd-7099e888f6ce\"}\n",
      "An intercepted message was received.\n",
      "An intercepted message was received.\n",
      "An intercepted message was received.\n",
      "An intercepted message was received.\n",
      "An intercepted message was received.\n",
      "An intercepted message was received.\n",
      "An intercepted message was received.\n",
      "An intercepted message was received.\n",
      "Result={'r': 1.5108482868173547}\n",
      "Task3_id=dummy_func3-e4c414c83c7721f9e9e221634b04df50\n",
      "Time to flush!\n"
     ]
    }
   ],
   "source": [
    "import numpy as np\n",
    "from uuid import uuid4\n",
    "i1 = np.random.random()\n",
    "i1 = np.random.random()\n",
    "wf_id = f\"wf_{uuid4()}\"\n",
    "print(f\"Workflow_Id={wf_id}\")\n",
    "o1 = dask_client.submit(dummy_func1, i1, workflow_id=wf_id)\n",
    "o2 = dask_client.submit(dummy_func2, o1, workflow_id=wf_id)\n",
    "o3 = dask_client.submit(dummy_func3, o1, o2, workflow_id=wf_id)\n",
    "print(f\"Result={o3.result()}\")\n",
    "print(f\"Task3_id={o3.key}\")"
   ]
  },
  {
   "cell_type": "code",
   "execution_count": 12,
   "id": "2edea6ea-03cd-4f09-8322-03a0896d5d01",
   "metadata": {
    "tags": []
   },
   "outputs": [],
   "source": [
    "from flowcept.flowcept_api import TaskQueryAPI\n",
    "query_api = TaskQueryAPI()"
   ]
  },
  {
   "cell_type": "markdown",
   "id": "8c017dce-df7e-4709-9481-94d9535e9da6",
   "metadata": {
    "tags": []
   },
   "source": [
    "## Retrieving all tasks from this workflow"
   ]
  },
  {
   "cell_type": "code",
   "execution_count": 11,
   "id": "9f7d5f12-9e21-4902-88da-eba1965a2ca7",
   "metadata": {
    "tags": []
   },
   "outputs": [
    {
     "data": {
      "text/plain": [
       "[{'task_id': 'dummy_func1-5c9abf960cdbe419c9c1bdc7d44b25ac',\n",
       "  'custom_metadata': {'scheduler': 'tcp://127.0.0.1:56041',\n",
       "   'scheduler_id': 'Scheduler-fcbdb35d-e02e-4625-a763-ef85d7f63170',\n",
       "   'scheduler_pid': 54082},\n",
       "  'status': 'FINISHED',\n",
       "  'utc_timestamp': 1675750224.341255,\n",
       "  'activity_id': 'dummy_func1',\n",
       "  'used': {'arg0': 0.25180804780289245},\n",
       "  'workflow_id': 'wf_523f0356-279f-4bf4-a0fd-7099e888f6ce',\n",
       "  'debug': True,\n",
       "  'address': 'tcp://127.0.0.1:56048',\n",
       "  'generated': {'arg1': 0.5036160956057849},\n",
       "  'start_time': 1675732224.3790236,\n",
       "  'end_time': 1675732224.3790295},\n",
       " {'task_id': 'dummy_func2-3dbfdcc8b109576f7a3189a1c3fd7f35',\n",
       "  'custom_metadata': {'scheduler': 'tcp://127.0.0.1:56041',\n",
       "   'scheduler_id': 'Scheduler-fcbdb35d-e02e-4625-a763-ef85d7f63170',\n",
       "   'scheduler_pid': 54082},\n",
       "  'status': 'FINISHED',\n",
       "  'utc_timestamp': 1675750224.356819,\n",
       "  'dependencies': ['dummy_func1-5c9abf960cdbe419c9c1bdc7d44b25ac'],\n",
       "  'activity_id': 'dummy_func2',\n",
       "  'used': {'arg0': 'dummy_func1-5c9abf960cdbe419c9c1bdc7d44b25ac'},\n",
       "  'workflow_id': 'wf_523f0356-279f-4bf4-a0fd-7099e888f6ce',\n",
       "  'debug': True,\n",
       "  'address': 'tcp://127.0.0.1:56048',\n",
       "  'generated': {'arg1': 1.0072321912115698},\n",
       "  'start_time': 1675732224.3836286,\n",
       "  'end_time': 1675732224.3836324},\n",
       " {'task_id': 'dummy_func3-e4c414c83c7721f9e9e221634b04df50',\n",
       "  'custom_metadata': {'scheduler': 'tcp://127.0.0.1:56041',\n",
       "   'scheduler_id': 'Scheduler-fcbdb35d-e02e-4625-a763-ef85d7f63170',\n",
       "   'scheduler_pid': 54082},\n",
       "  'status': 'FINISHED',\n",
       "  'utc_timestamp': 1675750224.361974,\n",
       "  'dependencies': ['dummy_func2-3dbfdcc8b109576f7a3189a1c3fd7f35',\n",
       "   'dummy_func1-5c9abf960cdbe419c9c1bdc7d44b25ac'],\n",
       "  'activity_id': 'dummy_func3',\n",
       "  'used': {'arg0': 'dummy_func1-5c9abf960cdbe419c9c1bdc7d44b25ac',\n",
       "   'arg1': 'dummy_func2-3dbfdcc8b109576f7a3189a1c3fd7f35'},\n",
       "  'workflow_id': 'wf_523f0356-279f-4bf4-a0fd-7099e888f6ce',\n",
       "  'debug': True,\n",
       "  'address': 'tcp://127.0.0.1:56048',\n",
       "  'generated': {'r': 1.5108482868173547},\n",
       "  'start_time': 1675732224.3884666,\n",
       "  'end_time': 1675732224.3884807}]"
      ]
     },
     "execution_count": 11,
     "metadata": {},
     "output_type": "execute_result"
    }
   ],
   "source": [
    "_filter = {\"workflow_id\": wf_id}\n",
    "query_api.query(_filter)"
   ]
  },
  {
   "cell_type": "markdown",
   "id": "a7209a6d-ed78-4b40-b871-f2858fa3f213",
   "metadata": {
    "tags": []
   },
   "source": [
    "## Retrieving only task3"
   ]
  },
  {
   "cell_type": "code",
   "execution_count": 15,
   "id": "b0d72845-0951-4756-91fc-3c1f7a43a69f",
   "metadata": {
    "tags": []
   },
   "outputs": [
    {
     "data": {
      "text/plain": [
       "[{'task_id': 'dummy_func3-e4c414c83c7721f9e9e221634b04df50',\n",
       "  'custom_metadata': {'scheduler': 'tcp://127.0.0.1:56041',\n",
       "   'scheduler_id': 'Scheduler-fcbdb35d-e02e-4625-a763-ef85d7f63170',\n",
       "   'scheduler_pid': 54082},\n",
       "  'status': 'FINISHED',\n",
       "  'utc_timestamp': 1675750224.361974,\n",
       "  'dependencies': ['dummy_func2-3dbfdcc8b109576f7a3189a1c3fd7f35',\n",
       "   'dummy_func1-5c9abf960cdbe419c9c1bdc7d44b25ac'],\n",
       "  'activity_id': 'dummy_func3',\n",
       "  'used': {'arg0': 'dummy_func1-5c9abf960cdbe419c9c1bdc7d44b25ac',\n",
       "   'arg1': 'dummy_func2-3dbfdcc8b109576f7a3189a1c3fd7f35'},\n",
       "  'workflow_id': 'wf_523f0356-279f-4bf4-a0fd-7099e888f6ce',\n",
       "  'debug': True,\n",
       "  'address': 'tcp://127.0.0.1:56048',\n",
       "  'generated': {'r': 1.5108482868173547},\n",
       "  'start_time': 1675732224.3884666,\n",
       "  'end_time': 1675732224.3884807}]"
      ]
     },
     "execution_count": 15,
     "metadata": {},
     "output_type": "execute_result"
    }
   ],
   "source": [
    "_filter = {\"task_id\": o3.key}\n",
    "query_api.query(_filter)"
   ]
  },
  {
   "cell_type": "code",
   "execution_count": null,
   "id": "7c073c85-f65a-4d4f-bc2d-370604b3d8f4",
   "metadata": {},
   "outputs": [],
   "source": []
  }
 ],
 "metadata": {
  "kernelspec": {
   "display_name": "Python 3 (ipykernel)",
   "language": "python",
   "name": "python3"
  },
  "language_info": {
   "codemirror_mode": {
    "name": "ipython",
    "version": 3
   },
   "file_extension": ".py",
   "mimetype": "text/x-python",
   "name": "python",
   "nbconvert_exporter": "python",
   "pygments_lexer": "ipython3",
   "version": "3.10.9"
  }
 },
 "nbformat": 4,
 "nbformat_minor": 5
}
