{
 "cells": [
  {
   "attachments": {},
   "cell_type": "markdown",
   "id": "3c55f687-3544-4424-9cd4-937001515757",
   "metadata": {},
   "source": [
    "# Running Dask+FlowCept\n",
    "\n",
    "### With Dask being launched from the CLI.\n",
    "\n",
    "#### Steps\n",
    "\n",
    "1. Create a `dask_scheduler_setup.py` file with following content:\n",
    "```python\n",
    "from flowcept import FlowceptDaskSchedulerPlugin\n",
    "\n",
    "def dask_setup(scheduler):\n",
    "    scheduler_plugin = FlowceptDaskSchedulerPlugin(scheduler)\n",
    "    scheduler.add_plugin(scheduler_plugin)    \n",
    "```\n",
    "\n",
    "2. Start the scheduler:\n",
    "\n",
    "```shell\n",
    "dask scheduler --preload dask_scheduler_setup.py --interface='lo0' --no-dashboard --no-show  --scheduler-file 'scheduler_file.json' \n",
    "```\n",
    "\n",
    "3. Start each worker:\n",
    "\n",
    "```shell\n",
    "dask worker --scheduler-file 'scheduler_file.json'\n",
    "```\n",
    "\n",
    "4. In user code, instantiate a FlowCept worker plugin and register it from the client:\n",
    "\n",
    "```python\n",
    "from flowcept import FlowceptDaskWorkerPlugin\n",
    "worker_plugin = FlowceptDaskWorkerPlugin()\n",
    "...\n",
    "client.register_worker_plugin(worker_plugin)\n",
    "```\n",
    "\n",
    "PS: Step 4 could be avoided, but I could not make it run using Dask's configuration file in `~/.config/dask/settings.yaml`. It simply does not register the worker's plugin. Tried both client and worker setup. See [link](https://docs.dask.org/en/stable/how-to/customize-initialization.html#configuration).\n"
   ]
  },
  {
   "cell_type": "code",
   "execution_count": null,
   "id": "e04cc1b3",
   "metadata": {},
   "outputs": [],
   "source": [
    "from flowcept import FlowceptConsumerAPI\n",
    "consumer = FlowceptConsumerAPI()\n",
    "consumer.start()"
   ]
  },
  {
   "cell_type": "code",
   "execution_count": 4,
   "id": "c4f6d1bb-1041-44d9-8cb2-53ada6925630",
   "metadata": {
    "tags": []
   },
   "outputs": [],
   "source": [
    "def my_sum(x):\n",
    "    return x+x"
   ]
  },
  {
   "cell_type": "code",
   "execution_count": 2,
   "id": "902961bc-5b00-4b43-a69b-c1e0e700c847",
   "metadata": {
    "tags": []
   },
   "outputs": [],
   "source": [
    "from dask.distributed import Client\n",
    "client = Client(scheduler_file='dask_scheduler.json')"
   ]
  },
  {
   "cell_type": "code",
   "execution_count": null,
   "id": "cd1711e6",
   "metadata": {},
   "outputs": [],
   "source": [
    "from flowcept import FlowceptDaskWorkerPlugin\n",
    "worker_plugin = FlowceptDaskWorkerPlugin()\n",
    "client.register_worker_plugin(worker_plugin)"
   ]
  },
  {
   "cell_type": "code",
   "execution_count": 5,
   "id": "a82635b1-457a-450b-ba42-abdfaf1c22ff",
   "metadata": {
    "tags": []
   },
   "outputs": [
    {
     "data": {
      "text/html": [
       "<strong>Future: my_sum</strong>\n",
       "<span style=\"color: var(--jp-ui-font-color2, gray)\"> status: </span>\n",
       "\n",
       "\n",
       "<span style=\"color: var(--jp-error-color0, black)\">pending</span>,\n",
       "\n",
       "\n",
       "\n",
       "<span style=\"color: var(--jp-ui-font-color2, gray)\"> type:</span> NoneType,\n",
       "\n",
       "\n",
       "<span style=\"color: var(--jp-ui-font-color2, gray)\"> key:</span> my_sum-9820ad4a7880e5d5c29f929c606133a2"
      ],
      "text/plain": [
       "<Future: pending, key: my_sum-9820ad4a7880e5d5c29f929c606133a2>"
      ]
     },
     "execution_count": 5,
     "metadata": {},
     "output_type": "execute_result"
    },
    {
     "name": "stderr",
     "output_type": "stream",
     "text": [
      "[flowcept][DEBUG][pid=88427][function=handle_task_message][An intercepted message was received.]\n"
     ]
    }
   ],
   "source": [
    "o1 = client.submit(my_sum, 37)\n",
    "o1"
   ]
  },
  {
   "cell_type": "code",
   "execution_count": 7,
   "id": "e7b231be-ca87-4eea-81a2-c2221713ea09",
   "metadata": {
    "tags": []
   },
   "outputs": [
    {
     "data": {
      "text/plain": [
       "74"
      ]
     },
     "execution_count": 7,
     "metadata": {},
     "output_type": "execute_result"
    },
    {
     "name": "stderr",
     "output_type": "stream",
     "text": [
      "[flowcept][DEBUG][pid=88427][function=time_based_flushing][Time to flush!]\n",
      "[flowcept][DEBUG][pid=88427][function=handle_task_message][An intercepted message was received.]\n",
      "[flowcept][DEBUG][pid=88427][function=handle_task_message][An intercepted message was received.]\n",
      "[flowcept][DEBUG][pid=88427][function=time_based_flushing][Time to flush!]\n"
     ]
    }
   ],
   "source": [
    "o1.result()"
   ]
  },
  {
   "cell_type": "code",
   "execution_count": null,
   "id": "40447b64-e97d-41f9-aac3-fcec4edf2aa4",
   "metadata": {},
   "outputs": [],
   "source": [
    "consumer.stop()"
   ]
  }
 ],
 "metadata": {
  "kernelspec": {
   "display_name": "Python 3 (ipykernel)",
   "language": "python",
   "name": "python3"
  },
  "language_info": {
   "codemirror_mode": {
    "name": "ipython",
    "version": 3
   },
   "file_extension": ".py",
   "mimetype": "text/x-python",
   "name": "python",
   "nbconvert_exporter": "python",
   "pygments_lexer": "ipython3",
   "version": "3.8.16"
  }
 },
 "nbformat": 4,
 "nbformat_minor": 5
}
