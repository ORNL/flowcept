{
 "cells": [
  {
   "cell_type": "code",
   "execution_count": 1,
   "id": "e7f738dd-4e78-4707-a0b4-b7ddc729a635",
   "metadata": {
    "tags": []
   },
   "outputs": [],
   "source": [
    "! python reset_dask_nb_exec_counts.py   \n",
    "! rm -f output.log\n",
    "# This notebook is causing a silly bug after starting dask cluster. \n",
    "# This command just resets the nb's execution counts to fix it. \n",
    "# Just save the notebook (cmd+s) after you run dask cluster setup."
   ]
  },
  {
   "cell_type": "code",
   "execution_count": 2,
   "id": "0d399983-63f2-4f0d-acdc-6e3ff4abbb4d",
   "metadata": {
    "tags": []
   },
   "outputs": [],
   "source": [
    "# Sleeps are used because these notebooks are being tested automatically as part of the CI/CD. \n",
    "# In a normal user interaction, these sleeps would not be necessary.\n",
    "from time import sleep"
   ]
  },
  {
   "cell_type": "code",
   "execution_count": 3,
   "id": "50721f98-6f40-4bd9-83f1-56e83e75aa8b",
   "metadata": {
    "tags": []
   },
   "outputs": [],
   "source": [
    "def dummy_func1(x, workflow_id=None):\n",
    "    return x * 2\n",
    "\n",
    "\n",
    "def dummy_func2(y, workflow_id=None):\n",
    "    return y + y\n",
    "\n",
    "\n",
    "def calculate_batch_and_epochs(z, w, workflow_id=None):\n",
    "    return {\n",
    "        \"batch_size\": int(z + w + 16),\n",
    "        \"epochs\": max(int(z/w)+1, 2)\n",
    "    }"
   ]
  },
  {
   "cell_type": "code",
   "execution_count": 4,
   "id": "96555b6d-d06e-4b3c-8655-16a1644696c2",
   "metadata": {
    "tags": []
   },
   "outputs": [],
   "source": [
    "# Optionally set up env vars to control Flowcept's log level\n",
    "import os\n",
    "os.environ['LOG_STREAM_LEVEL'] = \"error\"\n",
    "os.environ['LOG_FILE_LEVEL'] = \"debug\""
   ]
  },
  {
   "cell_type": "code",
   "execution_count": 5,
   "id": "47a4cf2c-4b5c-4fe5-9973-cda2734b0623",
   "metadata": {
    "tags": []
   },
   "outputs": [],
   "source": [
    "def setup_local_dask_cluster():\n",
    "    from dask.distributed import Client, LocalCluster\n",
    "    from flowcept import (\n",
    "        FlowceptDaskSchedulerPlugin,\n",
    "        FlowceptDaskWorkerPlugin,\n",
    "    )\n",
    "    cluster = LocalCluster(n_workers=2)\n",
    "    scheduler = cluster.scheduler\n",
    "    client = Client(scheduler.address)\n",
    "\n",
    "    # Instantiate and Register FlowceptPlugins\n",
    "    scheduler_plugin = FlowceptDaskSchedulerPlugin(scheduler)\n",
    "    scheduler.add_plugin(scheduler_plugin)\n",
    "    worker_plugin = FlowceptDaskWorkerPlugin()\n",
    "    client.register_worker_plugin(worker_plugin)\n",
    "    \n",
    "    return client"
   ]
  },
  {
   "cell_type": "markdown",
   "id": "6c8b6db8-4d7f-4f2c-97d5-5cb13b5f5f8e",
   "metadata": {},
   "source": [
    "## Start Flowcept's Consumer"
   ]
  },
  {
   "cell_type": "code",
   "execution_count": 6,
   "id": "b1e311c3-ca2a-4cf5-9a38-6742c91a0035",
   "metadata": {
    "tags": []
   },
   "outputs": [],
   "source": [
    "from flowcept import FlowceptConsumerAPI\n",
    "consumer = FlowceptConsumerAPI()"
   ]
  },
  {
   "cell_type": "code",
   "execution_count": 7,
   "id": "fe609b49-28cf-4f2c-9027-ee7bc51fb86a",
   "metadata": {
    "tags": []
   },
   "outputs": [
    {
     "data": {
      "text/plain": [
       "<flowcept.flowcept_api.consumer_api.FlowceptConsumerAPI at 0x107408f10>"
      ]
     },
     "execution_count": 7,
     "metadata": {},
     "output_type": "execute_result"
    }
   ],
   "source": [
    "consumer.start()"
   ]
  },
  {
   "cell_type": "markdown",
   "id": "bed4103f-372d-4fce-8609-ac1eeed04c9b",
   "metadata": {
    "tags": []
   },
   "source": [
    "## Start Local Dask Cluster"
   ]
  },
  {
   "cell_type": "code",
   "execution_count": 8,
   "id": "702f3c58-2a52-4763-87d9-fd7062192e48",
   "metadata": {
    "tags": []
   },
   "outputs": [
    {
     "name": "stderr",
     "output_type": "stream",
     "text": [
      "WARNING:bokeh.server.util:Host wildcard '*' will allow connections originating from multiple (or possibly all) hostnames or IPs. Use non-wildcard values to restrict access explicitly\n"
     ]
    },
    {
     "data": {
      "text/html": [
       "<div>\n",
       "    <div style=\"width: 24px; height: 24px; background-color: #e1e1e1; border: 3px solid #9D9D9D; border-radius: 5px; position: absolute;\"> </div>\n",
       "    <div style=\"margin-left: 48px;\">\n",
       "        <h3 style=\"margin-bottom: 0px;\">Client</h3>\n",
       "        <p style=\"color: #9D9D9D; margin-bottom: 0px;\">Client-a90c102c-1504-11ee-8dc8-0e8a0b55d8f1</p>\n",
       "        <table style=\"width: 100%; text-align: left;\">\n",
       "\n",
       "        <tr>\n",
       "        \n",
       "            <td style=\"text-align: left;\"><strong>Connection method:</strong> Direct</td>\n",
       "            <td style=\"text-align: left;\"></td>\n",
       "        \n",
       "        </tr>\n",
       "\n",
       "        \n",
       "            <tr>\n",
       "                <td style=\"text-align: left;\">\n",
       "                    <strong>Dashboard: </strong> <a href=\"http://127.0.0.1:8787/status\" target=\"_blank\">http://127.0.0.1:8787/status</a>\n",
       "                </td>\n",
       "                <td style=\"text-align: left;\"></td>\n",
       "            </tr>\n",
       "        \n",
       "\n",
       "        </table>\n",
       "\n",
       "        \n",
       "\n",
       "        \n",
       "            <details>\n",
       "            <summary style=\"margin-bottom: 20px;\"><h3 style=\"display: inline;\">Scheduler Info</h3></summary>\n",
       "            <div style=\"\">\n",
       "    <div>\n",
       "        <div style=\"width: 24px; height: 24px; background-color: #FFF7E5; border: 3px solid #FF6132; border-radius: 5px; position: absolute;\"> </div>\n",
       "        <div style=\"margin-left: 48px;\">\n",
       "            <h3 style=\"margin-bottom: 0px;\">Scheduler</h3>\n",
       "            <p style=\"color: #9D9D9D; margin-bottom: 0px;\">Scheduler-062bf23d-dfe4-444d-88c5-16148e9fac38</p>\n",
       "            <table style=\"width: 100%; text-align: left;\">\n",
       "                <tr>\n",
       "                    <td style=\"text-align: left;\">\n",
       "                        <strong>Comm:</strong> tcp://127.0.0.1:64487\n",
       "                    </td>\n",
       "                    <td style=\"text-align: left;\">\n",
       "                        <strong>Workers:</strong> 2\n",
       "                    </td>\n",
       "                </tr>\n",
       "                <tr>\n",
       "                    <td style=\"text-align: left;\">\n",
       "                        <strong>Dashboard:</strong> <a href=\"http://127.0.0.1:8787/status\" target=\"_blank\">http://127.0.0.1:8787/status</a>\n",
       "                    </td>\n",
       "                    <td style=\"text-align: left;\">\n",
       "                        <strong>Total threads:</strong> 10\n",
       "                    </td>\n",
       "                </tr>\n",
       "                <tr>\n",
       "                    <td style=\"text-align: left;\">\n",
       "                        <strong>Started:</strong> Just now\n",
       "                    </td>\n",
       "                    <td style=\"text-align: left;\">\n",
       "                        <strong>Total memory:</strong> 16.00 GiB\n",
       "                    </td>\n",
       "                </tr>\n",
       "            </table>\n",
       "        </div>\n",
       "    </div>\n",
       "\n",
       "    <details style=\"margin-left: 48px;\">\n",
       "        <summary style=\"margin-bottom: 20px;\">\n",
       "            <h3 style=\"display: inline;\">Workers</h3>\n",
       "        </summary>\n",
       "\n",
       "        \n",
       "        <div style=\"margin-bottom: 20px;\">\n",
       "            <div style=\"width: 24px; height: 24px; background-color: #DBF5FF; border: 3px solid #4CC9FF; border-radius: 5px; position: absolute;\"> </div>\n",
       "            <div style=\"margin-left: 48px;\">\n",
       "            <details>\n",
       "                <summary>\n",
       "                    <h4 style=\"margin-bottom: 0px; display: inline;\">Worker: 0</h4>\n",
       "                </summary>\n",
       "                <table style=\"width: 100%; text-align: left;\">\n",
       "                    <tr>\n",
       "                        <td style=\"text-align: left;\">\n",
       "                            <strong>Comm: </strong> tcp://127.0.0.1:64494\n",
       "                        </td>\n",
       "                        <td style=\"text-align: left;\">\n",
       "                            <strong>Total threads: </strong> 5\n",
       "                        </td>\n",
       "                    </tr>\n",
       "                    <tr>\n",
       "                        <td style=\"text-align: left;\">\n",
       "                            <strong>Dashboard: </strong> <a href=\"http://127.0.0.1:64497/status\" target=\"_blank\">http://127.0.0.1:64497/status</a>\n",
       "                        </td>\n",
       "                        <td style=\"text-align: left;\">\n",
       "                            <strong>Memory: </strong> 8.00 GiB\n",
       "                        </td>\n",
       "                    </tr>\n",
       "                    <tr>\n",
       "                        <td style=\"text-align: left;\">\n",
       "                            <strong>Nanny: </strong> tcp://127.0.0.1:64490\n",
       "                        </td>\n",
       "                        <td style=\"text-align: left;\"></td>\n",
       "                    </tr>\n",
       "                    <tr>\n",
       "                        <td colspan=\"2\" style=\"text-align: left;\">\n",
       "                            <strong>Local directory: </strong> /var/folders/jx/23j21rtx1czb2tpqht16pz907m8f48/T/dask-worker-space/worker-s5b769nf\n",
       "                        </td>\n",
       "                    </tr>\n",
       "\n",
       "                    \n",
       "\n",
       "                    \n",
       "                    <tr>\n",
       "                        <td style=\"text-align: left;\">\n",
       "                            <strong>Tasks executing: </strong> \n",
       "                        </td>\n",
       "                        <td style=\"text-align: left;\">\n",
       "                            <strong>Tasks in memory: </strong> \n",
       "                        </td>\n",
       "                    </tr>\n",
       "                    <tr>\n",
       "                        <td style=\"text-align: left;\">\n",
       "                            <strong>Tasks ready: </strong> \n",
       "                        </td>\n",
       "                        <td style=\"text-align: left;\">\n",
       "                            <strong>Tasks in flight: </strong>\n",
       "                        </td>\n",
       "                    </tr>\n",
       "                    <tr>\n",
       "                        <td style=\"text-align: left;\">\n",
       "                            <strong>CPU usage:</strong> 0.0%\n",
       "                        </td>\n",
       "                        <td style=\"text-align: left;\">\n",
       "                            <strong>Last seen: </strong> Just now\n",
       "                        </td>\n",
       "                    </tr>\n",
       "                    <tr>\n",
       "                        <td style=\"text-align: left;\">\n",
       "                            <strong>Memory usage: </strong> 56.59 MiB\n",
       "                        </td>\n",
       "                        <td style=\"text-align: left;\">\n",
       "                            <strong>Spilled bytes: </strong> 0 B\n",
       "                        </td>\n",
       "                    </tr>\n",
       "                    <tr>\n",
       "                        <td style=\"text-align: left;\">\n",
       "                            <strong>Read bytes: </strong> 41.69 MiB\n",
       "                        </td>\n",
       "                        <td style=\"text-align: left;\">\n",
       "                            <strong>Write bytes: </strong> 0.0 B\n",
       "                        </td>\n",
       "                    </tr>\n",
       "                    \n",
       "\n",
       "                </table>\n",
       "            </details>\n",
       "            </div>\n",
       "        </div>\n",
       "        \n",
       "        <div style=\"margin-bottom: 20px;\">\n",
       "            <div style=\"width: 24px; height: 24px; background-color: #DBF5FF; border: 3px solid #4CC9FF; border-radius: 5px; position: absolute;\"> </div>\n",
       "            <div style=\"margin-left: 48px;\">\n",
       "            <details>\n",
       "                <summary>\n",
       "                    <h4 style=\"margin-bottom: 0px; display: inline;\">Worker: 1</h4>\n",
       "                </summary>\n",
       "                <table style=\"width: 100%; text-align: left;\">\n",
       "                    <tr>\n",
       "                        <td style=\"text-align: left;\">\n",
       "                            <strong>Comm: </strong> tcp://127.0.0.1:64495\n",
       "                        </td>\n",
       "                        <td style=\"text-align: left;\">\n",
       "                            <strong>Total threads: </strong> 5\n",
       "                        </td>\n",
       "                    </tr>\n",
       "                    <tr>\n",
       "                        <td style=\"text-align: left;\">\n",
       "                            <strong>Dashboard: </strong> <a href=\"http://127.0.0.1:64496/status\" target=\"_blank\">http://127.0.0.1:64496/status</a>\n",
       "                        </td>\n",
       "                        <td style=\"text-align: left;\">\n",
       "                            <strong>Memory: </strong> 8.00 GiB\n",
       "                        </td>\n",
       "                    </tr>\n",
       "                    <tr>\n",
       "                        <td style=\"text-align: left;\">\n",
       "                            <strong>Nanny: </strong> tcp://127.0.0.1:64491\n",
       "                        </td>\n",
       "                        <td style=\"text-align: left;\"></td>\n",
       "                    </tr>\n",
       "                    <tr>\n",
       "                        <td colspan=\"2\" style=\"text-align: left;\">\n",
       "                            <strong>Local directory: </strong> /var/folders/jx/23j21rtx1czb2tpqht16pz907m8f48/T/dask-worker-space/worker-c82d3vmm\n",
       "                        </td>\n",
       "                    </tr>\n",
       "\n",
       "                    \n",
       "\n",
       "                    \n",
       "                    <tr>\n",
       "                        <td style=\"text-align: left;\">\n",
       "                            <strong>Tasks executing: </strong> \n",
       "                        </td>\n",
       "                        <td style=\"text-align: left;\">\n",
       "                            <strong>Tasks in memory: </strong> \n",
       "                        </td>\n",
       "                    </tr>\n",
       "                    <tr>\n",
       "                        <td style=\"text-align: left;\">\n",
       "                            <strong>Tasks ready: </strong> \n",
       "                        </td>\n",
       "                        <td style=\"text-align: left;\">\n",
       "                            <strong>Tasks in flight: </strong>\n",
       "                        </td>\n",
       "                    </tr>\n",
       "                    <tr>\n",
       "                        <td style=\"text-align: left;\">\n",
       "                            <strong>CPU usage:</strong> 0.0%\n",
       "                        </td>\n",
       "                        <td style=\"text-align: left;\">\n",
       "                            <strong>Last seen: </strong> Just now\n",
       "                        </td>\n",
       "                    </tr>\n",
       "                    <tr>\n",
       "                        <td style=\"text-align: left;\">\n",
       "                            <strong>Memory usage: </strong> 56.91 MiB\n",
       "                        </td>\n",
       "                        <td style=\"text-align: left;\">\n",
       "                            <strong>Spilled bytes: </strong> 0 B\n",
       "                        </td>\n",
       "                    </tr>\n",
       "                    <tr>\n",
       "                        <td style=\"text-align: left;\">\n",
       "                            <strong>Read bytes: </strong> 42.11 MiB\n",
       "                        </td>\n",
       "                        <td style=\"text-align: left;\">\n",
       "                            <strong>Write bytes: </strong> 0.0 B\n",
       "                        </td>\n",
       "                    </tr>\n",
       "                    \n",
       "\n",
       "                </table>\n",
       "            </details>\n",
       "            </div>\n",
       "        </div>\n",
       "        \n",
       "\n",
       "    </details>\n",
       "</div>\n",
       "            </details>\n",
       "        \n",
       "\n",
       "    </div>\n",
       "</div>"
      ],
      "text/plain": [
       "<Client: 'tcp://127.0.0.1:64487' processes=2 threads=10, memory=16.00 GiB>"
      ]
     },
     "execution_count": 8,
     "metadata": {},
     "output_type": "execute_result"
    }
   ],
   "source": [
    "dask_client = setup_local_dask_cluster()\n",
    "dask_client"
   ]
  },
  {
   "cell_type": "markdown",
   "id": "04c2bde5-87fc-4a52-a407-63a9f0dadf62",
   "metadata": {
    "tags": []
   },
   "source": [
    "## Client.Submit-based Workflow"
   ]
  },
  {
   "cell_type": "code",
   "execution_count": 9,
   "id": "e843f2c8-4566-46f2-95de-34d17bd4c061",
   "metadata": {
    "tags": []
   },
   "outputs": [
    {
     "name": "stdout",
     "output_type": "stream",
     "text": [
      "Workflow_Id=wf_c84857c0-6a95-4eef-a9b2-a0fcad2dc2b4\n",
      "Task3_id=calculate_batch_and_epochs-6b979ef78f9983cedd596e25a1ac8746\n",
      "Result={'batch_size': 19, 'epochs': 2}\n"
     ]
    }
   ],
   "source": [
    "import numpy as np\n",
    "from uuid import uuid4\n",
    "i1 = np.random.random()\n",
    "i1 = np.random.random()\n",
    "wf_id = f\"wf_{uuid4()}\"\n",
    "print(f\"Workflow_Id={wf_id}\")\n",
    "o1 = dask_client.submit(dummy_func1, i1, workflow_id=wf_id)\n",
    "o2 = dask_client.submit(dummy_func2, o1, workflow_id=wf_id)\n",
    "o3 = dask_client.submit(calculate_batch_and_epochs, o1, o2, workflow_id=wf_id)\n",
    "print(f\"Task3_id={o3.key}\")\n",
    "print(f\"Result={o3.result()}\")"
   ]
  },
  {
   "cell_type": "code",
   "execution_count": 10,
   "id": "e211229d-ac01-48c6-81f1-efba8e72d58c",
   "metadata": {},
   "outputs": [],
   "source": [
    "sleep(10)"
   ]
  },
  {
   "cell_type": "markdown",
   "id": "0dab1514-1b81-4717-90b2-7e7016957512",
   "metadata": {
    "tags": []
   },
   "source": [
    "## Start Flowcept Query API"
   ]
  },
  {
   "cell_type": "code",
   "execution_count": 11,
   "id": "34fbe181-c55d-4ac4-84bf-0684fb3f54ca",
   "metadata": {
    "tags": []
   },
   "outputs": [],
   "source": [
    "from flowcept import TaskQueryAPI\n",
    "query_api = TaskQueryAPI()"
   ]
  },
  {
   "cell_type": "code",
   "execution_count": 12,
   "id": "72a80432-f4fd-459e-a3f2-900beeea434d",
   "metadata": {},
   "outputs": [],
   "source": [
    "sleep(5)  # These sleeps "
   ]
  },
  {
   "cell_type": "markdown",
   "id": "a0addcbe-d388-41fd-9ac7-9abe646bda6f",
   "metadata": {},
   "source": [
    "## Query the database"
   ]
  },
  {
   "cell_type": "code",
   "execution_count": 13,
   "id": "82d8a1cc-86c8-48a6-b91e-d822c0417c1b",
   "metadata": {
    "tags": []
   },
   "outputs": [
    {
     "data": {
      "text/plain": [
       "[{'task_id': 'dummy_func1-6b9cbd2dcfab03acf8176ba9e8610893',\n",
       "  'custom_metadata': {'scheduler': 'tcp://127.0.0.1:64487',\n",
       "   'scheduler_id': 'Scheduler-062bf23d-dfe4-444d-88c5-16148e9fac38',\n",
       "   'scheduler_pid': 52680},\n",
       "  'submission_time': 1687896427.587981,\n",
       "  'activity_id': 'dummy_func1',\n",
       "  'used': {'arg0': 0.5514012560011143},\n",
       "  'workflow_id': 'wf_c84857c0-6a95-4eef-a9b2-a0fcad2dc2b4',\n",
       "  'utc_timestamp': 1687896427.590602,\n",
       "  'plugin_id': 'dask',\n",
       "  'user': 'root',\n",
       "  'campaign_id': 'super_campaign',\n",
       "  'sys_name': 'Darwin',\n",
       "  'node_name': 'MAC132633',\n",
       "  'login_name': 'login_name',\n",
       "  'hostname': 'mac132633.ornl.gov',\n",
       "  'extra_metadata': {'place_holder': ''},\n",
       "  'debug': True,\n",
       "  'submitted': True,\n",
       "  'address': 'tcp://127.0.0.1:64494',\n",
       "  'running': True,\n",
       "  'generated': {'arg0': 1.1028025120022287},\n",
       "  'start_time': 1687882027.5906188,\n",
       "  'end_time': 1687882027.590622,\n",
       "  'finished': True},\n",
       " {'task_id': 'dummy_func2-1114bce36aa636585aa261dab99c9d81',\n",
       "  'custom_metadata': {'scheduler': 'tcp://127.0.0.1:64487',\n",
       "   'scheduler_id': 'Scheduler-062bf23d-dfe4-444d-88c5-16148e9fac38',\n",
       "   'scheduler_pid': 52680},\n",
       "  'submission_time': 1687896427.59228,\n",
       "  'dependencies': ['dummy_func1-6b9cbd2dcfab03acf8176ba9e8610893'],\n",
       "  'activity_id': 'dummy_func2',\n",
       "  'used': {'arg0': 'dummy_func1-6b9cbd2dcfab03acf8176ba9e8610893'},\n",
       "  'workflow_id': 'wf_c84857c0-6a95-4eef-a9b2-a0fcad2dc2b4',\n",
       "  'utc_timestamp': 1687896427.598935,\n",
       "  'plugin_id': 'dask',\n",
       "  'user': 'root',\n",
       "  'campaign_id': 'super_campaign',\n",
       "  'sys_name': 'Darwin',\n",
       "  'node_name': 'MAC132633',\n",
       "  'login_name': 'login_name',\n",
       "  'hostname': 'mac132633.ornl.gov',\n",
       "  'extra_metadata': {'place_holder': ''},\n",
       "  'debug': True,\n",
       "  'submitted': True,\n",
       "  'address': 'tcp://127.0.0.1:64494',\n",
       "  'running': True,\n",
       "  'generated': {'arg0': 2.2056050240044573},\n",
       "  'start_time': 1687882027.5989099,\n",
       "  'end_time': 1687882027.598913,\n",
       "  'finished': True},\n",
       " {'task_id': 'calculate_batch_and_epochs-6b979ef78f9983cedd596e25a1ac8746',\n",
       "  'custom_metadata': {'scheduler': 'tcp://127.0.0.1:64487',\n",
       "   'scheduler_id': 'Scheduler-062bf23d-dfe4-444d-88c5-16148e9fac38',\n",
       "   'scheduler_pid': 52680},\n",
       "  'submission_time': 1687896427.592405,\n",
       "  'dependencies': ['dummy_func1-6b9cbd2dcfab03acf8176ba9e8610893',\n",
       "   'dummy_func2-1114bce36aa636585aa261dab99c9d81'],\n",
       "  'activity_id': 'calculate_batch_and_epochs',\n",
       "  'used': {'arg0': 'dummy_func1-6b9cbd2dcfab03acf8176ba9e8610893',\n",
       "   'arg1': 'dummy_func2-1114bce36aa636585aa261dab99c9d81'},\n",
       "  'workflow_id': 'wf_c84857c0-6a95-4eef-a9b2-a0fcad2dc2b4',\n",
       "  'utc_timestamp': 1687896427.602518,\n",
       "  'plugin_id': 'dask',\n",
       "  'user': 'root',\n",
       "  'campaign_id': 'super_campaign',\n",
       "  'sys_name': 'Darwin',\n",
       "  'node_name': 'MAC132633',\n",
       "  'login_name': 'login_name',\n",
       "  'hostname': 'mac132633.ornl.gov',\n",
       "  'extra_metadata': {'place_holder': ''},\n",
       "  'debug': True,\n",
       "  'submitted': True,\n",
       "  'address': 'tcp://127.0.0.1:64494',\n",
       "  'running': True,\n",
       "  'generated': {'batch_size': 19, 'epochs': 2},\n",
       "  'start_time': 1687882027.602411,\n",
       "  'end_time': 1687882027.602431,\n",
       "  'finished': True}]"
      ]
     },
     "execution_count": 13,
     "metadata": {},
     "output_type": "execute_result"
    }
   ],
   "source": [
    "_filter = {\"workflow_id\": wf_id}\n",
    "tasks = query_api.query(_filter)\n",
    "tasks"
   ]
  },
  {
   "cell_type": "code",
   "execution_count": 14,
   "id": "2a1afa5d-3934-4188-8a35-4d221bd58550",
   "metadata": {
    "tags": []
   },
   "outputs": [],
   "source": [
    "dask_client.shutdown()"
   ]
  },
  {
   "cell_type": "code",
   "execution_count": 15,
   "id": "f0a5d746-1157-4591-af37-76360e7a7b1c",
   "metadata": {},
   "outputs": [],
   "source": [
    "sleep(3)"
   ]
  },
  {
   "cell_type": "markdown",
   "id": "9d5797ed-cbb7-4c97-938a-2e55aff94cc7",
   "metadata": {
    "tags": []
   },
   "source": [
    "## Stop consumer"
   ]
  },
  {
   "cell_type": "code",
   "execution_count": 16,
   "id": "45291c13-4fcf-47b4-9b9f-de0050b1b076",
   "metadata": {
    "tags": []
   },
   "outputs": [
    {
     "name": "stderr",
     "output_type": "stream",
     "text": [
      "Worker process died unexpectedly\n",
      "Worker process died unexpectedly\n",
      "Exception in thread Nanny stop queue watch:\n",
      "Traceback (most recent call last):\n",
      "  File \"/Users/rsr/opt/miniconda3/envs/flowcept/lib/python3.8/threading.py\", line 932, in _bootstrap_inner\n",
      "    self.run()\n",
      "  File \"/Users/rsr/opt/miniconda3/envs/flowcept/lib/python3.8/threading.py\", line 870, in run\n",
      "    self._target(*self._args, **self._kwargs)\n",
      "  File \"/Users/rsr/opt/miniconda3/envs/flowcept/lib/python3.8/site-packages/distributed/nanny.py\", line 897, in watch_stop_q\n"
     ]
    }
   ],
   "source": [
    "consumer.stop()"
   ]
  },
  {
   "cell_type": "code",
   "execution_count": 3,
   "id": "7a3d4d67-315a-46dd-a41e-b15174dc9784",
   "metadata": {
    "tags": []
   },
   "outputs": [],
   "source": [
    "# The exception above is caused within Dask's Nannies after a client.shutdown(). This only happens when Dask cluster is shut down. It will happen even if consumer.stop() is not used."
   ]
  },
  {
   "cell_type": "code",
   "execution_count": 17,
   "id": "fb51cbaf-2127-4fe3-8fb6-e1be9d009f7e",
   "metadata": {},
   "outputs": [],
   "source": [
    "exit()"
   ]
  },
  {
   "cell_type": "code",
   "execution_count": null,
   "id": "629a70b9-d61f-41d1-bd03-0f6023bcb8b9",
   "metadata": {},
   "outputs": [],
   "source": []
  }
 ],
 "metadata": {
  "kernelspec": {
   "display_name": "Python 3 (ipykernel)",
   "language": "python",
   "name": "python3"
  },
  "language_info": {
   "codemirror_mode": {
    "name": "ipython",
    "version": 3
   },
   "file_extension": ".py",
   "mimetype": "text/x-python",
   "name": "python",
   "nbconvert_exporter": "python",
   "pygments_lexer": "ipython3",
   "version": "3.8.16"
  }
 },
 "nbformat": 4,
 "nbformat_minor": 5
}
