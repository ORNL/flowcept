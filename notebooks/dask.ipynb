{
 "cells": [
  {
   "cell_type": "code",
   "execution_count": 1,
   "id": "e7f738dd-4e78-4707-a0b4-b7ddc729a635",
   "metadata": {
    "tags": []
   },
   "outputs": [],
   "source": [
    "! python reset_dask_nb_exec_counts.py   \n",
    "# This notebook is causing a silly bug after starting dask cluster. \n",
    "# This command just resets the nb's execution counts to fix it. \n",
    "# Just save the notebook (cmd+s) after you run dask cluster setup."
   ]
  },
  {
   "cell_type": "code",
   "execution_count": 12,
   "id": "0d399983-63f2-4f0d-acdc-6e3ff4abbb4d",
   "metadata": {
    "tags": []
   },
   "outputs": [],
   "source": [
    "# Sleeps are used because these notebooks are being tested automatically as part of the CI/CD. \n",
    "# In a normal user interaction, these sleeps would not be necessary.\n",
    "from time import sleep"
   ]
  },
  {
   "cell_type": "code",
   "execution_count": 2,
   "id": "50721f98-6f40-4bd9-83f1-56e83e75aa8b",
   "metadata": {
    "tags": []
   },
   "outputs": [],
   "source": [
    "def dummy_func1(x, workflow_id=None):\n",
    "    return x * 2\n",
    "\n",
    "\n",
    "def dummy_func2(y, workflow_id=None):\n",
    "    return y + y\n",
    "\n",
    "\n",
    "def dummy_func3(z, w, workflow_id=None):\n",
    "    return {\"batch_size\": int(z + w + 16)}"
   ]
  },
  {
   "cell_type": "code",
   "execution_count": 3,
   "id": "96555b6d-d06e-4b3c-8655-16a1644696c2",
   "metadata": {
    "tags": []
   },
   "outputs": [],
   "source": [
    "# Optionally set up env vars to control Flowcept's log level\n",
    "import os\n",
    "os.environ['LOG_STREAM_LEVEL'] = \"error\"\n",
    "os.environ['LOG_FILE_LEVEL'] = \"debug\""
   ]
  },
  {
   "cell_type": "code",
   "execution_count": 4,
   "id": "47a4cf2c-4b5c-4fe5-9973-cda2734b0623",
   "metadata": {
    "tags": []
   },
   "outputs": [],
   "source": [
    "def setup_local_dask_cluster():\n",
    "    from dask.distributed import Client, LocalCluster\n",
    "    from flowcept import (\n",
    "        FlowceptDaskSchedulerPlugin,\n",
    "        FlowceptDaskWorkerPlugin,\n",
    "    )\n",
    "    cluster = LocalCluster(n_workers=2)\n",
    "    scheduler = cluster.scheduler\n",
    "    client = Client(scheduler.address)\n",
    "\n",
    "    # Instantiate and Register FlowceptPlugins\n",
    "    scheduler_plugin = FlowceptDaskSchedulerPlugin(scheduler)\n",
    "    scheduler.add_plugin(scheduler_plugin)\n",
    "    worker_plugin = FlowceptDaskWorkerPlugin()\n",
    "    client.register_worker_plugin(worker_plugin)\n",
    "    \n",
    "    return client"
   ]
  },
  {
   "cell_type": "code",
   "execution_count": 5,
   "id": "702f3c58-2a52-4763-87d9-fd7062192e48",
   "metadata": {
    "tags": []
   },
   "outputs": [
    {
     "name": "stderr",
     "output_type": "stream",
     "text": [
      "WARNING:bokeh.server.util:Host wildcard '*' will allow connections originating from multiple (or possibly all) hostnames or IPs. Use non-wildcard values to restrict access explicitly\n"
     ]
    },
    {
     "data": {
      "text/html": [
       "<div>\n",
       "    <div style=\"width: 24px; height: 24px; background-color: #e1e1e1; border: 3px solid #9D9D9D; border-radius: 5px; position: absolute;\"> </div>\n",
       "    <div style=\"margin-left: 48px;\">\n",
       "        <h3 style=\"margin-bottom: 0px;\">Client</h3>\n",
       "        <p style=\"color: #9D9D9D; margin-bottom: 0px;\">Client-f9f273b0-a94c-11ed-85d9-0e8a0b55d8f3</p>\n",
       "        <table style=\"width: 100%; text-align: left;\">\n",
       "\n",
       "        <tr>\n",
       "        \n",
       "            <td style=\"text-align: left;\"><strong>Connection method:</strong> Direct</td>\n",
       "            <td style=\"text-align: left;\"></td>\n",
       "        \n",
       "        </tr>\n",
       "\n",
       "        \n",
       "            <tr>\n",
       "                <td style=\"text-align: left;\">\n",
       "                    <strong>Dashboard: </strong> <a href=\"http://127.0.0.1:8787/status\" target=\"_blank\">http://127.0.0.1:8787/status</a>\n",
       "                </td>\n",
       "                <td style=\"text-align: left;\"></td>\n",
       "            </tr>\n",
       "        \n",
       "\n",
       "        </table>\n",
       "\n",
       "        \n",
       "\n",
       "        \n",
       "            <details>\n",
       "            <summary style=\"margin-bottom: 20px;\"><h3 style=\"display: inline;\">Scheduler Info</h3></summary>\n",
       "            <div style=\"\">\n",
       "    <div>\n",
       "        <div style=\"width: 24px; height: 24px; background-color: #FFF7E5; border: 3px solid #FF6132; border-radius: 5px; position: absolute;\"> </div>\n",
       "        <div style=\"margin-left: 48px;\">\n",
       "            <h3 style=\"margin-bottom: 0px;\">Scheduler</h3>\n",
       "            <p style=\"color: #9D9D9D; margin-bottom: 0px;\">Scheduler-bb138f70-babf-43e5-9b79-abbd359ba445</p>\n",
       "            <table style=\"width: 100%; text-align: left;\">\n",
       "                <tr>\n",
       "                    <td style=\"text-align: left;\">\n",
       "                        <strong>Comm:</strong> tcp://127.0.0.1:56387\n",
       "                    </td>\n",
       "                    <td style=\"text-align: left;\">\n",
       "                        <strong>Workers:</strong> 2\n",
       "                    </td>\n",
       "                </tr>\n",
       "                <tr>\n",
       "                    <td style=\"text-align: left;\">\n",
       "                        <strong>Dashboard:</strong> <a href=\"http://127.0.0.1:8787/status\" target=\"_blank\">http://127.0.0.1:8787/status</a>\n",
       "                    </td>\n",
       "                    <td style=\"text-align: left;\">\n",
       "                        <strong>Total threads:</strong> 10\n",
       "                    </td>\n",
       "                </tr>\n",
       "                <tr>\n",
       "                    <td style=\"text-align: left;\">\n",
       "                        <strong>Started:</strong> Just now\n",
       "                    </td>\n",
       "                    <td style=\"text-align: left;\">\n",
       "                        <strong>Total memory:</strong> 16.00 GiB\n",
       "                    </td>\n",
       "                </tr>\n",
       "            </table>\n",
       "        </div>\n",
       "    </div>\n",
       "\n",
       "    <details style=\"margin-left: 48px;\">\n",
       "        <summary style=\"margin-bottom: 20px;\">\n",
       "            <h3 style=\"display: inline;\">Workers</h3>\n",
       "        </summary>\n",
       "\n",
       "        \n",
       "        <div style=\"margin-bottom: 20px;\">\n",
       "            <div style=\"width: 24px; height: 24px; background-color: #DBF5FF; border: 3px solid #4CC9FF; border-radius: 5px; position: absolute;\"> </div>\n",
       "            <div style=\"margin-left: 48px;\">\n",
       "            <details>\n",
       "                <summary>\n",
       "                    <h4 style=\"margin-bottom: 0px; display: inline;\">Worker: 0</h4>\n",
       "                </summary>\n",
       "                <table style=\"width: 100%; text-align: left;\">\n",
       "                    <tr>\n",
       "                        <td style=\"text-align: left;\">\n",
       "                            <strong>Comm: </strong> tcp://127.0.0.1:56394\n",
       "                        </td>\n",
       "                        <td style=\"text-align: left;\">\n",
       "                            <strong>Total threads: </strong> 5\n",
       "                        </td>\n",
       "                    </tr>\n",
       "                    <tr>\n",
       "                        <td style=\"text-align: left;\">\n",
       "                            <strong>Dashboard: </strong> <a href=\"http://127.0.0.1:56397/status\" target=\"_blank\">http://127.0.0.1:56397/status</a>\n",
       "                        </td>\n",
       "                        <td style=\"text-align: left;\">\n",
       "                            <strong>Memory: </strong> 8.00 GiB\n",
       "                        </td>\n",
       "                    </tr>\n",
       "                    <tr>\n",
       "                        <td style=\"text-align: left;\">\n",
       "                            <strong>Nanny: </strong> tcp://127.0.0.1:56390\n",
       "                        </td>\n",
       "                        <td style=\"text-align: left;\"></td>\n",
       "                    </tr>\n",
       "                    <tr>\n",
       "                        <td colspan=\"2\" style=\"text-align: left;\">\n",
       "                            <strong>Local directory: </strong> /var/folders/jx/23j21rtx1czb2tpqht16pz907m8f48/T/dask-worker-space/worker-9v8uiklt\n",
       "                        </td>\n",
       "                    </tr>\n",
       "\n",
       "                    \n",
       "\n",
       "                    \n",
       "                    <tr>\n",
       "                        <td style=\"text-align: left;\">\n",
       "                            <strong>Tasks executing: </strong> \n",
       "                        </td>\n",
       "                        <td style=\"text-align: left;\">\n",
       "                            <strong>Tasks in memory: </strong> \n",
       "                        </td>\n",
       "                    </tr>\n",
       "                    <tr>\n",
       "                        <td style=\"text-align: left;\">\n",
       "                            <strong>Tasks ready: </strong> \n",
       "                        </td>\n",
       "                        <td style=\"text-align: left;\">\n",
       "                            <strong>Tasks in flight: </strong>\n",
       "                        </td>\n",
       "                    </tr>\n",
       "                    <tr>\n",
       "                        <td style=\"text-align: left;\">\n",
       "                            <strong>CPU usage:</strong> 0.0%\n",
       "                        </td>\n",
       "                        <td style=\"text-align: left;\">\n",
       "                            <strong>Last seen: </strong> Just now\n",
       "                        </td>\n",
       "                    </tr>\n",
       "                    <tr>\n",
       "                        <td style=\"text-align: left;\">\n",
       "                            <strong>Memory usage: </strong> 57.34 MiB\n",
       "                        </td>\n",
       "                        <td style=\"text-align: left;\">\n",
       "                            <strong>Spilled bytes: </strong> 0 B\n",
       "                        </td>\n",
       "                    </tr>\n",
       "                    <tr>\n",
       "                        <td style=\"text-align: left;\">\n",
       "                            <strong>Read bytes: </strong> 0.0 B\n",
       "                        </td>\n",
       "                        <td style=\"text-align: left;\">\n",
       "                            <strong>Write bytes: </strong> 0.0 B\n",
       "                        </td>\n",
       "                    </tr>\n",
       "                    \n",
       "\n",
       "                </table>\n",
       "            </details>\n",
       "            </div>\n",
       "        </div>\n",
       "        \n",
       "        <div style=\"margin-bottom: 20px;\">\n",
       "            <div style=\"width: 24px; height: 24px; background-color: #DBF5FF; border: 3px solid #4CC9FF; border-radius: 5px; position: absolute;\"> </div>\n",
       "            <div style=\"margin-left: 48px;\">\n",
       "            <details>\n",
       "                <summary>\n",
       "                    <h4 style=\"margin-bottom: 0px; display: inline;\">Worker: 1</h4>\n",
       "                </summary>\n",
       "                <table style=\"width: 100%; text-align: left;\">\n",
       "                    <tr>\n",
       "                        <td style=\"text-align: left;\">\n",
       "                            <strong>Comm: </strong> tcp://127.0.0.1:56395\n",
       "                        </td>\n",
       "                        <td style=\"text-align: left;\">\n",
       "                            <strong>Total threads: </strong> 5\n",
       "                        </td>\n",
       "                    </tr>\n",
       "                    <tr>\n",
       "                        <td style=\"text-align: left;\">\n",
       "                            <strong>Dashboard: </strong> <a href=\"http://127.0.0.1:56396/status\" target=\"_blank\">http://127.0.0.1:56396/status</a>\n",
       "                        </td>\n",
       "                        <td style=\"text-align: left;\">\n",
       "                            <strong>Memory: </strong> 8.00 GiB\n",
       "                        </td>\n",
       "                    </tr>\n",
       "                    <tr>\n",
       "                        <td style=\"text-align: left;\">\n",
       "                            <strong>Nanny: </strong> tcp://127.0.0.1:56391\n",
       "                        </td>\n",
       "                        <td style=\"text-align: left;\"></td>\n",
       "                    </tr>\n",
       "                    <tr>\n",
       "                        <td colspan=\"2\" style=\"text-align: left;\">\n",
       "                            <strong>Local directory: </strong> /var/folders/jx/23j21rtx1czb2tpqht16pz907m8f48/T/dask-worker-space/worker-4k5yto80\n",
       "                        </td>\n",
       "                    </tr>\n",
       "\n",
       "                    \n",
       "\n",
       "                    \n",
       "                    <tr>\n",
       "                        <td style=\"text-align: left;\">\n",
       "                            <strong>Tasks executing: </strong> \n",
       "                        </td>\n",
       "                        <td style=\"text-align: left;\">\n",
       "                            <strong>Tasks in memory: </strong> \n",
       "                        </td>\n",
       "                    </tr>\n",
       "                    <tr>\n",
       "                        <td style=\"text-align: left;\">\n",
       "                            <strong>Tasks ready: </strong> \n",
       "                        </td>\n",
       "                        <td style=\"text-align: left;\">\n",
       "                            <strong>Tasks in flight: </strong>\n",
       "                        </td>\n",
       "                    </tr>\n",
       "                    <tr>\n",
       "                        <td style=\"text-align: left;\">\n",
       "                            <strong>CPU usage:</strong> 66.5%\n",
       "                        </td>\n",
       "                        <td style=\"text-align: left;\">\n",
       "                            <strong>Last seen: </strong> Just now\n",
       "                        </td>\n",
       "                    </tr>\n",
       "                    <tr>\n",
       "                        <td style=\"text-align: left;\">\n",
       "                            <strong>Memory usage: </strong> 367.33 MiB\n",
       "                        </td>\n",
       "                        <td style=\"text-align: left;\">\n",
       "                            <strong>Spilled bytes: </strong> 0 B\n",
       "                        </td>\n",
       "                    </tr>\n",
       "                    <tr>\n",
       "                        <td style=\"text-align: left;\">\n",
       "                            <strong>Read bytes: </strong> 39.40 kiB\n",
       "                        </td>\n",
       "                        <td style=\"text-align: left;\">\n",
       "                            <strong>Write bytes: </strong> 31.04 kiB\n",
       "                        </td>\n",
       "                    </tr>\n",
       "                    \n",
       "\n",
       "                </table>\n",
       "            </details>\n",
       "            </div>\n",
       "        </div>\n",
       "        \n",
       "\n",
       "    </details>\n",
       "</div>\n",
       "            </details>\n",
       "        \n",
       "\n",
       "    </div>\n",
       "</div>"
      ],
      "text/plain": [
       "<Client: 'tcp://127.0.0.1:56387' processes=2 threads=10, memory=16.00 GiB>"
      ]
     },
     "execution_count": 5,
     "metadata": {},
     "output_type": "execute_result"
    }
   ],
   "source": [
    "dask_client = setup_local_dask_cluster()\n",
    "dask_client"
   ]
  },
  {
   "cell_type": "markdown",
   "id": "6c8b6db8-4d7f-4f2c-97d5-5cb13b5f5f8e",
   "metadata": {},
   "source": [
    "## Starting Flowcept's Consumer"
   ]
  },
  {
   "cell_type": "code",
   "execution_count": 6,
   "id": "b1e311c3-ca2a-4cf5-9a38-6742c91a0035",
   "metadata": {
    "tags": []
   },
   "outputs": [],
   "source": [
    "from flowcept import FlowceptConsumerAPI\n",
    "consumer = FlowceptConsumerAPI()"
   ]
  },
  {
   "cell_type": "code",
   "execution_count": 7,
   "id": "fe609b49-28cf-4f2c-9027-ee7bc51fb86a",
   "metadata": {
    "tags": []
   },
   "outputs": [
    {
     "data": {
      "text/plain": [
       "<flowcept.flowcept_api.consumer_api.FlowceptConsumerAPI at 0x2840e3ac0>"
      ]
     },
     "execution_count": 7,
     "metadata": {},
     "output_type": "execute_result"
    }
   ],
   "source": [
    "consumer.start()"
   ]
  },
  {
   "cell_type": "markdown",
   "id": "04c2bde5-87fc-4a52-a407-63a9f0dadf62",
   "metadata": {
    "tags": []
   },
   "source": [
    "## Client.Submit-based Workflow"
   ]
  },
  {
   "cell_type": "code",
   "execution_count": 8,
   "id": "e843f2c8-4566-46f2-95de-34d17bd4c061",
   "metadata": {
    "tags": []
   },
   "outputs": [
    {
     "name": "stdout",
     "output_type": "stream",
     "text": [
      "Workflow_Id=wf_d1777dc4-bcb8-4caa-af7d-1fda7aabd35d\n",
      "Result={'batch_size': 20}\n",
      "Task3_id=dummy_func3-a5532dbb19f6ee8eb9df16d34fe29101\n"
     ]
    }
   ],
   "source": [
    "import numpy as np\n",
    "from uuid import uuid4\n",
    "i1 = np.random.random()\n",
    "i1 = np.random.random()\n",
    "wf_id = f\"wf_{uuid4()}\"\n",
    "print(f\"Workflow_Id={wf_id}\")\n",
    "o1 = dask_client.submit(dummy_func1, i1, workflow_id=wf_id)\n",
    "o2 = dask_client.submit(dummy_func2, o1, workflow_id=wf_id)\n",
    "o3 = dask_client.submit(dummy_func3, o1, o2, workflow_id=wf_id)\n",
    "print(f\"Result={o3.result()}\")\n",
    "print(f\"Task3_id={o3.key}\")"
   ]
  },
  {
   "cell_type": "code",
   "execution_count": "null",
   "id": "e211229d-ac01-48c6-81f1-efba8e72d58c",
   "metadata": {},
   "outputs": [],
   "source": [
    "sleep(10)"
   ]
  },
  {
   "cell_type": "markdown",
   "id": "0dab1514-1b81-4717-90b2-7e7016957512",
   "metadata": {
    "tags": []
   },
   "source": [
    "## Starting Flowcept Query API"
   ]
  },
  {
   "cell_type": "code",
   "execution_count": 9,
   "id": "34fbe181-c55d-4ac4-84bf-0684fb3f54ca",
   "metadata": {
    "tags": []
   },
   "outputs": [],
   "source": [
    "from flowcept import TaskQueryAPI\n",
    "query_api = TaskQueryAPI()"
   ]
  },
  {
   "cell_type": "code",
   "execution_count": "null",
   "id": "72a80432-f4fd-459e-a3f2-900beeea434d",
   "metadata": {},
   "outputs": [],
   "source": [
    "sleep(5)  # These sleeps "
   ]
  },
  {
   "cell_type": "code",
   "execution_count": 10,
   "id": "82d8a1cc-86c8-48a6-b91e-d822c0417c1b",
   "metadata": {
    "tags": []
   },
   "outputs": [
    {
     "data": {
      "text/plain": [
       "[{'task_id': 'dummy_func1-27b109469155692a51dc5beeb73903c4',\n",
       "  'custom_metadata': {'scheduler': 'tcp://127.0.0.1:56387',\n",
       "   'scheduler_id': 'Scheduler-bb138f70-babf-43e5-9b79-abbd359ba445',\n",
       "   'scheduler_pid': 34265},\n",
       "  'status': 'FINISHED',\n",
       "  'utc_timestamp': 1676056417.387205,\n",
       "  'activity_id': 'dummy_func1',\n",
       "  'used': {'arg0': 0.7610238851750382},\n",
       "  'workflow_id': 'wf_d1777dc4-bcb8-4caa-af7d-1fda7aabd35d',\n",
       "  'plugin_id': 'dask',\n",
       "  'user': 'root',\n",
       "  'experiment_id': 'super-experiment',\n",
       "  'sys_name': 'Darwin',\n",
       "  'node_name': 'MAC132633',\n",
       "  'login_name': 'rsr',\n",
       "  'public_ip': '2620:0:2b30:e0::4b9',\n",
       "  'private_ip': '10.158.26.233',\n",
       "  'debug': True,\n",
       "  'address': 'tcp://127.0.0.1:56394',\n",
       "  'generated': {'arg0': 1.5220477703500763},\n",
       "  'start_time': 1676038417.3887954,\n",
       "  'end_time': 1676038417.3887985},\n",
       " {'task_id': 'dummy_func2-bfb285a3ab939a8a8b8e5de2b30e929a',\n",
       "  'custom_metadata': {'scheduler': 'tcp://127.0.0.1:56387',\n",
       "   'scheduler_id': 'Scheduler-bb138f70-babf-43e5-9b79-abbd359ba445',\n",
       "   'scheduler_pid': 34265},\n",
       "  'status': 'FINISHED',\n",
       "  'utc_timestamp': 1676056417.391746,\n",
       "  'dependencies': ['dummy_func1-27b109469155692a51dc5beeb73903c4'],\n",
       "  'activity_id': 'dummy_func2',\n",
       "  'used': {'arg0': 'dummy_func1-27b109469155692a51dc5beeb73903c4'},\n",
       "  'workflow_id': 'wf_d1777dc4-bcb8-4caa-af7d-1fda7aabd35d',\n",
       "  'plugin_id': 'dask',\n",
       "  'user': 'root',\n",
       "  'experiment_id': 'super-experiment',\n",
       "  'sys_name': 'Darwin',\n",
       "  'node_name': 'MAC132633',\n",
       "  'login_name': 'rsr',\n",
       "  'public_ip': '2620:0:2b30:e0::4b9',\n",
       "  'private_ip': '10.158.26.233',\n",
       "  'debug': True,\n",
       "  'address': 'tcp://127.0.0.1:56394',\n",
       "  'generated': {'arg0': 3.0440955407001526},\n",
       "  'start_time': 1676038417.3934774,\n",
       "  'end_time': 1676038417.3934844},\n",
       " {'task_id': 'dummy_func3-a5532dbb19f6ee8eb9df16d34fe29101',\n",
       "  'custom_metadata': {'scheduler': 'tcp://127.0.0.1:56387',\n",
       "   'scheduler_id': 'Scheduler-bb138f70-babf-43e5-9b79-abbd359ba445',\n",
       "   'scheduler_pid': 34265},\n",
       "  'status': 'FINISHED',\n",
       "  'utc_timestamp': 1676056417.397027,\n",
       "  'dependencies': ['dummy_func1-27b109469155692a51dc5beeb73903c4',\n",
       "   'dummy_func2-bfb285a3ab939a8a8b8e5de2b30e929a'],\n",
       "  'activity_id': 'dummy_func3',\n",
       "  'used': {'arg0': 'dummy_func1-27b109469155692a51dc5beeb73903c4',\n",
       "   'arg1': 'dummy_func2-bfb285a3ab939a8a8b8e5de2b30e929a'},\n",
       "  'workflow_id': 'wf_d1777dc4-bcb8-4caa-af7d-1fda7aabd35d',\n",
       "  'plugin_id': 'dask',\n",
       "  'user': 'root',\n",
       "  'experiment_id': 'super-experiment',\n",
       "  'sys_name': 'Darwin',\n",
       "  'node_name': 'MAC132633',\n",
       "  'login_name': 'rsr',\n",
       "  'public_ip': '2620:0:2b30:e0::4b9',\n",
       "  'private_ip': '10.158.26.233',\n",
       "  'debug': True,\n",
       "  'address': 'tcp://127.0.0.1:56394',\n",
       "  'generated': {'batch_size': 20},\n",
       "  'start_time': 1676038417.3986654,\n",
       "  'end_time': 1676038417.3986745}]"
      ]
     },
     "execution_count": 10,
     "metadata": {},
     "output_type": "execute_result"
    }
   ],
   "source": [
    "_filter = {\"workflow_id\": wf_id}\n",
    "tasks = query_api.query(_filter)\n",
    "tasks"
   ]
  },
  {
   "cell_type": "markdown",
   "id": "9d5797ed-cbb7-4c97-938a-2e55aff94cc7",
   "metadata": {
    "tags": []
   },
   "source": [
    "## Stopping consumer"
   ]
  },
  {
   "cell_type": "code",
   "execution_count": 11,
   "id": "45291c13-4fcf-47b4-9b9f-de0050b1b076",
   "metadata": {
    "tags": []
   },
   "outputs": [],
   "source": [
    "consumer.stop()"
   ]
  }
 ],
 "metadata": {
  "kernelspec": {
   "display_name": "Python 3 (ipykernel)",
   "language": "python",
   "name": "python3"
  },
  "language_info": {
   "codemirror_mode": {
    "name": "ipython",
    "version": 3
   },
   "file_extension": ".py",
   "mimetype": "text/x-python",
   "name": "python",
   "nbconvert_exporter": "python",
   "pygments_lexer": "ipython3",
   "version": "3.10.9"
  }
 },
 "nbformat": 4,
 "nbformat_minor": 5
}
