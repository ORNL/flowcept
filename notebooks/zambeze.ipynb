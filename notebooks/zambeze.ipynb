{
 "cells": [
  {
   "cell_type": "code",
   "execution_count": 18,
   "id": "710ec404-47c9-4e01-a0f4-a3e22eb9598b",
   "metadata": {},
   "outputs": [],
   "source": [
    "def connect_zambeze_queue():\n",
    "    import pika\n",
    "    connection = pika.BlockingConnection(\n",
    "        pika.ConnectionParameters('localhost', 5672)\n",
    "    )\n",
    "    channel = connection.channel()\n",
    "    channel.queue_declare('hello')\n",
    "    return channel\n",
    "\n",
    "def send_zambeze_message(channel):\n",
    "    from uuid import uuid4\n",
    "    import json\n",
    "    another_act_id = str(uuid4())\n",
    "    act_id = str(uuid4())\n",
    "    msg = {\n",
    "            \"name\": \"ImageMagick\",\n",
    "            \"activity_id\": act_id,\n",
    "            \"campaign_id\": \"campaign-uuid\",\n",
    "            \"origin_agent_id\": \"def-uuid\",\n",
    "            \"files\": [\"globus://Users/6o1/file.txt\"],\n",
    "            \"command\": \"convert\",\n",
    "            \"activity_status\": \"CREATED\",\n",
    "            \"arguments\": [\n",
    "                \"-delay\",\n",
    "                \"20\",\n",
    "                \"-loop\",\n",
    "                \"0\",\n",
    "                \"~/tests/campaigns/imagesequence/*.jpg\",\n",
    "                \"a.gif\",\n",
    "            ],\n",
    "            \"kwargs\": {},\n",
    "            \"depends_on\": [another_act_id],\n",
    "    }\n",
    "    channel.basic_publish(\n",
    "        exchange=\"\",\n",
    "        routing_key=\"hello\",\n",
    "        body=json.dumps(msg),\n",
    "    )\n",
    "    return act_id"
   ]
  },
  {
   "cell_type": "markdown",
   "id": "ab40e7aa-a87f-4c8d-bac3-2d41bf2e5d40",
   "metadata": {},
   "source": [
    "## Start Zambeze Flowceptor"
   ]
  },
  {
   "cell_type": "code",
   "execution_count": 13,
   "id": "6d04a420-97aa-426b-a700-99c21318add7",
   "metadata": {},
   "outputs": [],
   "source": [
    "from flowcept import ZambezeInterceptor\n",
    "interceptor = ZambezeInterceptor()"
   ]
  },
  {
   "cell_type": "code",
   "execution_count": 14,
   "id": "fe597f91-4a2b-4b3e-aa8e-2c19c5b4f0ce",
   "metadata": {},
   "outputs": [
    {
     "name": "stdout",
     "output_type": "stream",
     "text": [
      "Flowceptor zambeze starting...\n",
      "... ok!\n",
      "Flowcept Consumer starting...\n",
      " [*] Waiting for Zambeze messages. To exit press CTRL+C\n",
      "Ok, we're consuming messages!\n"
     ]
    }
   ],
   "source": [
    "from flowcept import FlowceptConsumerAPI\n",
    "consumer = FlowceptConsumerAPI(interceptor)\n",
    "consumer.start()"
   ]
  },
  {
   "cell_type": "markdown",
   "id": "b28d0a53-7c14-46c5-bb46-872594a49c8d",
   "metadata": {},
   "source": [
    "## Send Zambeze Message"
   ]
  },
  {
   "cell_type": "code",
   "execution_count": null,
   "id": "d76d4b5a-21f3-43a6-9e5b-574e3b2a3bb1",
   "metadata": {},
   "outputs": [],
   "source": [
    "channel = connect_zambeze_queue()"
   ]
  },
  {
   "cell_type": "code",
   "execution_count": 19,
   "id": "11bdd8d0-3be3-4e9e-bcc6-733653c3c097",
   "metadata": {},
   "outputs": [
    {
     "name": "stdout",
     "output_type": "stream",
     "text": [
      "I'm an interceptor and I need to intercept this:\n",
      "\t{\"name\": \"ImageMagick\", \"activity_id\": \"b69c9055-a0b4-4295-b4bb-bb580c1e5afa\", \"campaign_id\": \"campaign-uuid\", \"origin_agent_id\": \"def-uuid\", \"files\": [\"globus://Users/6o1/file.txt\"], \"command\": \"convert\", \"activity_status\": \"CREATED\", \"arguments\": [\"-delay\", \"20\", \"-loop\", \"0\", \"~/tests/campaigns/imagesequence/*.jpg\", \"a.gif\"], \"kwargs\": {}, \"depends_on\": [\"674926a5-7eef-4538-921a-b92352d09fe2\"]}\n",
      "Going to send to Redis an intercepted message:\n",
      "\t{\"utc_timestamp\": 1675799934.364379, \"experiment_id\": \"campaign-uuid\", \"task_id\": \"b69c9055-a0b4-4295-b4bb-bb580c1e5afa\", \"activity_id\": \"ImageMagick\", \"dependencies\": [\"674926a5-7eef-4538-921a-b92352d09fe2\"], \"custom_metadata\": {\"command\": \"convert\"}, \"status\": \"SUBMITTED\", \"used\": {\"args\": [\"-delay\", \"20\", \"-loop\", \"0\", \"~/tests/campaigns/imagesequence/*.jpg\", \"a.gif\"], \"kwargs\": {}, \"files\": [\"globus://Users/6o1/file.txt\"]}, \"plugin_id\": \"zambeze\", \"user\": \"root\", \"sys_name\": \"Darwin\", \"node_name\": \"MAC132633\", \"login_name\": \"rsr\", \"public_ip\": \"2620:0:2b30:e0::4b9\", \"private_ip\": \"10.158.26.233\"}\n",
      "An intercepted message was received.\n",
      "Time to flush!\n"
     ]
    }
   ],
   "source": [
    "act_id = send_zambeze_message(channel)\n",
    "act_id"
   ]
  },
  {
   "cell_type": "code",
   "execution_count": 20,
   "id": "8674ac56-96cf-4e7e-8c4b-7470808c5037",
   "metadata": {},
   "outputs": [
    {
     "name": "stdout",
     "output_type": "stream",
     "text": [
      "Ok, webserver is ready to receive requests.\n"
     ]
    }
   ],
   "source": [
    "from flowcept.flowcept_api import TaskQueryAPI\n",
    "query_api = TaskQueryAPI()"
   ]
  },
  {
   "cell_type": "code",
   "execution_count": 21,
   "id": "ea981434-215b-4e7e-8b2d-be998dc5ce96",
   "metadata": {},
   "outputs": [
    {
     "data": {
      "text/plain": [
       "[{'task_id': 'b69c9055-a0b4-4295-b4bb-bb580c1e5afa',\n",
       "  'utc_timestamp': 1675799934.364379,\n",
       "  'experiment_id': 'campaign-uuid',\n",
       "  'activity_id': 'ImageMagick',\n",
       "  'dependencies': ['674926a5-7eef-4538-921a-b92352d09fe2'],\n",
       "  'custom_metadata': {'command': 'convert'},\n",
       "  'status': 'SUBMITTED',\n",
       "  'used': {'args': ['-delay',\n",
       "    '20',\n",
       "    '-loop',\n",
       "    '0',\n",
       "    '~/tests/campaigns/imagesequence/*.jpg',\n",
       "    'a.gif'],\n",
       "   'files': ['globus://Users/6o1/file.txt']},\n",
       "  'plugin_id': 'zambeze',\n",
       "  'user': 'root',\n",
       "  'sys_name': 'Darwin',\n",
       "  'node_name': 'MAC132633',\n",
       "  'login_name': 'rsr',\n",
       "  'public_ip': '2620:0:2b30:e0::4b9',\n",
       "  'private_ip': '10.158.26.233',\n",
       "  'debug': True}]"
      ]
     },
     "execution_count": 21,
     "metadata": {},
     "output_type": "execute_result"
    },
    {
     "name": "stdout",
     "output_type": "stream",
     "text": [
      "An intercepted message was received.\n",
      "An intercepted message was received.\n",
      "An intercepted message was received.\n",
      "An intercepted message was received.\n",
      "An intercepted message was received.\n",
      "An intercepted message was received.\n",
      "An intercepted message was received.\n",
      "An intercepted message was received.\n",
      "An intercepted message was received.\n",
      "An intercepted message was received.\n",
      "An intercepted message was received.\n",
      "An intercepted message was received.\n",
      "An intercepted message was received.\n",
      "An intercepted message was received.\n",
      "An intercepted message was received.\n",
      "Time to flush!\n",
      "An intercepted message was received.\n",
      "An intercepted message was received.\n",
      "An intercepted message was received.\n",
      "Time to flush!\n",
      "An intercepted message was received.\n",
      "An intercepted message was received.\n",
      "An intercepted message was received.\n",
      "Time to flush!\n",
      "An intercepted message was received.\n",
      "An intercepted message was received.\n",
      "An intercepted message was received.\n",
      "An intercepted message was received.\n",
      "An intercepted message was received.\n",
      "An intercepted message was received.\n",
      "An intercepted message was received.\n",
      "An intercepted message was received.\n",
      "An intercepted message was received.\n",
      "An intercepted message was received.\n",
      "An intercepted message was received.\n",
      "An intercepted message was received.\n",
      "An intercepted message was received.\n",
      "An intercepted message was received.\n",
      "An intercepted message was received.\n",
      "Time to flush!\n",
      "An intercepted message was received.\n",
      "Time to flush!\n",
      "I'm an interceptor and I need to intercept this:\n",
      "\t{\"name\": \"ImageMagick\", \"activity_id\": \"92575a4b-e82e-4248-a067-acb46c75150d\", \"campaign_id\": \"campaign-uuid\", \"origin_agent_id\": \"def-uuid\", \"files\": [\"globus://Users/6o1/file.txt\"], \"command\": \"convert\", \"activity_status\": \"CREATED\", \"arguments\": [\"-delay\", \"20\", \"-loop\", \"0\", \"~/tests/campaigns/imagesequence/*.jpg\", \"a.gif\"], \"kwargs\": {}, \"depends_on\": [\"b745a8c2-74bf-4e8c-8a7e-eb2b2e0e7e5c\"]}\n",
      "Going to send to Redis an intercepted message:\n",
      "\t{\"utc_timestamp\": 1675806409.083815, \"experiment_id\": \"campaign-uuid\", \"task_id\": \"92575a4b-e82e-4248-a067-acb46c75150d\", \"activity_id\": \"ImageMagick\", \"dependencies\": [\"b745a8c2-74bf-4e8c-8a7e-eb2b2e0e7e5c\"], \"custom_metadata\": {\"command\": \"convert\"}, \"status\": \"SUBMITTED\", \"used\": {\"args\": [\"-delay\", \"20\", \"-loop\", \"0\", \"~/tests/campaigns/imagesequence/*.jpg\", \"a.gif\"], \"kwargs\": {}, \"files\": [\"globus://Users/6o1/file.txt\"]}, \"plugin_id\": \"zambeze\", \"user\": \"root\", \"sys_name\": \"Darwin\", \"node_name\": \"MAC132633\", \"login_name\": \"rsr\", \"public_ip\": \"2620:0:2b30:e0::4b9\", \"private_ip\": \"10.158.26.233\"}\n",
      "An intercepted message was received.\n",
      "Time to flush!\n"
     ]
    }
   ],
   "source": [
    "_filter = {\"task_id\": act_id}\n",
    "query_api.query(_filter)"
   ]
  },
  {
   "cell_type": "code",
   "execution_count": null,
   "id": "feb37d75-7ad6-4b0a-8213-70af8718c3b4",
   "metadata": {},
   "outputs": [],
   "source": []
  }
 ],
 "metadata": {
  "kernelspec": {
   "display_name": "Python 3 (ipykernel)",
   "language": "python",
   "name": "python3"
  },
  "language_info": {
   "codemirror_mode": {
    "name": "ipython",
    "version": 3
   },
   "file_extension": ".py",
   "mimetype": "text/x-python",
   "name": "python",
   "nbconvert_exporter": "python",
   "pygments_lexer": "ipython3",
   "version": "3.10.9"
  }
 },
 "nbformat": 4,
 "nbformat_minor": 5
}
