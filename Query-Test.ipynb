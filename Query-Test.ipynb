{
 "cells": [
  {
   "cell_type": "code",
   "execution_count": 1,
   "id": "23986adf-94d4-4229-9c90-ed7f837c645d",
   "metadata": {},
   "outputs": [],
   "source": [
    "import pandas as pd"
   ]
  },
  {
   "cell_type": "code",
   "execution_count": 2,
   "id": "58fa06fd-e279-456e-9487-e757218f3541",
   "metadata": {},
   "outputs": [],
   "source": [
    "path = '/tmp/current_agent_df.csv'"
   ]
  },
  {
   "cell_type": "code",
   "execution_count": 3,
   "id": "cbbcbbd3-c1c5-438a-9040-1c2be130e8c5",
   "metadata": {},
   "outputs": [],
   "source": [
    "df = pd.read_csv(path)"
   ]
  },
  {
   "cell_type": "code",
   "execution_count": 7,
   "id": "ea61eb95-8351-45ce-9443-5b8afbd0e3ea",
   "metadata": {},
   "outputs": [
    {
     "data": {
      "text/html": [
       "<div>\n",
       "<style scoped>\n",
       "    .dataframe tbody tr th:only-of-type {\n",
       "        vertical-align: middle;\n",
       "    }\n",
       "\n",
       "    .dataframe tbody tr th {\n",
       "        vertical-align: top;\n",
       "    }\n",
       "\n",
       "    .dataframe thead th {\n",
       "        text-align: right;\n",
       "    }\n",
       "</style>\n",
       "<table border=\"1\" class=\"dataframe\">\n",
       "  <thead>\n",
       "    <tr style=\"text-align: right;\">\n",
       "      <th></th>\n",
       "      <th>workflow_id</th>\n",
       "      <th>telemetry_summary.duration_sec</th>\n",
       "    </tr>\n",
       "  </thead>\n",
       "  <tbody>\n",
       "    <tr>\n",
       "      <th>65</th>\n",
       "      <td>a654eb4a-27ee-48e7-bc98-c3025e8ce534</td>\n",
       "      <td>0.007981</td>\n",
       "    </tr>\n",
       "    <tr>\n",
       "      <th>83</th>\n",
       "      <td>cb6b5e71-1682-4329-9a1c-b3aa60a88685</td>\n",
       "      <td>0.007368</td>\n",
       "    </tr>\n",
       "    <tr>\n",
       "      <th>33</th>\n",
       "      <td>60c3802c-a8c4-4ae3-8a81-e0e10b8f70a3</td>\n",
       "      <td>0.007283</td>\n",
       "    </tr>\n",
       "    <tr>\n",
       "      <th>43</th>\n",
       "      <td>7d0852d0-8261-4eaf-a4f2-f81e293dc02c</td>\n",
       "      <td>0.006752</td>\n",
       "    </tr>\n",
       "    <tr>\n",
       "      <th>46</th>\n",
       "      <td>8366f7b4-f0ba-4e17-ac13-926ed8c35d71</td>\n",
       "      <td>0.006740</td>\n",
       "    </tr>\n",
       "    <tr>\n",
       "      <th>...</th>\n",
       "      <td>...</td>\n",
       "      <td>...</td>\n",
       "    </tr>\n",
       "    <tr>\n",
       "      <th>5</th>\n",
       "      <td>10d8da5a-7cb6-4342-ab0b-8a0ef8bb55be</td>\n",
       "      <td>0.003360</td>\n",
       "    </tr>\n",
       "    <tr>\n",
       "      <th>34</th>\n",
       "      <td>6106d18a-51d2-45f1-a22c-d18756f5679d</td>\n",
       "      <td>0.003335</td>\n",
       "    </tr>\n",
       "    <tr>\n",
       "      <th>95</th>\n",
       "      <td>ebfe21ad-71f1-4ef0-9b09-f41e0a5006e8</td>\n",
       "      <td>0.003308</td>\n",
       "    </tr>\n",
       "    <tr>\n",
       "      <th>14</th>\n",
       "      <td>24cc35ab-7e56-4eab-84be-584e82f8eb2c</td>\n",
       "      <td>0.003268</td>\n",
       "    </tr>\n",
       "    <tr>\n",
       "      <th>45</th>\n",
       "      <td>8231a3cb-16f2-48d4-9ff1-25257deeab1f</td>\n",
       "      <td>0.003182</td>\n",
       "    </tr>\n",
       "  </tbody>\n",
       "</table>\n",
       "<p>100 rows × 2 columns</p>\n",
       "</div>"
      ],
      "text/plain": [
       "                             workflow_id  telemetry_summary.duration_sec\n",
       "65  a654eb4a-27ee-48e7-bc98-c3025e8ce534                        0.007981\n",
       "83  cb6b5e71-1682-4329-9a1c-b3aa60a88685                        0.007368\n",
       "33  60c3802c-a8c4-4ae3-8a81-e0e10b8f70a3                        0.007283\n",
       "43  7d0852d0-8261-4eaf-a4f2-f81e293dc02c                        0.006752\n",
       "46  8366f7b4-f0ba-4e17-ac13-926ed8c35d71                        0.006740\n",
       "..                                   ...                             ...\n",
       "5   10d8da5a-7cb6-4342-ab0b-8a0ef8bb55be                        0.003360\n",
       "34  6106d18a-51d2-45f1-a22c-d18756f5679d                        0.003335\n",
       "95  ebfe21ad-71f1-4ef0-9b09-f41e0a5006e8                        0.003308\n",
       "14  24cc35ab-7e56-4eab-84be-584e82f8eb2c                        0.003268\n",
       "45  8231a3cb-16f2-48d4-9ff1-25257deeab1f                        0.003182\n",
       "\n",
       "[100 rows x 2 columns]"
      ]
     },
     "execution_count": 7,
     "metadata": {},
     "output_type": "execute_result"
    }
   ],
   "source": [
    "result = df.groupby('workflow_id')['telemetry_summary.duration_sec'].sum().reset_index().sort_values(by='telemetry_summary.duration_sec', ascending=False).dropna(axis=1, how='all')\n",
    "result\n",
    "### QUERY 5, WRONG RESPONSE- JUST TESTING. IT TAKES THE TIME PER WORKFLOW ID INSTEAD OF THE ACTIVITY\n",
    "# WITH THE LONGEST EXECUTION TIME PER WORKFLOW_ID IT JUST TAKES THEN ENTIRE WORKFLOW_ID"
   ]
  },
  {
   "cell_type": "code",
   "execution_count": 6,
   "id": "9b5330fc-dcb4-4b89-8b7d-ecab4361bdb7",
   "metadata": {},
   "outputs": [
    {
     "data": {
      "text/html": [
       "<div>\n",
       "<style scoped>\n",
       "    .dataframe tbody tr th:only-of-type {\n",
       "        vertical-align: middle;\n",
       "    }\n",
       "\n",
       "    .dataframe tbody tr th {\n",
       "        vertical-align: top;\n",
       "    }\n",
       "\n",
       "    .dataframe thead th {\n",
       "        text-align: right;\n",
       "    }\n",
       "</style>\n",
       "<table border=\"1\" class=\"dataframe\">\n",
       "  <thead>\n",
       "    <tr style=\"text-align: right;\">\n",
       "      <th></th>\n",
       "      <th>workflow_id</th>\n",
       "      <th>activity_id</th>\n",
       "      <th>duration</th>\n",
       "    </tr>\n",
       "  </thead>\n",
       "  <tbody>\n",
       "    <tr>\n",
       "      <th>0</th>\n",
       "      <td>01f149a1-65c0-47fb-81bc-21ceb0d085c9</td>\n",
       "      <td>average_results</td>\n",
       "      <td>0.000718</td>\n",
       "    </tr>\n",
       "    <tr>\n",
       "      <th>8</th>\n",
       "      <td>06b0052f-b1e7-45ff-bae5-3b7d07b27638</td>\n",
       "      <td>average_results</td>\n",
       "      <td>0.000561</td>\n",
       "    </tr>\n",
       "    <tr>\n",
       "      <th>16</th>\n",
       "      <td>074be906-ab64-43f2-8a70-0ac19bad7bde</td>\n",
       "      <td>average_results</td>\n",
       "      <td>0.000575</td>\n",
       "    </tr>\n",
       "    <tr>\n",
       "      <th>25</th>\n",
       "      <td>08ee9818-9a15-4b90-a7da-484a59fe1fc4</td>\n",
       "      <td>log_and_shift</td>\n",
       "      <td>0.000846</td>\n",
       "    </tr>\n",
       "    <tr>\n",
       "      <th>35</th>\n",
       "      <td>0b36e303-88c7-4601-b7ce-8a224f2a1a8a</td>\n",
       "      <td>scale_shift_input</td>\n",
       "      <td>0.000645</td>\n",
       "    </tr>\n",
       "    <tr>\n",
       "      <th>...</th>\n",
       "      <td>...</td>\n",
       "      <td>...</td>\n",
       "      <td>...</td>\n",
       "    </tr>\n",
       "    <tr>\n",
       "      <th>763</th>\n",
       "      <td>ebfe21ad-71f1-4ef0-9b09-f41e0a5006e8</td>\n",
       "      <td>scale_shift_input</td>\n",
       "      <td>0.000535</td>\n",
       "    </tr>\n",
       "    <tr>\n",
       "      <th>770</th>\n",
       "      <td>ee632b2e-606d-45e5-81c9-d87c1b951690</td>\n",
       "      <td>power_one_point_five</td>\n",
       "      <td>0.000978</td>\n",
       "    </tr>\n",
       "    <tr>\n",
       "      <th>779</th>\n",
       "      <td>f2fcf18c-9f5e-4afa-810c-0665912c1aff</td>\n",
       "      <td>scale_shift_input</td>\n",
       "      <td>0.000972</td>\n",
       "    </tr>\n",
       "    <tr>\n",
       "      <th>786</th>\n",
       "      <td>ff5cef90-4d9b-4bef-83bc-aa0e8cc472ec</td>\n",
       "      <td>power_one_point_five</td>\n",
       "      <td>0.000616</td>\n",
       "    </tr>\n",
       "    <tr>\n",
       "      <th>796</th>\n",
       "      <td>ff615e44-ebef-4a41-9e92-2f0f20848893</td>\n",
       "      <td>sqrt_and_scale</td>\n",
       "      <td>0.000964</td>\n",
       "    </tr>\n",
       "  </tbody>\n",
       "</table>\n",
       "<p>100 rows × 3 columns</p>\n",
       "</div>"
      ],
      "text/plain": [
       "                              workflow_id           activity_id  duration\n",
       "0    01f149a1-65c0-47fb-81bc-21ceb0d085c9       average_results  0.000718\n",
       "8    06b0052f-b1e7-45ff-bae5-3b7d07b27638       average_results  0.000561\n",
       "16   074be906-ab64-43f2-8a70-0ac19bad7bde       average_results  0.000575\n",
       "25   08ee9818-9a15-4b90-a7da-484a59fe1fc4         log_and_shift  0.000846\n",
       "35   0b36e303-88c7-4601-b7ce-8a224f2a1a8a     scale_shift_input  0.000645\n",
       "..                                    ...                   ...       ...\n",
       "763  ebfe21ad-71f1-4ef0-9b09-f41e0a5006e8     scale_shift_input  0.000535\n",
       "770  ee632b2e-606d-45e5-81c9-d87c1b951690  power_one_point_five  0.000978\n",
       "779  f2fcf18c-9f5e-4afa-810c-0665912c1aff     scale_shift_input  0.000972\n",
       "786  ff5cef90-4d9b-4bef-83bc-aa0e8cc472ec  power_one_point_five  0.000616\n",
       "796  ff615e44-ebef-4a41-9e92-2f0f20848893        sqrt_and_scale  0.000964\n",
       "\n",
       "[100 rows x 3 columns]"
      ]
     },
     "execution_count": 6,
     "metadata": {},
     "output_type": "execute_result"
    }
   ],
   "source": [
    "result = df.assign(started_at=pd.to_datetime(df['started_at']), ended_at=pd.to_datetime(df['ended_at']), duration=lambda x: (x['ended_at'] - x['started_at']).dt.total_seconds()).groupby(['workflow_id', 'activity_id'])['duration'].sum().reset_index().loc[lambda x: x.groupby('workflow_id')['duration'].idxmax()]\n",
    "result"
   ]
  },
  {
   "cell_type": "code",
   "execution_count": 9,
   "id": "f8df52fe-5de7-4128-b29f-c8cfa9bdee67",
   "metadata": {},
   "outputs": [
    {
     "data": {
      "text/plain": [
       "np.float64(0.1)"
      ]
     },
     "execution_count": 9,
     "metadata": {},
     "output_type": "execute_result"
    }
   ],
   "source": [
    "\"result = (df.assign(started_at=pd.to_datetime(df['started_at'])).sort_values('started_at', ascending=False).groupby('workflow_id').head(1).nlargest(10, 'started_at')['cpu_percent'].mean())\"\n",
    "result"
   ]
  },
  {
   "cell_type": "code",
   "execution_count": 4,
   "id": "65a1a482-6d25-4792-9853-b64c030e7838",
   "metadata": {},
   "outputs": [
    {
     "data": {
      "text/plain": [
       "'01f149a1-65c0-47fb-81bc-21ceb0d085c9'"
      ]
     },
     "execution_count": 4,
     "metadata": {},
     "output_type": "execute_result"
    }
   ],
   "source": [
    " sorted(df['workflow_id'].unique())[0]"
   ]
  },
  {
   "cell_type": "code",
   "execution_count": 22,
   "id": "a32863be-f94c-4884-92e2-d774b3797317",
   "metadata": {},
   "outputs": [],
   "source": [
    "result = df[df['workflow_id'] == sorted(df['workflow_id'].unique())[0]][['task_id', 'telemetry_summary.duration_sec']].values.tolist()"
   ]
  },
  {
   "cell_type": "code",
   "execution_count": 23,
   "id": "e1f782c5-be4e-4ffd-b1f5-2363f24de82c",
   "metadata": {},
   "outputs": [
    {
     "data": {
      "text/plain": [
       "[[1752176945.4611628, 0.000511884689331],\n",
       " [1752176945.462119, 0.0004372596740722],\n",
       " [1752176945.462986, 0.0004515647888183],\n",
       " [1752176945.4639387, 0.0004568099975585],\n",
       " [1752176945.464884, 0.0005059242248535],\n",
       " [1752176945.465991, 0.000842809677124],\n",
       " [1752176945.4673164, 0.0003738403320312],\n",
       " [1752176945.468047, 0.0003719329833984]]"
      ]
     },
     "execution_count": 23,
     "metadata": {},
     "output_type": "execute_result"
    }
   ],
   "source": [
    "result"
   ]
  },
  {
   "cell_type": "code",
   "execution_count": 24,
   "id": "c34c004e-17d7-4731-aa94-4c294ea9d1c2",
   "metadata": {},
   "outputs": [
    {
     "ename": "KeyError",
     "evalue": "'started_at'",
     "output_type": "error",
     "traceback": [
      "\u001b[31m---------------------------------------------------------------------------\u001b[39m",
      "\u001b[31mKeyError\u001b[39m                                  Traceback (most recent call last)",
      "\u001b[32m/tmp/ipykernel_41730/2892596815.py\u001b[39m in \u001b[36m?\u001b[39m\u001b[34m()\u001b[39m\n\u001b[32m----> \u001b[39m\u001b[32m1\u001b[39m result = df[df[\u001b[33m'workflow_id'\u001b[39m] == df.sort_values(\u001b[33m'started_at'\u001b[39m,ascending=\u001b[38;5;28;01mFalse\u001b[39;00m)[\u001b[33m'workflow_id'\u001b[39m].iloc[\u001b[32m0\u001b[39m]][[\u001b[33m'hostname'\u001b[39m,\u001b[33m'activity_id'\u001b[39m,\u001b[33m'telemetry_summary.duration_sec'\u001b[39m]].sort_values(\u001b[33m'started_at'\u001b[39m).apply(tuple,axis=\u001b[32m1\u001b[39m).tolist()\n",
      "\u001b[32m~/miniconda3/envs/flowcept_new/lib/python3.12/site-packages/pandas/core/frame.py\u001b[39m in \u001b[36m?\u001b[39m\u001b[34m(self, by, axis, ascending, inplace, kind, na_position, ignore_index, key)\u001b[39m\n\u001b[32m   7192\u001b[39m             )\n\u001b[32m   7193\u001b[39m         \u001b[38;5;28;01melif\u001b[39;00m len(by):\n\u001b[32m   7194\u001b[39m             \u001b[38;5;66;03m# len(by) == 1\u001b[39;00m\n\u001b[32m   7195\u001b[39m \n\u001b[32m-> \u001b[39m\u001b[32m7196\u001b[39m             k = self._get_label_or_level_values(by[\u001b[32m0\u001b[39m], axis=axis)\n\u001b[32m   7197\u001b[39m \n\u001b[32m   7198\u001b[39m             \u001b[38;5;66;03m# need to rewrap column in Series to apply key function\u001b[39;00m\n\u001b[32m   7199\u001b[39m             \u001b[38;5;28;01mif\u001b[39;00m key \u001b[38;5;28;01mis\u001b[39;00m \u001b[38;5;28;01mnot\u001b[39;00m \u001b[38;5;28;01mNone\u001b[39;00m:\n",
      "\u001b[32m~/miniconda3/envs/flowcept_new/lib/python3.12/site-packages/pandas/core/generic.py\u001b[39m in \u001b[36m?\u001b[39m\u001b[34m(self, key, axis)\u001b[39m\n\u001b[32m   1907\u001b[39m             values = self.xs(key, axis=other_axes[\u001b[32m0\u001b[39m])._values\n\u001b[32m   1908\u001b[39m         \u001b[38;5;28;01melif\u001b[39;00m self._is_level_reference(key, axis=axis):\n\u001b[32m   1909\u001b[39m             values = self.axes[axis].get_level_values(key)._values\n\u001b[32m   1910\u001b[39m         \u001b[38;5;28;01melse\u001b[39;00m:\n\u001b[32m-> \u001b[39m\u001b[32m1911\u001b[39m             \u001b[38;5;28;01mraise\u001b[39;00m KeyError(key)\n\u001b[32m   1912\u001b[39m \n\u001b[32m   1913\u001b[39m         \u001b[38;5;66;03m# Check for duplicates\u001b[39;00m\n\u001b[32m   1914\u001b[39m         \u001b[38;5;28;01mif\u001b[39;00m values.ndim > \u001b[32m1\u001b[39m:\n",
      "\u001b[31mKeyError\u001b[39m: 'started_at'"
     ]
    }
   ],
   "source": [
    "result = df[df['workflow_id'] == df.sort_values('started_at',ascending=False)['workflow_id'].iloc[0]][['hostname','activity_id','telemetry_summary.duration_sec']].sort_values('started_at').apply(tuple,axis=1).tolist()"
   ]
  },
  {
   "cell_type": "code",
   "execution_count": 25,
   "id": "61a65826-b3a8-407a-bc95-2ed61e5d0348",
   "metadata": {},
   "outputs": [
    {
     "data": {
      "text/plain": [
       "0    2025-07-10 19:49:05.461163+00:00\n",
       "1    2025-07-10 19:49:05.462119+00:00\n",
       "2    2025-07-10 19:49:05.462986+00:00\n",
       "3    2025-07-10 19:49:05.463939+00:00\n",
       "4    2025-07-10 19:49:05.464884+00:00\n",
       "5    2025-07-10 19:49:05.465991+00:00\n",
       "6    2025-07-10 19:49:05.467316+00:00\n",
       "7    2025-07-10 19:49:05.468047+00:00\n",
       "Name: started_at, dtype: object"
      ]
     },
     "execution_count": 25,
     "metadata": {},
     "output_type": "execute_result"
    }
   ],
   "source": [
    "df['started_at']"
   ]
  },
  {
   "cell_type": "code",
   "execution_count": 28,
   "id": "4ba1cdee-0a70-4df7-9830-32b2e66c0ca2",
   "metadata": {},
   "outputs": [],
   "source": [
    "result = df[df['workflow_id'] == sorted(df['workflow_id'].unique())[0]][['activity_id','started_at','telemetry_summary.duration_sec','hostname','generated.a','generated.b','generated.c','generated.d','generated.e','generated.f','generated.g','generated.h']].sort_values('started_at')"
   ]
  },
  {
   "cell_type": "code",
   "execution_count": 29,
   "id": "e5548420-e59d-4ffa-9f82-a1b6d78e9030",
   "metadata": {},
   "outputs": [
    {
     "data": {
      "text/html": [
       "<div>\n",
       "<style scoped>\n",
       "    .dataframe tbody tr th:only-of-type {\n",
       "        vertical-align: middle;\n",
       "    }\n",
       "\n",
       "    .dataframe tbody tr th {\n",
       "        vertical-align: top;\n",
       "    }\n",
       "\n",
       "    .dataframe thead th {\n",
       "        text-align: right;\n",
       "    }\n",
       "</style>\n",
       "<table border=\"1\" class=\"dataframe\">\n",
       "  <thead>\n",
       "    <tr style=\"text-align: right;\">\n",
       "      <th></th>\n",
       "      <th>activity_id</th>\n",
       "      <th>started_at</th>\n",
       "      <th>telemetry_summary.duration_sec</th>\n",
       "      <th>hostname</th>\n",
       "      <th>generated.a</th>\n",
       "      <th>generated.b</th>\n",
       "      <th>generated.c</th>\n",
       "      <th>generated.d</th>\n",
       "      <th>generated.e</th>\n",
       "      <th>generated.f</th>\n",
       "      <th>generated.g</th>\n",
       "      <th>generated.h</th>\n",
       "    </tr>\n",
       "  </thead>\n",
       "  <tbody>\n",
       "    <tr>\n",
       "      <th>0</th>\n",
       "      <td>scale_shift_input</td>\n",
       "      <td>2025-07-10 19:49:05.461163+00:00</td>\n",
       "      <td>0.000512</td>\n",
       "      <td>LAP149969.ornl.gov</td>\n",
       "      <td>NaN</td>\n",
       "      <td>NaN</td>\n",
       "      <td>NaN</td>\n",
       "      <td>NaN</td>\n",
       "      <td>NaN</td>\n",
       "      <td>NaN</td>\n",
       "      <td>NaN</td>\n",
       "      <td>43.0</td>\n",
       "    </tr>\n",
       "    <tr>\n",
       "      <th>1</th>\n",
       "      <td>square_and_quarter</td>\n",
       "      <td>2025-07-10 19:49:05.462119+00:00</td>\n",
       "      <td>0.000437</td>\n",
       "      <td>LAP149969.ornl.gov</td>\n",
       "      <td>NaN</td>\n",
       "      <td>NaN</td>\n",
       "      <td>NaN</td>\n",
       "      <td>NaN</td>\n",
       "      <td>462.25</td>\n",
       "      <td>NaN</td>\n",
       "      <td>NaN</td>\n",
       "      <td>NaN</td>\n",
       "    </tr>\n",
       "    <tr>\n",
       "      <th>2</th>\n",
       "      <td>sqrt_and_scale</td>\n",
       "      <td>2025-07-10 19:49:05.462986+00:00</td>\n",
       "      <td>0.000452</td>\n",
       "      <td>LAP149969.ornl.gov</td>\n",
       "      <td>NaN</td>\n",
       "      <td>NaN</td>\n",
       "      <td>NaN</td>\n",
       "      <td>NaN</td>\n",
       "      <td>NaN</td>\n",
       "      <td>39.344631</td>\n",
       "      <td>NaN</td>\n",
       "      <td>NaN</td>\n",
       "    </tr>\n",
       "    <tr>\n",
       "      <th>3</th>\n",
       "      <td>subtract_and_shift</td>\n",
       "      <td>2025-07-10 19:49:05.463939+00:00</td>\n",
       "      <td>0.000457</td>\n",
       "      <td>LAP149969.ornl.gov</td>\n",
       "      <td>NaN</td>\n",
       "      <td>NaN</td>\n",
       "      <td>NaN</td>\n",
       "      <td>NaN</td>\n",
       "      <td>NaN</td>\n",
       "      <td>NaN</td>\n",
       "      <td>46.8</td>\n",
       "      <td>NaN</td>\n",
       "    </tr>\n",
       "    <tr>\n",
       "      <th>4</th>\n",
       "      <td>square_and_subtract_one</td>\n",
       "      <td>2025-07-10 19:49:05.464884+00:00</td>\n",
       "      <td>0.000506</td>\n",
       "      <td>LAP149969.ornl.gov</td>\n",
       "      <td>NaN</td>\n",
       "      <td>NaN</td>\n",
       "      <td>NaN</td>\n",
       "      <td>213674.0625</td>\n",
       "      <td>NaN</td>\n",
       "      <td>NaN</td>\n",
       "      <td>NaN</td>\n",
       "      <td>NaN</td>\n",
       "    </tr>\n",
       "    <tr>\n",
       "      <th>5</th>\n",
       "      <td>log_and_shift</td>\n",
       "      <td>2025-07-10 19:49:05.465991+00:00</td>\n",
       "      <td>0.000843</td>\n",
       "      <td>LAP149969.ornl.gov</td>\n",
       "      <td>NaN</td>\n",
       "      <td>NaN</td>\n",
       "      <td>10.67236</td>\n",
       "      <td>NaN</td>\n",
       "      <td>NaN</td>\n",
       "      <td>NaN</td>\n",
       "      <td>NaN</td>\n",
       "      <td>NaN</td>\n",
       "    </tr>\n",
       "    <tr>\n",
       "      <th>6</th>\n",
       "      <td>power_one_point_five</td>\n",
       "      <td>2025-07-10 19:49:05.467316+00:00</td>\n",
       "      <td>0.000374</td>\n",
       "      <td>LAP149969.ornl.gov</td>\n",
       "      <td>NaN</td>\n",
       "      <td>320.161259</td>\n",
       "      <td>NaN</td>\n",
       "      <td>NaN</td>\n",
       "      <td>NaN</td>\n",
       "      <td>NaN</td>\n",
       "      <td>NaN</td>\n",
       "      <td>NaN</td>\n",
       "    </tr>\n",
       "    <tr>\n",
       "      <th>7</th>\n",
       "      <td>average_results</td>\n",
       "      <td>2025-07-10 19:49:05.468047+00:00</td>\n",
       "      <td>0.000372</td>\n",
       "      <td>LAP149969.ornl.gov</td>\n",
       "      <td>71334.965373</td>\n",
       "      <td>NaN</td>\n",
       "      <td>NaN</td>\n",
       "      <td>NaN</td>\n",
       "      <td>NaN</td>\n",
       "      <td>NaN</td>\n",
       "      <td>NaN</td>\n",
       "      <td>NaN</td>\n",
       "    </tr>\n",
       "  </tbody>\n",
       "</table>\n",
       "</div>"
      ],
      "text/plain": [
       "               activity_id                        started_at  \\\n",
       "0        scale_shift_input  2025-07-10 19:49:05.461163+00:00   \n",
       "1       square_and_quarter  2025-07-10 19:49:05.462119+00:00   \n",
       "2           sqrt_and_scale  2025-07-10 19:49:05.462986+00:00   \n",
       "3       subtract_and_shift  2025-07-10 19:49:05.463939+00:00   \n",
       "4  square_and_subtract_one  2025-07-10 19:49:05.464884+00:00   \n",
       "5            log_and_shift  2025-07-10 19:49:05.465991+00:00   \n",
       "6     power_one_point_five  2025-07-10 19:49:05.467316+00:00   \n",
       "7          average_results  2025-07-10 19:49:05.468047+00:00   \n",
       "\n",
       "   telemetry_summary.duration_sec            hostname   generated.a  \\\n",
       "0                        0.000512  LAP149969.ornl.gov           NaN   \n",
       "1                        0.000437  LAP149969.ornl.gov           NaN   \n",
       "2                        0.000452  LAP149969.ornl.gov           NaN   \n",
       "3                        0.000457  LAP149969.ornl.gov           NaN   \n",
       "4                        0.000506  LAP149969.ornl.gov           NaN   \n",
       "5                        0.000843  LAP149969.ornl.gov           NaN   \n",
       "6                        0.000374  LAP149969.ornl.gov           NaN   \n",
       "7                        0.000372  LAP149969.ornl.gov  71334.965373   \n",
       "\n",
       "   generated.b  generated.c  generated.d  generated.e  generated.f  \\\n",
       "0          NaN          NaN          NaN          NaN          NaN   \n",
       "1          NaN          NaN          NaN       462.25          NaN   \n",
       "2          NaN          NaN          NaN          NaN    39.344631   \n",
       "3          NaN          NaN          NaN          NaN          NaN   \n",
       "4          NaN          NaN  213674.0625          NaN          NaN   \n",
       "5          NaN     10.67236          NaN          NaN          NaN   \n",
       "6   320.161259          NaN          NaN          NaN          NaN   \n",
       "7          NaN          NaN          NaN          NaN          NaN   \n",
       "\n",
       "   generated.g  generated.h  \n",
       "0          NaN         43.0  \n",
       "1          NaN          NaN  \n",
       "2          NaN          NaN  \n",
       "3         46.8          NaN  \n",
       "4          NaN          NaN  \n",
       "5          NaN          NaN  \n",
       "6          NaN          NaN  \n",
       "7          NaN          NaN  "
      ]
     },
     "execution_count": 29,
     "metadata": {},
     "output_type": "execute_result"
    }
   ],
   "source": [
    "result"
   ]
  },
  {
   "cell_type": "code",
   "execution_count": 33,
   "id": "2f5d71bb-c4e5-495d-a11c-3a7e5ca01744",
   "metadata": {},
   "outputs": [
    {
     "data": {
      "text/plain": [
       "[('LAP149969.ornl.gov', '2025-07-10 19:49:05.461163+00:00'),\n",
       " ('LAP149969.ornl.gov', '2025-07-10 19:49:05.462119+00:00'),\n",
       " ('LAP149969.ornl.gov', '2025-07-10 19:49:05.462986+00:00'),\n",
       " ('LAP149969.ornl.gov', '2025-07-10 19:49:05.463939+00:00'),\n",
       " ('LAP149969.ornl.gov', '2025-07-10 19:49:05.464884+00:00'),\n",
       " ('LAP149969.ornl.gov', '2025-07-10 19:49:05.465991+00:00'),\n",
       " ('LAP149969.ornl.gov', '2025-07-10 19:49:05.467316+00:00'),\n",
       " ('LAP149969.ornl.gov', '2025-07-10 19:49:05.468047+00:00')]"
      ]
     },
     "execution_count": 33,
     "metadata": {},
     "output_type": "execute_result"
    }
   ],
   "source": [
    "result = df[df['workflow_id'] == sorted(df['workflow_id'].unique())[0]][['hostname', 'started_at']].sort_values('started_at').apply(tuple, axis=1).tolist()\n",
    "result"
   ]
  },
  {
   "cell_type": "code",
   "execution_count": 32,
   "id": "ebd43c35-a397-46b6-8473-72b04d42d83d",
   "metadata": {},
   "outputs": [
    {
     "name": "stderr",
     "output_type": "stream",
     "text": [
      "/tmp/ipykernel_41730/223460175.py:1: FutureWarning: Series.__getitem__ treating keys as positions is deprecated. In a future version, integer keys will always be treated as labels (consistent with DataFrame behavior). To access a value by position, use `ser.iloc[pos]`\n",
      "  result[0]\n"
     ]
    },
    {
     "data": {
      "text/plain": [
       "['scale_shift_input',\n",
       " 'square_and_quarter',\n",
       " 'sqrt_and_scale',\n",
       " 'subtract_and_shift',\n",
       " 'square_and_subtract_one',\n",
       " 'log_and_shift',\n",
       " 'power_one_point_five',\n",
       " 'average_results']"
      ]
     },
     "execution_count": 32,
     "metadata": {},
     "output_type": "execute_result"
    }
   ],
   "source": [
    "result[0]"
   ]
  },
  {
   "cell_type": "code",
   "execution_count": 35,
   "id": "dab184a2-2c52-47bc-912d-2f62682f2466",
   "metadata": {},
   "outputs": [
    {
     "data": {
      "text/html": [
       "<div>\n",
       "<style scoped>\n",
       "    .dataframe tbody tr th:only-of-type {\n",
       "        vertical-align: middle;\n",
       "    }\n",
       "\n",
       "    .dataframe tbody tr th {\n",
       "        vertical-align: top;\n",
       "    }\n",
       "\n",
       "    .dataframe thead th {\n",
       "        text-align: right;\n",
       "    }\n",
       "</style>\n",
       "<table border=\"1\" class=\"dataframe\">\n",
       "  <thead>\n",
       "    <tr style=\"text-align: right;\">\n",
       "      <th></th>\n",
       "      <th>workflow_id</th>\n",
       "      <th>task_count</th>\n",
       "    </tr>\n",
       "  </thead>\n",
       "  <tbody>\n",
       "    <tr>\n",
       "      <th>0</th>\n",
       "      <td>20ec5772-d321-43cd-b35f-73a715107e25</td>\n",
       "      <td>8</td>\n",
       "    </tr>\n",
       "  </tbody>\n",
       "</table>\n",
       "</div>"
      ],
      "text/plain": [
       "                            workflow_id  task_count\n",
       "0  20ec5772-d321-43cd-b35f-73a715107e25           8"
      ]
     },
     "execution_count": 35,
     "metadata": {},
     "output_type": "execute_result"
    }
   ],
   "source": [
    "# 1\n",
    "result = df.groupby('workflow_id').size().reset_index(name='task_count')\n",
    "result"
   ]
  },
  {
   "cell_type": "code",
   "execution_count": 36,
   "id": "3969ce91-64b3-4e62-843d-0a50f1cf8ada",
   "metadata": {},
   "outputs": [
    {
     "data": {
      "text/plain": [
       "'2025-07-10 19:49:05.461163+00:00'"
      ]
     },
     "execution_count": 36,
     "metadata": {},
     "output_type": "execute_result"
    }
   ],
   "source": [
    "# 2\n",
    "result = df['started_at'].min()\n",
    "result"
   ]
  },
  {
   "cell_type": "code",
   "execution_count": 40,
   "id": "0b2bc78b-d0bd-452c-bf1c-4ae6c13cf539",
   "metadata": {},
   "outputs": [
    {
     "data": {
      "text/plain": [
       "[[1752176945.4611628, 0.000511884689331],\n",
       " [1752176945.462119, 0.0004372596740722],\n",
       " [1752176945.462986, 0.0004515647888183],\n",
       " [1752176945.4639387, 0.0004568099975585],\n",
       " [1752176945.464884, 0.0005059242248535],\n",
       " [1752176945.465991, 0.000842809677124],\n",
       " [1752176945.4673164, 0.0003738403320312],\n",
       " [1752176945.468047, 0.0003719329833984]]"
      ]
     },
     "execution_count": 40,
     "metadata": {},
     "output_type": "execute_result"
    }
   ],
   "source": [
    "#3\n",
    "result = df[df['workflow_id'] == sorted(df['workflow_id'].unique())[0]][['task_id', 'telemetry_summary.duration_sec']].values.tolist()\n",
    "result"
   ]
  },
  {
   "cell_type": "code",
   "execution_count": 41,
   "id": "f9cba562-44ad-4a1a-b60f-69308ce917b6",
   "metadata": {},
   "outputs": [
    {
     "data": {
      "text/plain": [
       "['scale_shift_input',\n",
       " 'square_and_quarter',\n",
       " 'sqrt_and_scale',\n",
       " 'subtract_and_shift',\n",
       " 'square_and_subtract_one',\n",
       " 'log_and_shift',\n",
       " 'power_one_point_five',\n",
       " 'average_results']"
      ]
     },
     "execution_count": 41,
     "metadata": {},
     "output_type": "execute_result"
    }
   ],
   "source": [
    "# 4\n",
    "result = ['scale_shift_input','square_and_quarter','sqrt_and_scale','subtract_and_shift','square_and_subtract_one','log_and_shift','power_one_point_five','average_results']\n",
    "result"
   ]
  },
  {
   "cell_type": "code",
   "execution_count": 48,
   "id": "5810090f-1d85-497f-95c1-c1ea8bb84881",
   "metadata": {},
   "outputs": [
    {
     "data": {
      "text/html": [
       "<div>\n",
       "<style scoped>\n",
       "    .dataframe tbody tr th:only-of-type {\n",
       "        vertical-align: middle;\n",
       "    }\n",
       "\n",
       "    .dataframe tbody tr th {\n",
       "        vertical-align: top;\n",
       "    }\n",
       "\n",
       "    .dataframe thead th {\n",
       "        text-align: right;\n",
       "    }\n",
       "</style>\n",
       "<table border=\"1\" class=\"dataframe\">\n",
       "  <thead>\n",
       "    <tr style=\"text-align: right;\">\n",
       "      <th></th>\n",
       "      <th>workflow_id</th>\n",
       "      <th>activity_id</th>\n",
       "      <th>duration</th>\n",
       "    </tr>\n",
       "  </thead>\n",
       "  <tbody>\n",
       "    <tr>\n",
       "      <th>1</th>\n",
       "      <td>20ec5772-d321-43cd-b35f-73a715107e25</td>\n",
       "      <td>log_and_shift</td>\n",
       "      <td>0.000843</td>\n",
       "    </tr>\n",
       "  </tbody>\n",
       "</table>\n",
       "</div>"
      ],
      "text/plain": [
       "                            workflow_id    activity_id  duration\n",
       "1  20ec5772-d321-43cd-b35f-73a715107e25  log_and_shift  0.000843"
      ]
     },
     "execution_count": 48,
     "metadata": {},
     "output_type": "execute_result"
    }
   ],
   "source": [
    "# 5\n",
    "result = df.assign(started_at=pd.to_datetime(df['started_at']), ended_at=pd.to_datetime(df['ended_at']), duration=lambda x: (x['ended_at'] - x['started_at']).dt.total_seconds()).groupby(['workflow_id', 'activity_id'])['duration'].sum().reset_index().loc[lambda x: x.groupby('workflow_id')['duration'].idxmax()]\n",
    "result"
   ]
  },
  {
   "cell_type": "code",
   "execution_count": 50,
   "id": "45de5e87-f738-49fd-bf9d-0508d5bdab7c",
   "metadata": {},
   "outputs": [
    {
     "name": "stderr",
     "output_type": "stream",
     "text": [
      "/tmp/ipykernel_41730/504313059.py:2: FutureWarning: DataFrameGroupBy.apply operated on the grouping columns. This behavior is deprecated, and in a future version of pandas the grouping columns will be excluded from the operation. Either pass `include_groups=False` to exclude the groupings or explicitly select the grouping columns after groupby to silence this warning.\n",
      "  result = df.assign(started_at=pd.to_datetime(df['started_at']), ended_at=pd.to_datetime(df['ended_at'])).groupby('workflow_id').apply(lambda x: (x['ended_at'].max() - x['started_at'].min()).total_seconds()).idxmax()\n"
     ]
    },
    {
     "data": {
      "text/plain": [
       "'20ec5772-d321-43cd-b35f-73a715107e25'"
      ]
     },
     "execution_count": 50,
     "metadata": {},
     "output_type": "execute_result"
    }
   ],
   "source": [
    "# 6 \n",
    "result = df.assign(started_at=pd.to_datetime(df['started_at']), ended_at=pd.to_datetime(df['ended_at'])).groupby('workflow_id').apply(lambda x: (x['ended_at'].max() - x['started_at'].min()).total_seconds()).idxmax()\n",
    "result"
   ]
  },
  {
   "cell_type": "code",
   "execution_count": 52,
   "id": "8bac90a8-078f-4e60-94d8-f898168f8cda",
   "metadata": {},
   "outputs": [
    {
     "data": {
      "text/plain": [
       "'LAP149969.ornl.gov'"
      ]
     },
     "execution_count": 52,
     "metadata": {},
     "output_type": "execute_result"
    }
   ],
   "source": [
    "# 7\n",
    "result = df['hostname'].value_counts().idxmax()\n",
    "result"
   ]
  },
  {
   "cell_type": "code",
   "execution_count": 54,
   "id": "8d21fb4f-674d-4846-a509-b744108fb9b7",
   "metadata": {},
   "outputs": [
    {
     "data": {
      "text/plain": [
       "np.float64(0.000842809677124)"
      ]
     },
     "execution_count": 54,
     "metadata": {},
     "output_type": "execute_result"
    }
   ],
   "source": [
    "# 8\n",
    "result = df['telemetry_summary.duration_sec'].max()\n",
    "result"
   ]
  },
  {
   "cell_type": "code",
   "execution_count": 55,
   "id": "57f549d6-c9ef-49ce-a2ac-db4081ac473b",
   "metadata": {},
   "outputs": [
    {
     "data": {
      "text/plain": [
       "np.float64(0.000843)"
      ]
     },
     "execution_count": 55,
     "metadata": {},
     "output_type": "execute_result"
    }
   ],
   "source": [
    "result = (pd.to_datetime(df['ended_at']) - pd.to_datetime(df['started_at'])).dt.total_seconds().max()\n",
    "result"
   ]
  },
  {
   "cell_type": "code",
   "execution_count": 57,
   "id": "c88182c5-0cf5-41ce-82d0-92506225c785",
   "metadata": {},
   "outputs": [
    {
     "data": {
      "text/plain": [
       "['scale_shift_input',\n",
       " 'square_and_quarter',\n",
       " 'sqrt_and_scale',\n",
       " 'subtract_and_shift',\n",
       " 'square_and_subtract_one',\n",
       " 'log_and_shift',\n",
       " 'power_one_point_five',\n",
       " 'average_results']"
      ]
     },
     "execution_count": 57,
     "metadata": {},
     "output_type": "execute_result"
    }
   ],
   "source": [
    "# 9\n",
    "result = df['activity_id'].dropna().unique().tolist()\n",
    "result"
   ]
  },
  {
   "cell_type": "code",
   "execution_count": 60,
   "id": "bee02d7e-73db-48b3-aed1-5d155e3d948a",
   "metadata": {},
   "outputs": [
    {
     "ename": "KeyError",
     "evalue": "\"['generated.output_value'] not in index\"",
     "output_type": "error",
     "traceback": [
      "\u001b[31m---------------------------------------------------------------------------\u001b[39m",
      "\u001b[31mKeyError\u001b[39m                                  Traceback (most recent call last)",
      "\u001b[36mCell\u001b[39m\u001b[36m \u001b[39m\u001b[32mIn[60]\u001b[39m\u001b[32m, line 2\u001b[39m\n\u001b[32m      1\u001b[39m \u001b[38;5;66;03m# 10\u001b[39;00m\n\u001b[32m----> \u001b[39m\u001b[32m2\u001b[39m result = \u001b[43mdf\u001b[49m\u001b[43m.\u001b[49m\u001b[43mloc\u001b[49m\u001b[43m[\u001b[49m\u001b[43m[\u001b[49m\u001b[43mpd\u001b[49m\u001b[43m.\u001b[49m\u001b[43mto_datetime\u001b[49m\u001b[43m(\u001b[49m\u001b[43mdf\u001b[49m\u001b[43m[\u001b[49m\u001b[33;43m'\u001b[39;49m\u001b[33;43mstarted_at\u001b[39;49m\u001b[33;43m'\u001b[39;49m\u001b[43m]\u001b[49m\u001b[43m)\u001b[49m\u001b[43m.\u001b[49m\u001b[43midxmin\u001b[49m\u001b[43m(\u001b[49m\u001b[43m)\u001b[49m\u001b[43m]\u001b[49m\u001b[43m,\u001b[49m\u001b[43m \u001b[49m\u001b[43m[\u001b[49m\u001b[33;43m'\u001b[39;49m\u001b[33;43mactivity_id\u001b[39;49m\u001b[33;43m'\u001b[39;49m\u001b[43m,\u001b[49m\u001b[43m \u001b[49m\u001b[33;43m'\u001b[39;49m\u001b[33;43mused.input_value\u001b[39;49m\u001b[33;43m'\u001b[39;49m\u001b[43m,\u001b[49m\u001b[43m \u001b[49m\u001b[33;43m'\u001b[39;49m\u001b[33;43mgenerated.output_value\u001b[39;49m\u001b[33;43m'\u001b[39;49m\u001b[43m]\u001b[49m\u001b[43m]\u001b[49m.to_dict(orient=\u001b[33m'\u001b[39m\u001b[33mrecords\u001b[39m\u001b[33m'\u001b[39m)[\u001b[32m0\u001b[39m]\n\u001b[32m      3\u001b[39m result\n",
      "\u001b[36mFile \u001b[39m\u001b[32m~/miniconda3/envs/flowcept_new/lib/python3.12/site-packages/pandas/core/indexing.py:1184\u001b[39m, in \u001b[36m_LocationIndexer.__getitem__\u001b[39m\u001b[34m(self, key)\u001b[39m\n\u001b[32m   1182\u001b[39m     \u001b[38;5;28;01mif\u001b[39;00m \u001b[38;5;28mself\u001b[39m._is_scalar_access(key):\n\u001b[32m   1183\u001b[39m         \u001b[38;5;28;01mreturn\u001b[39;00m \u001b[38;5;28mself\u001b[39m.obj._get_value(*key, takeable=\u001b[38;5;28mself\u001b[39m._takeable)\n\u001b[32m-> \u001b[39m\u001b[32m1184\u001b[39m     \u001b[38;5;28;01mreturn\u001b[39;00m \u001b[38;5;28;43mself\u001b[39;49m\u001b[43m.\u001b[49m\u001b[43m_getitem_tuple\u001b[49m\u001b[43m(\u001b[49m\u001b[43mkey\u001b[49m\u001b[43m)\u001b[49m\n\u001b[32m   1185\u001b[39m \u001b[38;5;28;01melse\u001b[39;00m:\n\u001b[32m   1186\u001b[39m     \u001b[38;5;66;03m# we by definition only have the 0th axis\u001b[39;00m\n\u001b[32m   1187\u001b[39m     axis = \u001b[38;5;28mself\u001b[39m.axis \u001b[38;5;129;01mor\u001b[39;00m \u001b[32m0\u001b[39m\n",
      "\u001b[36mFile \u001b[39m\u001b[32m~/miniconda3/envs/flowcept_new/lib/python3.12/site-packages/pandas/core/indexing.py:1375\u001b[39m, in \u001b[36m_LocIndexer._getitem_tuple\u001b[39m\u001b[34m(self, tup)\u001b[39m\n\u001b[32m   1373\u001b[39m \u001b[38;5;66;03m# ugly hack for GH #836\u001b[39;00m\n\u001b[32m   1374\u001b[39m \u001b[38;5;28;01mif\u001b[39;00m \u001b[38;5;28mself\u001b[39m._multi_take_opportunity(tup):\n\u001b[32m-> \u001b[39m\u001b[32m1375\u001b[39m     \u001b[38;5;28;01mreturn\u001b[39;00m \u001b[38;5;28;43mself\u001b[39;49m\u001b[43m.\u001b[49m\u001b[43m_multi_take\u001b[49m\u001b[43m(\u001b[49m\u001b[43mtup\u001b[49m\u001b[43m)\u001b[49m\n\u001b[32m   1377\u001b[39m \u001b[38;5;28;01mreturn\u001b[39;00m \u001b[38;5;28mself\u001b[39m._getitem_tuple_same_dim(tup)\n",
      "\u001b[36mFile \u001b[39m\u001b[32m~/miniconda3/envs/flowcept_new/lib/python3.12/site-packages/pandas/core/indexing.py:1327\u001b[39m, in \u001b[36m_LocIndexer._multi_take\u001b[39m\u001b[34m(self, tup)\u001b[39m\n\u001b[32m   1310\u001b[39m \u001b[38;5;250m\u001b[39m\u001b[33;03m\"\"\"\u001b[39;00m\n\u001b[32m   1311\u001b[39m \u001b[33;03mCreate the indexers for the passed tuple of keys, and\u001b[39;00m\n\u001b[32m   1312\u001b[39m \u001b[33;03mexecutes the take operation. This allows the take operation to be\u001b[39;00m\n\u001b[32m   (...)\u001b[39m\u001b[32m   1323\u001b[39m \u001b[33;03mvalues: same type as the object being indexed\u001b[39;00m\n\u001b[32m   1324\u001b[39m \u001b[33;03m\"\"\"\u001b[39;00m\n\u001b[32m   1325\u001b[39m \u001b[38;5;66;03m# GH 836\u001b[39;00m\n\u001b[32m   1326\u001b[39m d = {\n\u001b[32m-> \u001b[39m\u001b[32m1327\u001b[39m     axis: \u001b[38;5;28;43mself\u001b[39;49m\u001b[43m.\u001b[49m\u001b[43m_get_listlike_indexer\u001b[49m\u001b[43m(\u001b[49m\u001b[43mkey\u001b[49m\u001b[43m,\u001b[49m\u001b[43m \u001b[49m\u001b[43maxis\u001b[49m\u001b[43m)\u001b[49m\n\u001b[32m   1328\u001b[39m     \u001b[38;5;28;01mfor\u001b[39;00m (key, axis) \u001b[38;5;129;01min\u001b[39;00m \u001b[38;5;28mzip\u001b[39m(tup, \u001b[38;5;28mself\u001b[39m.obj._AXIS_ORDERS)\n\u001b[32m   1329\u001b[39m }\n\u001b[32m   1330\u001b[39m \u001b[38;5;28;01mreturn\u001b[39;00m \u001b[38;5;28mself\u001b[39m.obj._reindex_with_indexers(d, copy=\u001b[38;5;28;01mTrue\u001b[39;00m, allow_dups=\u001b[38;5;28;01mTrue\u001b[39;00m)\n",
      "\u001b[36mFile \u001b[39m\u001b[32m~/miniconda3/envs/flowcept_new/lib/python3.12/site-packages/pandas/core/indexing.py:1558\u001b[39m, in \u001b[36m_LocIndexer._get_listlike_indexer\u001b[39m\u001b[34m(self, key, axis)\u001b[39m\n\u001b[32m   1555\u001b[39m ax = \u001b[38;5;28mself\u001b[39m.obj._get_axis(axis)\n\u001b[32m   1556\u001b[39m axis_name = \u001b[38;5;28mself\u001b[39m.obj._get_axis_name(axis)\n\u001b[32m-> \u001b[39m\u001b[32m1558\u001b[39m keyarr, indexer = \u001b[43max\u001b[49m\u001b[43m.\u001b[49m\u001b[43m_get_indexer_strict\u001b[49m\u001b[43m(\u001b[49m\u001b[43mkey\u001b[49m\u001b[43m,\u001b[49m\u001b[43m \u001b[49m\u001b[43maxis_name\u001b[49m\u001b[43m)\u001b[49m\n\u001b[32m   1560\u001b[39m \u001b[38;5;28;01mreturn\u001b[39;00m keyarr, indexer\n",
      "\u001b[36mFile \u001b[39m\u001b[32m~/miniconda3/envs/flowcept_new/lib/python3.12/site-packages/pandas/core/indexes/base.py:6212\u001b[39m, in \u001b[36mIndex._get_indexer_strict\u001b[39m\u001b[34m(self, key, axis_name)\u001b[39m\n\u001b[32m   6209\u001b[39m \u001b[38;5;28;01melse\u001b[39;00m:\n\u001b[32m   6210\u001b[39m     keyarr, indexer, new_indexer = \u001b[38;5;28mself\u001b[39m._reindex_non_unique(keyarr)\n\u001b[32m-> \u001b[39m\u001b[32m6212\u001b[39m \u001b[38;5;28;43mself\u001b[39;49m\u001b[43m.\u001b[49m\u001b[43m_raise_if_missing\u001b[49m\u001b[43m(\u001b[49m\u001b[43mkeyarr\u001b[49m\u001b[43m,\u001b[49m\u001b[43m \u001b[49m\u001b[43mindexer\u001b[49m\u001b[43m,\u001b[49m\u001b[43m \u001b[49m\u001b[43maxis_name\u001b[49m\u001b[43m)\u001b[49m\n\u001b[32m   6214\u001b[39m keyarr = \u001b[38;5;28mself\u001b[39m.take(indexer)\n\u001b[32m   6215\u001b[39m \u001b[38;5;28;01mif\u001b[39;00m \u001b[38;5;28misinstance\u001b[39m(key, Index):\n\u001b[32m   6216\u001b[39m     \u001b[38;5;66;03m# GH 42790 - Preserve name from an Index\u001b[39;00m\n",
      "\u001b[36mFile \u001b[39m\u001b[32m~/miniconda3/envs/flowcept_new/lib/python3.12/site-packages/pandas/core/indexes/base.py:6264\u001b[39m, in \u001b[36mIndex._raise_if_missing\u001b[39m\u001b[34m(self, key, indexer, axis_name)\u001b[39m\n\u001b[32m   6261\u001b[39m     \u001b[38;5;28;01mraise\u001b[39;00m \u001b[38;5;167;01mKeyError\u001b[39;00m(\u001b[33mf\u001b[39m\u001b[33m\"\u001b[39m\u001b[33mNone of [\u001b[39m\u001b[38;5;132;01m{\u001b[39;00mkey\u001b[38;5;132;01m}\u001b[39;00m\u001b[33m] are in the [\u001b[39m\u001b[38;5;132;01m{\u001b[39;00maxis_name\u001b[38;5;132;01m}\u001b[39;00m\u001b[33m]\u001b[39m\u001b[33m\"\u001b[39m)\n\u001b[32m   6263\u001b[39m not_found = \u001b[38;5;28mlist\u001b[39m(ensure_index(key)[missing_mask.nonzero()[\u001b[32m0\u001b[39m]].unique())\n\u001b[32m-> \u001b[39m\u001b[32m6264\u001b[39m \u001b[38;5;28;01mraise\u001b[39;00m \u001b[38;5;167;01mKeyError\u001b[39;00m(\u001b[33mf\u001b[39m\u001b[33m\"\u001b[39m\u001b[38;5;132;01m{\u001b[39;00mnot_found\u001b[38;5;132;01m}\u001b[39;00m\u001b[33m not in index\u001b[39m\u001b[33m\"\u001b[39m)\n",
      "\u001b[31mKeyError\u001b[39m: \"['generated.output_value'] not in index\""
     ]
    }
   ],
   "source": [
    "# 10\n",
    "result = df.loc[[pd.to_datetime(df['started_at']).idxmin()], ['activity_id', 'used.input_value', 'generated.output_value']].to_dict(orient='records')[0]\n",
    "result"
   ]
  },
  {
   "cell_type": "code",
   "execution_count": 61,
   "id": "5754ea57-963f-4408-ac7c-660cd067d10f",
   "metadata": {},
   "outputs": [
    {
     "data": {
      "text/plain": [
       "{'activity_id': 'scale_shift_input',\n",
       " 'used.input_value': 12.0,\n",
       " 'generated.h': 43.0}"
      ]
     },
     "execution_count": 61,
     "metadata": {},
     "output_type": "execute_result"
    }
   ],
   "source": [
    "# 10\n",
    "result = df.loc[[pd.to_datetime(df['started_at']).idxmin()],['activity_id', 'used.input_value', 'generated.h']].to_dict(orient='records')[0]\n",
    "result"
   ]
  },
  {
   "cell_type": "code",
   "execution_count": 67,
   "id": "788998d6-aef7-4eb9-a64d-e33f60b6de2c",
   "metadata": {},
   "outputs": [
    {
     "data": {
      "text/plain": [
       "[('LAP149969.ornl.gov', 'scale_shift_input', 0.000511884689331),\n",
       " ('LAP149969.ornl.gov', 'square_and_quarter', 0.0004372596740722),\n",
       " ('LAP149969.ornl.gov', 'sqrt_and_scale', 0.0004515647888183),\n",
       " ('LAP149969.ornl.gov', 'subtract_and_shift', 0.0004568099975585),\n",
       " ('LAP149969.ornl.gov', 'square_and_subtract_one', 0.0005059242248535),\n",
       " ('LAP149969.ornl.gov', 'log_and_shift', 0.000842809677124),\n",
       " ('LAP149969.ornl.gov', 'power_one_point_five', 0.0003738403320312),\n",
       " ('LAP149969.ornl.gov', 'average_results', 0.0003719329833984)]"
      ]
     },
     "execution_count": 67,
     "metadata": {},
     "output_type": "execute_result"
    }
   ],
   "source": [
    "#11\n",
    "result = df[df['workflow_id'] == df.loc[pd.to_datetime(df['started_at']).idxmax(), 'workflow_id']].sort_values(by='started_at')[['hostname','activity_id','telemetry_summary.duration_sec']].apply(tuple,axis=1).tolist()\n",
    "result"
   ]
  },
  {
   "cell_type": "code",
   "execution_count": 68,
   "id": "a870a8b4-971a-4009-b919-63650f8775c5",
   "metadata": {},
   "outputs": [
    {
     "data": {
      "text/html": [
       "<div>\n",
       "<style scoped>\n",
       "    .dataframe tbody tr th:only-of-type {\n",
       "        vertical-align: middle;\n",
       "    }\n",
       "\n",
       "    .dataframe tbody tr th {\n",
       "        vertical-align: top;\n",
       "    }\n",
       "\n",
       "    .dataframe thead tr th {\n",
       "        text-align: left;\n",
       "    }\n",
       "\n",
       "    .dataframe thead tr:last-of-type th {\n",
       "        text-align: right;\n",
       "    }\n",
       "</style>\n",
       "<table border=\"1\" class=\"dataframe\">\n",
       "  <thead>\n",
       "    <tr>\n",
       "      <th></th>\n",
       "      <th colspan=\"2\" halign=\"left\">started_at</th>\n",
       "      <th>telemetry_summary.duration_sec</th>\n",
       "      <th>hostname</th>\n",
       "      <th>generated.a</th>\n",
       "      <th>generated.b</th>\n",
       "      <th>generated.c</th>\n",
       "      <th>generated.d</th>\n",
       "      <th>generated.e</th>\n",
       "      <th>generated.f</th>\n",
       "      <th>generated.g</th>\n",
       "      <th>generated.h</th>\n",
       "    </tr>\n",
       "    <tr>\n",
       "      <th></th>\n",
       "      <th>min</th>\n",
       "      <th>max</th>\n",
       "      <th>mean</th>\n",
       "      <th>&lt;lambda&gt;</th>\n",
       "      <th>max</th>\n",
       "      <th>max</th>\n",
       "      <th>max</th>\n",
       "      <th>max</th>\n",
       "      <th>max</th>\n",
       "      <th>max</th>\n",
       "      <th>max</th>\n",
       "      <th>max</th>\n",
       "    </tr>\n",
       "    <tr>\n",
       "      <th>activity_id</th>\n",
       "      <th></th>\n",
       "      <th></th>\n",
       "      <th></th>\n",
       "      <th></th>\n",
       "      <th></th>\n",
       "      <th></th>\n",
       "      <th></th>\n",
       "      <th></th>\n",
       "      <th></th>\n",
       "      <th></th>\n",
       "      <th></th>\n",
       "      <th></th>\n",
       "    </tr>\n",
       "  </thead>\n",
       "  <tbody>\n",
       "    <tr>\n",
       "      <th>average_results</th>\n",
       "      <td>2025-07-10 19:49:05.468047+00:00</td>\n",
       "      <td>2025-07-10 19:49:05.468047+00:00</td>\n",
       "      <td>0.000372</td>\n",
       "      <td>[LAP149969.ornl.gov]</td>\n",
       "      <td>71334.965373</td>\n",
       "      <td>NaN</td>\n",
       "      <td>NaN</td>\n",
       "      <td>NaN</td>\n",
       "      <td>NaN</td>\n",
       "      <td>NaN</td>\n",
       "      <td>NaN</td>\n",
       "      <td>NaN</td>\n",
       "    </tr>\n",
       "    <tr>\n",
       "      <th>log_and_shift</th>\n",
       "      <td>2025-07-10 19:49:05.465991+00:00</td>\n",
       "      <td>2025-07-10 19:49:05.465991+00:00</td>\n",
       "      <td>0.000843</td>\n",
       "      <td>[LAP149969.ornl.gov]</td>\n",
       "      <td>NaN</td>\n",
       "      <td>NaN</td>\n",
       "      <td>10.67236</td>\n",
       "      <td>NaN</td>\n",
       "      <td>NaN</td>\n",
       "      <td>NaN</td>\n",
       "      <td>NaN</td>\n",
       "      <td>NaN</td>\n",
       "    </tr>\n",
       "    <tr>\n",
       "      <th>power_one_point_five</th>\n",
       "      <td>2025-07-10 19:49:05.467316+00:00</td>\n",
       "      <td>2025-07-10 19:49:05.467316+00:00</td>\n",
       "      <td>0.000374</td>\n",
       "      <td>[LAP149969.ornl.gov]</td>\n",
       "      <td>NaN</td>\n",
       "      <td>320.161259</td>\n",
       "      <td>NaN</td>\n",
       "      <td>NaN</td>\n",
       "      <td>NaN</td>\n",
       "      <td>NaN</td>\n",
       "      <td>NaN</td>\n",
       "      <td>NaN</td>\n",
       "    </tr>\n",
       "    <tr>\n",
       "      <th>scale_shift_input</th>\n",
       "      <td>2025-07-10 19:49:05.461163+00:00</td>\n",
       "      <td>2025-07-10 19:49:05.461163+00:00</td>\n",
       "      <td>0.000512</td>\n",
       "      <td>[LAP149969.ornl.gov]</td>\n",
       "      <td>NaN</td>\n",
       "      <td>NaN</td>\n",
       "      <td>NaN</td>\n",
       "      <td>NaN</td>\n",
       "      <td>NaN</td>\n",
       "      <td>NaN</td>\n",
       "      <td>NaN</td>\n",
       "      <td>43.0</td>\n",
       "    </tr>\n",
       "    <tr>\n",
       "      <th>sqrt_and_scale</th>\n",
       "      <td>2025-07-10 19:49:05.462986+00:00</td>\n",
       "      <td>2025-07-10 19:49:05.462986+00:00</td>\n",
       "      <td>0.000452</td>\n",
       "      <td>[LAP149969.ornl.gov]</td>\n",
       "      <td>NaN</td>\n",
       "      <td>NaN</td>\n",
       "      <td>NaN</td>\n",
       "      <td>NaN</td>\n",
       "      <td>NaN</td>\n",
       "      <td>39.344631</td>\n",
       "      <td>NaN</td>\n",
       "      <td>NaN</td>\n",
       "    </tr>\n",
       "    <tr>\n",
       "      <th>square_and_quarter</th>\n",
       "      <td>2025-07-10 19:49:05.462119+00:00</td>\n",
       "      <td>2025-07-10 19:49:05.462119+00:00</td>\n",
       "      <td>0.000437</td>\n",
       "      <td>[LAP149969.ornl.gov]</td>\n",
       "      <td>NaN</td>\n",
       "      <td>NaN</td>\n",
       "      <td>NaN</td>\n",
       "      <td>NaN</td>\n",
       "      <td>462.25</td>\n",
       "      <td>NaN</td>\n",
       "      <td>NaN</td>\n",
       "      <td>NaN</td>\n",
       "    </tr>\n",
       "    <tr>\n",
       "      <th>square_and_subtract_one</th>\n",
       "      <td>2025-07-10 19:49:05.464884+00:00</td>\n",
       "      <td>2025-07-10 19:49:05.464884+00:00</td>\n",
       "      <td>0.000506</td>\n",
       "      <td>[LAP149969.ornl.gov]</td>\n",
       "      <td>NaN</td>\n",
       "      <td>NaN</td>\n",
       "      <td>NaN</td>\n",
       "      <td>213674.0625</td>\n",
       "      <td>NaN</td>\n",
       "      <td>NaN</td>\n",
       "      <td>NaN</td>\n",
       "      <td>NaN</td>\n",
       "    </tr>\n",
       "    <tr>\n",
       "      <th>subtract_and_shift</th>\n",
       "      <td>2025-07-10 19:49:05.463939+00:00</td>\n",
       "      <td>2025-07-10 19:49:05.463939+00:00</td>\n",
       "      <td>0.000457</td>\n",
       "      <td>[LAP149969.ornl.gov]</td>\n",
       "      <td>NaN</td>\n",
       "      <td>NaN</td>\n",
       "      <td>NaN</td>\n",
       "      <td>NaN</td>\n",
       "      <td>NaN</td>\n",
       "      <td>NaN</td>\n",
       "      <td>46.8</td>\n",
       "      <td>NaN</td>\n",
       "    </tr>\n",
       "  </tbody>\n",
       "</table>\n",
       "</div>"
      ],
      "text/plain": [
       "                                               started_at  \\\n",
       "                                                      min   \n",
       "activity_id                                                 \n",
       "average_results          2025-07-10 19:49:05.468047+00:00   \n",
       "log_and_shift            2025-07-10 19:49:05.465991+00:00   \n",
       "power_one_point_five     2025-07-10 19:49:05.467316+00:00   \n",
       "scale_shift_input        2025-07-10 19:49:05.461163+00:00   \n",
       "sqrt_and_scale           2025-07-10 19:49:05.462986+00:00   \n",
       "square_and_quarter       2025-07-10 19:49:05.462119+00:00   \n",
       "square_and_subtract_one  2025-07-10 19:49:05.464884+00:00   \n",
       "subtract_and_shift       2025-07-10 19:49:05.463939+00:00   \n",
       "\n",
       "                                                           \\\n",
       "                                                      max   \n",
       "activity_id                                                 \n",
       "average_results          2025-07-10 19:49:05.468047+00:00   \n",
       "log_and_shift            2025-07-10 19:49:05.465991+00:00   \n",
       "power_one_point_five     2025-07-10 19:49:05.467316+00:00   \n",
       "scale_shift_input        2025-07-10 19:49:05.461163+00:00   \n",
       "sqrt_and_scale           2025-07-10 19:49:05.462986+00:00   \n",
       "square_and_quarter       2025-07-10 19:49:05.462119+00:00   \n",
       "square_and_subtract_one  2025-07-10 19:49:05.464884+00:00   \n",
       "subtract_and_shift       2025-07-10 19:49:05.463939+00:00   \n",
       "\n",
       "                        telemetry_summary.duration_sec              hostname  \\\n",
       "                                                  mean              <lambda>   \n",
       "activity_id                                                                    \n",
       "average_results                               0.000372  [LAP149969.ornl.gov]   \n",
       "log_and_shift                                 0.000843  [LAP149969.ornl.gov]   \n",
       "power_one_point_five                          0.000374  [LAP149969.ornl.gov]   \n",
       "scale_shift_input                             0.000512  [LAP149969.ornl.gov]   \n",
       "sqrt_and_scale                                0.000452  [LAP149969.ornl.gov]   \n",
       "square_and_quarter                            0.000437  [LAP149969.ornl.gov]   \n",
       "square_and_subtract_one                       0.000506  [LAP149969.ornl.gov]   \n",
       "subtract_and_shift                            0.000457  [LAP149969.ornl.gov]   \n",
       "\n",
       "                          generated.a generated.b generated.c  generated.d  \\\n",
       "                                  max         max         max          max   \n",
       "activity_id                                                                  \n",
       "average_results          71334.965373         NaN         NaN          NaN   \n",
       "log_and_shift                     NaN         NaN    10.67236          NaN   \n",
       "power_one_point_five              NaN  320.161259         NaN          NaN   \n",
       "scale_shift_input                 NaN         NaN         NaN          NaN   \n",
       "sqrt_and_scale                    NaN         NaN         NaN          NaN   \n",
       "square_and_quarter                NaN         NaN         NaN          NaN   \n",
       "square_and_subtract_one           NaN         NaN         NaN  213674.0625   \n",
       "subtract_and_shift                NaN         NaN         NaN          NaN   \n",
       "\n",
       "                        generated.e generated.f generated.g generated.h  \n",
       "                                max         max         max         max  \n",
       "activity_id                                                              \n",
       "average_results                 NaN         NaN         NaN         NaN  \n",
       "log_and_shift                   NaN         NaN         NaN         NaN  \n",
       "power_one_point_five            NaN         NaN         NaN         NaN  \n",
       "scale_shift_input               NaN         NaN         NaN        43.0  \n",
       "sqrt_and_scale                  NaN   39.344631         NaN         NaN  \n",
       "square_and_quarter           462.25         NaN         NaN         NaN  \n",
       "square_and_subtract_one         NaN         NaN         NaN         NaN  \n",
       "subtract_and_shift              NaN         NaN        46.8         NaN  "
      ]
     },
     "execution_count": 68,
     "metadata": {},
     "output_type": "execute_result"
    }
   ],
   "source": [
    "# 12\n",
    "result = df.groupby('activity_id').agg({'started_at':['min','max'],'telemetry_summary.duration_sec':'mean','hostname':lambda x:x.dropna().unique().tolist(),'generated.a':'max','generated.b':'max','generated.c':'max','generated.d':'max','generated.e':'max','generated.f':'max','generated.g':'max','generated.h':'max'})\n",
    "result"
   ]
  },
  {
   "cell_type": "code",
   "execution_count": 71,
   "id": "abe88d41-0c72-485e-8f7e-fbf8affa39d0",
   "metadata": {},
   "outputs": [
    {
     "data": {
      "text/html": [
       "<div>\n",
       "<style scoped>\n",
       "    .dataframe tbody tr th:only-of-type {\n",
       "        vertical-align: middle;\n",
       "    }\n",
       "\n",
       "    .dataframe tbody tr th {\n",
       "        vertical-align: top;\n",
       "    }\n",
       "\n",
       "    .dataframe thead th {\n",
       "        text-align: right;\n",
       "    }\n",
       "</style>\n",
       "<table border=\"1\" class=\"dataframe\">\n",
       "  <thead>\n",
       "    <tr style=\"text-align: right;\">\n",
       "      <th></th>\n",
       "      <th>activity_id</th>\n",
       "      <th>started_at</th>\n",
       "      <th>telemetry_summary.duration_sec</th>\n",
       "      <th>hostname</th>\n",
       "      <th>generated.a</th>\n",
       "      <th>generated.b</th>\n",
       "      <th>generated.c</th>\n",
       "      <th>generated.d</th>\n",
       "      <th>generated.e</th>\n",
       "      <th>generated.f</th>\n",
       "      <th>generated.g</th>\n",
       "      <th>generated.h</th>\n",
       "    </tr>\n",
       "  </thead>\n",
       "  <tbody>\n",
       "    <tr>\n",
       "      <th>0</th>\n",
       "      <td>scale_shift_input</td>\n",
       "      <td>2025-07-10 19:49:05.461163+00:00</td>\n",
       "      <td>0.000512</td>\n",
       "      <td>LAP149969.ornl.gov</td>\n",
       "      <td>NaN</td>\n",
       "      <td>NaN</td>\n",
       "      <td>NaN</td>\n",
       "      <td>NaN</td>\n",
       "      <td>NaN</td>\n",
       "      <td>NaN</td>\n",
       "      <td>NaN</td>\n",
       "      <td>43.0</td>\n",
       "    </tr>\n",
       "    <tr>\n",
       "      <th>1</th>\n",
       "      <td>square_and_quarter</td>\n",
       "      <td>2025-07-10 19:49:05.462119+00:00</td>\n",
       "      <td>0.000437</td>\n",
       "      <td>LAP149969.ornl.gov</td>\n",
       "      <td>NaN</td>\n",
       "      <td>NaN</td>\n",
       "      <td>NaN</td>\n",
       "      <td>NaN</td>\n",
       "      <td>462.25</td>\n",
       "      <td>NaN</td>\n",
       "      <td>NaN</td>\n",
       "      <td>NaN</td>\n",
       "    </tr>\n",
       "    <tr>\n",
       "      <th>2</th>\n",
       "      <td>sqrt_and_scale</td>\n",
       "      <td>2025-07-10 19:49:05.462986+00:00</td>\n",
       "      <td>0.000452</td>\n",
       "      <td>LAP149969.ornl.gov</td>\n",
       "      <td>NaN</td>\n",
       "      <td>NaN</td>\n",
       "      <td>NaN</td>\n",
       "      <td>NaN</td>\n",
       "      <td>NaN</td>\n",
       "      <td>39.344631</td>\n",
       "      <td>NaN</td>\n",
       "      <td>NaN</td>\n",
       "    </tr>\n",
       "    <tr>\n",
       "      <th>3</th>\n",
       "      <td>subtract_and_shift</td>\n",
       "      <td>2025-07-10 19:49:05.463939+00:00</td>\n",
       "      <td>0.000457</td>\n",
       "      <td>LAP149969.ornl.gov</td>\n",
       "      <td>NaN</td>\n",
       "      <td>NaN</td>\n",
       "      <td>NaN</td>\n",
       "      <td>NaN</td>\n",
       "      <td>NaN</td>\n",
       "      <td>NaN</td>\n",
       "      <td>46.8</td>\n",
       "      <td>NaN</td>\n",
       "    </tr>\n",
       "    <tr>\n",
       "      <th>4</th>\n",
       "      <td>square_and_subtract_one</td>\n",
       "      <td>2025-07-10 19:49:05.464884+00:00</td>\n",
       "      <td>0.000506</td>\n",
       "      <td>LAP149969.ornl.gov</td>\n",
       "      <td>NaN</td>\n",
       "      <td>NaN</td>\n",
       "      <td>NaN</td>\n",
       "      <td>213674.0625</td>\n",
       "      <td>NaN</td>\n",
       "      <td>NaN</td>\n",
       "      <td>NaN</td>\n",
       "      <td>NaN</td>\n",
       "    </tr>\n",
       "    <tr>\n",
       "      <th>5</th>\n",
       "      <td>log_and_shift</td>\n",
       "      <td>2025-07-10 19:49:05.465991+00:00</td>\n",
       "      <td>0.000843</td>\n",
       "      <td>LAP149969.ornl.gov</td>\n",
       "      <td>NaN</td>\n",
       "      <td>NaN</td>\n",
       "      <td>10.67236</td>\n",
       "      <td>NaN</td>\n",
       "      <td>NaN</td>\n",
       "      <td>NaN</td>\n",
       "      <td>NaN</td>\n",
       "      <td>NaN</td>\n",
       "    </tr>\n",
       "    <tr>\n",
       "      <th>6</th>\n",
       "      <td>power_one_point_five</td>\n",
       "      <td>2025-07-10 19:49:05.467316+00:00</td>\n",
       "      <td>0.000374</td>\n",
       "      <td>LAP149969.ornl.gov</td>\n",
       "      <td>NaN</td>\n",
       "      <td>320.161259</td>\n",
       "      <td>NaN</td>\n",
       "      <td>NaN</td>\n",
       "      <td>NaN</td>\n",
       "      <td>NaN</td>\n",
       "      <td>NaN</td>\n",
       "      <td>NaN</td>\n",
       "    </tr>\n",
       "    <tr>\n",
       "      <th>7</th>\n",
       "      <td>average_results</td>\n",
       "      <td>2025-07-10 19:49:05.468047+00:00</td>\n",
       "      <td>0.000372</td>\n",
       "      <td>LAP149969.ornl.gov</td>\n",
       "      <td>71334.965373</td>\n",
       "      <td>NaN</td>\n",
       "      <td>NaN</td>\n",
       "      <td>NaN</td>\n",
       "      <td>NaN</td>\n",
       "      <td>NaN</td>\n",
       "      <td>NaN</td>\n",
       "      <td>NaN</td>\n",
       "    </tr>\n",
       "  </tbody>\n",
       "</table>\n",
       "</div>"
      ],
      "text/plain": [
       "               activity_id                        started_at  \\\n",
       "0        scale_shift_input  2025-07-10 19:49:05.461163+00:00   \n",
       "1       square_and_quarter  2025-07-10 19:49:05.462119+00:00   \n",
       "2           sqrt_and_scale  2025-07-10 19:49:05.462986+00:00   \n",
       "3       subtract_and_shift  2025-07-10 19:49:05.463939+00:00   \n",
       "4  square_and_subtract_one  2025-07-10 19:49:05.464884+00:00   \n",
       "5            log_and_shift  2025-07-10 19:49:05.465991+00:00   \n",
       "6     power_one_point_five  2025-07-10 19:49:05.467316+00:00   \n",
       "7          average_results  2025-07-10 19:49:05.468047+00:00   \n",
       "\n",
       "   telemetry_summary.duration_sec            hostname   generated.a  \\\n",
       "0                        0.000512  LAP149969.ornl.gov           NaN   \n",
       "1                        0.000437  LAP149969.ornl.gov           NaN   \n",
       "2                        0.000452  LAP149969.ornl.gov           NaN   \n",
       "3                        0.000457  LAP149969.ornl.gov           NaN   \n",
       "4                        0.000506  LAP149969.ornl.gov           NaN   \n",
       "5                        0.000843  LAP149969.ornl.gov           NaN   \n",
       "6                        0.000374  LAP149969.ornl.gov           NaN   \n",
       "7                        0.000372  LAP149969.ornl.gov  71334.965373   \n",
       "\n",
       "   generated.b  generated.c  generated.d  generated.e  generated.f  \\\n",
       "0          NaN          NaN          NaN          NaN          NaN   \n",
       "1          NaN          NaN          NaN       462.25          NaN   \n",
       "2          NaN          NaN          NaN          NaN    39.344631   \n",
       "3          NaN          NaN          NaN          NaN          NaN   \n",
       "4          NaN          NaN  213674.0625          NaN          NaN   \n",
       "5          NaN     10.67236          NaN          NaN          NaN   \n",
       "6   320.161259          NaN          NaN          NaN          NaN   \n",
       "7          NaN          NaN          NaN          NaN          NaN   \n",
       "\n",
       "   generated.g  generated.h  \n",
       "0          NaN         43.0  \n",
       "1          NaN          NaN  \n",
       "2          NaN          NaN  \n",
       "3         46.8          NaN  \n",
       "4          NaN          NaN  \n",
       "5          NaN          NaN  \n",
       "6          NaN          NaN  \n",
       "7          NaN          NaN  "
      ]
     },
     "execution_count": 71,
     "metadata": {},
     "output_type": "execute_result"
    }
   ],
   "source": [
    "# 13\n",
    "result = df[df['workflow_id'] == sorted(df['workflow_id'].unique())[0]][['activity_id','started_at','telemetry_summary.duration_sec','hostname','generated.a','generated.b','generated.c','generated.d','generated.e','generated.f','generated.g','generated.h']].sort_values('started_at')\n",
    "result"
   ]
  },
  {
   "cell_type": "code",
   "execution_count": 73,
   "id": "fed3777e-ec63-4459-9a18-5978100d473b",
   "metadata": {},
   "outputs": [
    {
     "data": {
      "text/plain": [
       "workflow_id\n",
       "20ec5772-d321-43cd-b35f-73a715107e25    [scale_shift_input, square_and_quarter, sqrt_a...\n",
       "Name: activity_id, dtype: object"
      ]
     },
     "execution_count": 73,
     "metadata": {},
     "output_type": "execute_result"
    }
   ],
   "source": [
    "# 14\n",
    "result = df.sort_values(['workflow_id', 'started_at']).groupby('workflow_id')['activity_id'].apply(list)\n",
    "result"
   ]
  },
  {
   "cell_type": "code",
   "execution_count": 98,
   "id": "5cbdd292-ac93-41fb-9b15-37b49ce63dfc",
   "metadata": {},
   "outputs": [
    {
     "data": {
      "text/plain": [
       "{'activities_per_workflow': workflow_id\n",
       " 20ec5772-d321-43cd-b35f-73a715107e25    [scale_shift_input, square_and_quarter, sqrt_a...\n",
       " Name: activity_id, dtype: object,\n",
       " 'unique_campaign_count': 1}"
      ]
     },
     "execution_count": 98,
     "metadata": {},
     "output_type": "execute_result"
    }
   ],
   "source": [
    "# 15\n",
    "result = {'activities_per_workflow': df.sort_values(['workflow_id','started_at']).groupby('workflow_id')['activity_id'].apply(list), 'unique_campaign_count': df['campaign_id'].nunique()}\n",
    "result"
   ]
  },
  {
   "cell_type": "code",
   "execution_count": 76,
   "id": "c9f9bfba-70e6-4eb9-82cf-a9416e5ffaed",
   "metadata": {},
   "outputs": [
    {
     "data": {
      "text/plain": [
       "[('LAP149969.ornl.gov', '2025-07-10 19:49:05.461163+00:00'),\n",
       " ('LAP149969.ornl.gov', '2025-07-10 19:49:05.462119+00:00'),\n",
       " ('LAP149969.ornl.gov', '2025-07-10 19:49:05.462986+00:00'),\n",
       " ('LAP149969.ornl.gov', '2025-07-10 19:49:05.463939+00:00'),\n",
       " ('LAP149969.ornl.gov', '2025-07-10 19:49:05.464884+00:00'),\n",
       " ('LAP149969.ornl.gov', '2025-07-10 19:49:05.465991+00:00'),\n",
       " ('LAP149969.ornl.gov', '2025-07-10 19:49:05.467316+00:00'),\n",
       " ('LAP149969.ornl.gov', '2025-07-10 19:49:05.468047+00:00')]"
      ]
     },
     "execution_count": 76,
     "metadata": {},
     "output_type": "execute_result"
    }
   ],
   "source": [
    "# 16\n",
    "result = df[df['workflow_id'] == sorted(df['workflow_id'].unique())[0]][['hostname', 'started_at']].sort_values('started_at').apply(tuple, axis=1).tolist()\n",
    "result"
   ]
  },
  {
   "cell_type": "code",
   "execution_count": 94,
   "id": "f73ecc58-64a0-4ec0-8191-2aef39108bca",
   "metadata": {},
   "outputs": [
    {
     "data": {
      "text/html": [
       "<div>\n",
       "<style scoped>\n",
       "    .dataframe tbody tr th:only-of-type {\n",
       "        vertical-align: middle;\n",
       "    }\n",
       "\n",
       "    .dataframe tbody tr th {\n",
       "        vertical-align: top;\n",
       "    }\n",
       "\n",
       "    .dataframe thead th {\n",
       "        text-align: right;\n",
       "    }\n",
       "</style>\n",
       "<table border=\"1\" class=\"dataframe\">\n",
       "  <thead>\n",
       "    <tr style=\"text-align: right;\">\n",
       "      <th></th>\n",
       "      <th>workflow_id</th>\n",
       "      <th>activity_id</th>\n",
       "      <th>used.input_value</th>\n",
       "      <th>used.h</th>\n",
       "      <th>used.e</th>\n",
       "      <th>used.f</th>\n",
       "      <th>used.g</th>\n",
       "      <th>used.d</th>\n",
       "      <th>used.c</th>\n",
       "      <th>used.b</th>\n",
       "    </tr>\n",
       "  </thead>\n",
       "  <tbody>\n",
       "    <tr>\n",
       "      <th>1</th>\n",
       "      <td>20ec5772-d321-43cd-b35f-73a715107e25</td>\n",
       "      <td>square_and_quarter</td>\n",
       "      <td>NaN</td>\n",
       "      <td>43.0</td>\n",
       "      <td>NaN</td>\n",
       "      <td>NaN</td>\n",
       "      <td>NaN</td>\n",
       "      <td>NaN</td>\n",
       "      <td>NaN</td>\n",
       "      <td>NaN</td>\n",
       "    </tr>\n",
       "    <tr>\n",
       "      <th>2</th>\n",
       "      <td>20ec5772-d321-43cd-b35f-73a715107e25</td>\n",
       "      <td>sqrt_and_scale</td>\n",
       "      <td>NaN</td>\n",
       "      <td>43.0</td>\n",
       "      <td>NaN</td>\n",
       "      <td>NaN</td>\n",
       "      <td>NaN</td>\n",
       "      <td>NaN</td>\n",
       "      <td>NaN</td>\n",
       "      <td>NaN</td>\n",
       "    </tr>\n",
       "    <tr>\n",
       "      <th>3</th>\n",
       "      <td>20ec5772-d321-43cd-b35f-73a715107e25</td>\n",
       "      <td>subtract_and_shift</td>\n",
       "      <td>NaN</td>\n",
       "      <td>43.0</td>\n",
       "      <td>NaN</td>\n",
       "      <td>NaN</td>\n",
       "      <td>NaN</td>\n",
       "      <td>NaN</td>\n",
       "      <td>NaN</td>\n",
       "      <td>NaN</td>\n",
       "    </tr>\n",
       "  </tbody>\n",
       "</table>\n",
       "</div>"
      ],
      "text/plain": [
       "                            workflow_id         activity_id  used.input_value  \\\n",
       "1  20ec5772-d321-43cd-b35f-73a715107e25  square_and_quarter               NaN   \n",
       "2  20ec5772-d321-43cd-b35f-73a715107e25      sqrt_and_scale               NaN   \n",
       "3  20ec5772-d321-43cd-b35f-73a715107e25  subtract_and_shift               NaN   \n",
       "\n",
       "   used.h  used.e  used.f  used.g  used.d  used.c  used.b  \n",
       "1    43.0     NaN     NaN     NaN     NaN     NaN     NaN  \n",
       "2    43.0     NaN     NaN     NaN     NaN     NaN     NaN  \n",
       "3    43.0     NaN     NaN     NaN     NaN     NaN     NaN  "
      ]
     },
     "execution_count": 94,
     "metadata": {},
     "output_type": "execute_result"
    }
   ],
   "source": [
    "# 17\n",
    "result = df.loc[((df[[c for c in df.columns if c.startswith('used.')]].shift() == df[[c for c in df.columns if c.startswith('used.')]]) | (df[[c for c in df.columns if c.startswith('used.')]].shift(-1) == df[[c for c in df.columns if c.startswith('used.')]])).any(axis=1), ['workflow_id','activity_id'] + [c for c in df.columns if c.startswith('used.')]]\n",
    "result"
   ]
  },
  {
   "cell_type": "code",
   "execution_count": 96,
   "id": "2bf82e24-fd5a-44a4-a6e0-d14579cf3b68",
   "metadata": {},
   "outputs": [],
   "source": [
    "# 17.1\n",
    "\n",
    "result"
   ]
  },
  {
   "cell_type": "code",
   "execution_count": 78,
   "id": "d7921758-699b-4e05-b726-6014c7173aa9",
   "metadata": {},
   "outputs": [
    {
     "data": {
      "text/plain": [
       "'LAP149969.ornl.gov'"
      ]
     },
     "execution_count": 78,
     "metadata": {},
     "output_type": "execute_result"
    }
   ],
   "source": [
    "# 18\n",
    "result = df['hostname'].value_counts().idxmax()\n",
    "result"
   ]
  },
  {
   "cell_type": "code",
   "execution_count": 100,
   "id": "03fc855a-3842-4a0e-87ef-e02245cfcf32",
   "metadata": {},
   "outputs": [
    {
     "data": {
      "text/plain": [
       "{'task_count_per_workflow':                             workflow_id  task_count\n",
       " 0  20ec5772-d321-43cd-b35f-73a715107e25           8,\n",
       " 'earliest_start_time': '2025-07-10 19:49:05.461163+00:00'}"
      ]
     },
     "execution_count": 100,
     "metadata": {},
     "output_type": "execute_result"
    }
   ],
   "source": [
    "result = {'task_count_per_workflow': df.groupby('workflow_id').size().reset_index(name='task_count'),'earliest_start_time': df['started_at'].min()}\n",
    "result"
   ]
  },
  {
   "cell_type": "code",
   "execution_count": 110,
   "id": "45064650-5ff3-4acb-ba44-331eb5001341",
   "metadata": {},
   "outputs": [
    {
     "data": {
      "text/plain": [
       "np.float64(462.25)"
      ]
     },
     "execution_count": 110,
     "metadata": {},
     "output_type": "execute_result"
    }
   ],
   "source": [
    "result = df.loc[df.sort_values(['workflow_id','started_at']).groupby('workflow_id').cumcount() == 1].apply(lambda row: row[{'scale_shift_input':'generated.h','square_and_quarter':'generated.e','sqrt_and_scale':'generated.f','subtract_and_shift':'generated.g','square_and_subtract_one':'generated.d','log_and_shift':'generated.c','power_one_point_five':'generated.b','average_results':'generated.a'}.get(row['activity_id'], None)] if pd.notna(row['activity_id']) else None, axis=1).dropna().mean()\n",
    "\n",
    "result"
   ]
  },
  {
   "cell_type": "code",
   "execution_count": 111,
   "id": "e7f7dbc2-a57e-40c3-b466-371af49c4b3d",
   "metadata": {},
   "outputs": [
    {
     "data": {
      "text/plain": [
       "np.float64(213674.0625)"
      ]
     },
     "execution_count": 111,
     "metadata": {},
     "output_type": "execute_result"
    }
   ],
   "source": [
    "result = df[[col for col in df.columns if col.startswith('generated.')]].max().max()\n",
    "result"
   ]
  },
  {
   "cell_type": "code",
   "execution_count": 121,
   "id": "105d17cc-4534-4e9b-848d-daccee2ea16c",
   "metadata": {},
   "outputs": [
    {
     "data": {
      "text/plain": [
       "nan"
      ]
     },
     "execution_count": 121,
     "metadata": {},
     "output_type": "execute_result"
    }
   ],
   "source": [
    "result = df.sort_values(['workflow_id','started_at']).groupby('workflow_id').nth(1).assign(duration=lambda x: (pd.to_datetime(x['started_at']) - pd.to_datetime(df.sort_values(['workflow_id','started_at']).groupby('workflow_id').nth(0)['started_at'])).dt.total_seconds()).duration.mean()\n",
    "\n",
    "result"
   ]
  },
  {
   "cell_type": "code",
   "execution_count": 122,
   "id": "e34b05df-a2c0-4528-9d8a-04141b1c7c47",
   "metadata": {},
   "outputs": [
    {
     "data": {
      "text/plain": [
       "used.input_value    12.0\n",
       "generated.h         43.0\n",
       "Name: 0, dtype: object"
      ]
     },
     "execution_count": 122,
     "metadata": {},
     "output_type": "execute_result"
    }
   ],
   "source": [
    "result = df.loc[df['started_at'].idxmin(), ['used.input_value', 'generated.h']]\n",
    "result"
   ]
  },
  {
   "cell_type": "code",
   "execution_count": 123,
   "id": "c5523bc5-6396-4cc1-b147-0db51932d259",
   "metadata": {},
   "outputs": [
    {
     "data": {
      "text/plain": [
       "np.float64(43.0)"
      ]
     },
     "execution_count": 123,
     "metadata": {},
     "output_type": "execute_result"
    }
   ],
   "source": [
    "result = df.sort_values(['workflow_id','started_at']).groupby('workflow_id').first().apply(lambda row: row['generated.h'] if pd.notna(row['generated.h']) else None, axis=1).dropna().mean()\n",
    "result"
   ]
  },
  {
   "cell_type": "code",
   "execution_count": 124,
   "id": "edce6179-b2e8-4a2d-ab79-9080d4302aaa",
   "metadata": {},
   "outputs": [
    {
     "data": {
      "text/plain": [
       "np.float64(71334.96537296497)"
      ]
     },
     "execution_count": 124,
     "metadata": {},
     "output_type": "execute_result"
    }
   ],
   "source": [
    "result = df.loc[df.sort_values(['workflow_id','started_at']).groupby('workflow_id').cumcount() == df.groupby('workflow_id')['task_id'].transform('count') - 1].apply(lambda row: row[{'scale_shift_input':'generated.h','square_and_quarter':'generated.e','sqrt_and_scale':'generated.f','subtract_and_shift':'generated.g','square_and_subtract_one':'generated.d','log_and_shift':'generated.c','power_one_point_five':'generated.b','average_results':'generated.a'}.get(row['activity_id'], None)] if pd.notna(row['activity_id']) else None, axis=1).dropna().mean()\n",
    "result"
   ]
  },
  {
   "cell_type": "code",
   "execution_count": 126,
   "id": "f7433cc7-7413-4dcf-96dd-f9903260c7cb",
   "metadata": {},
   "outputs": [
    {
     "name": "stderr",
     "output_type": "stream",
     "text": [
      "/tmp/ipykernel_41730/2148601591.py:1: FutureWarning: DataFrameGroupBy.apply operated on the grouping columns. This behavior is deprecated, and in a future version of pandas the grouping columns will be excluded from the operation. Either pass `include_groups=False` to exclude the groupings or explicitly select the grouping columns after groupby to silence this warning.\n",
      "  result = df.assign(started_at=pd.to_datetime(df['started_at']),ended_at=pd.to_datetime(df['ended_at'])).groupby('workflow_id').apply(lambda x: (x['ended_at'].max() - x['started_at'].min()).total_seconds()).gt(2).sum()\n"
     ]
    },
    {
     "data": {
      "text/plain": [
       "np.int64(0)"
      ]
     },
     "execution_count": 126,
     "metadata": {},
     "output_type": "execute_result"
    }
   ],
   "source": [
    "result = df.assign(started_at=pd.to_datetime(df['started_at']),ended_at=pd.to_datetime(df['ended_at'])).groupby('workflow_id').apply(lambda x: (x['ended_at'].max() - x['started_at'].min()).total_seconds()).gt(2).sum()\n",
    "result"
   ]
  },
  {
   "cell_type": "code",
   "execution_count": 127,
   "id": "609c2dd8-029f-48bd-9e62-70dba0c14695",
   "metadata": {},
   "outputs": [
    {
     "data": {
      "text/plain": [
       "np.float64(71334.96537296497)"
      ]
     },
     "execution_count": 127,
     "metadata": {},
     "output_type": "execute_result"
    }
   ],
   "source": [
    "result = df.loc[df['workflow_id'].isin(df['workflow_id'].drop_duplicates().sample(n=min(3, df['workflow_id'].nunique()), random_state=42))].loc[lambda d: d.groupby('workflow_id').cumcount() == d.groupby('workflow_id')['task_id'].transform('count') - 1].apply(lambda row: row.get({'scale_shift_input':'generated.h','square_and_quarter':'generated.e','sqrt_and_scale':'generated.f','subtract_and_shift':'generated.g','square_and_subtract_one':'generated.d','log_and_shift':'generated.c','power_one_point_five':'generated.b','average_results':'generated.a'}.get(row['activity_id'], None)) if pd.notna(row['activity_id']) else None,axis=1).dropna().mean()\n",
    "result"
   ]
  },
  {
   "cell_type": "code",
   "execution_count": 129,
   "id": "a0ea0471-e6df-4daf-b9d7-7d673d65acff",
   "metadata": {},
   "outputs": [
    {
     "name": "stderr",
     "output_type": "stream",
     "text": [
      "/tmp/ipykernel_41730/1989129960.py:1: FutureWarning: DataFrameGroupBy.apply operated on the grouping columns. This behavior is deprecated, and in a future version of pandas the grouping columns will be excluded from the operation. Either pass `include_groups=False` to exclude the groupings or explicitly select the grouping columns after groupby to silence this warning.\n",
      "  result = df[df['workflow_id'] == df.loc[pd.to_datetime(df['started_at']).idxmax(), 'workflow_id']].groupby('activity_id').apply(lambda g: g.iloc[-1][{'scale_shift_input':'generated.h','square_and_quarter':'generated.e','sqrt_and_scale':'generated.f','subtract_and_shift':'generated.g','square_and_subtract_one':'generated.d','log_and_shift':'generated.c','power_one_point_five':'generated.b','average_results':'generated.a'}.get(g.name, None)]).dropna().mean()\n"
     ]
    },
    {
     "data": {
      "text/plain": [
       "np.float64(35741.40701537571)"
      ]
     },
     "execution_count": 129,
     "metadata": {},
     "output_type": "execute_result"
    }
   ],
   "source": [
    "result = df[df['workflow_id'] == df.loc[pd.to_datetime(df['started_at']).idxmax(), 'workflow_id']].groupby('activity_id').apply(lambda g: g.iloc[-1][{'scale_shift_input':'generated.h','square_and_quarter':'generated.e','sqrt_and_scale':'generated.f','subtract_and_shift':'generated.g','square_and_subtract_one':'generated.d','log_and_shift':'generated.c','power_one_point_five':'generated.b','average_results':'generated.a'}.get(g.name, None)]).dropna().mean()\n",
    "result"
   ]
  },
  {
   "cell_type": "code",
   "execution_count": 130,
   "id": "ba9fd8d4-2a78-49d4-b244-1bf18fcc617c",
   "metadata": {},
   "outputs": [
    {
     "name": "stderr",
     "output_type": "stream",
     "text": [
      "/tmp/ipykernel_41730/281038475.py:1: FutureWarning: DataFrameGroupBy.apply operated on the grouping columns. This behavior is deprecated, and in a future version of pandas the grouping columns will be excluded from the operation. Either pass `include_groups=False` to exclude the groupings or explicitly select the grouping columns after groupby to silence this warning.\n",
      "  result = df.groupby('activity_id').apply(lambda g: g[{'scale_shift_input':'generated.h','square_and_quarter':'generated.e','sqrt_and_scale':'generated.f','subtract_and_shift':'generated.g','square_and_subtract_one':'generated.d','log_and_shift':'generated.c','power_one_point_five':'generated.b','average_results':'generated.a'}.get(g.name, None)].min()).dropna()\n"
     ]
    },
    {
     "data": {
      "text/plain": [
       "activity_id\n",
       "average_results             71334.965373\n",
       "log_and_shift                  10.672360\n",
       "power_one_point_five          320.161259\n",
       "scale_shift_input              43.000000\n",
       "sqrt_and_scale                 39.344631\n",
       "square_and_quarter            462.250000\n",
       "square_and_subtract_one    213674.062500\n",
       "subtract_and_shift             46.800000\n",
       "dtype: float64"
      ]
     },
     "execution_count": 130,
     "metadata": {},
     "output_type": "execute_result"
    }
   ],
   "source": [
    "result = df.groupby('activity_id').apply(lambda g: g[{'scale_shift_input':'generated.h','square_and_quarter':'generated.e','sqrt_and_scale':'generated.f','subtract_and_shift':'generated.g','square_and_subtract_one':'generated.d','log_and_shift':'generated.c','power_one_point_five':'generated.b','average_results':'generated.a'}.get(g.name, None)].min()).dropna()\n",
    "result"
   ]
  },
  {
   "cell_type": "code",
   "execution_count": 136,
   "id": "9f70acde-1390-465a-ba56-4306221ed0ad",
   "metadata": {},
   "outputs": [
    {
     "data": {
      "text/plain": [
       "activity_id\n",
       "scale_shift_input    12.0\n",
       "Name: used.input_value, dtype: float64"
      ]
     },
     "execution_count": 136,
     "metadata": {},
     "output_type": "execute_result"
    }
   ],
   "source": [
    "result = df[df['workflow_id'].isin(sorted(df['workflow_id'].unique())[-5:])].groupby('activity_id')['used.input_value'].max().dropna()\n",
    "result"
   ]
  },
  {
   "cell_type": "code",
   "execution_count": 139,
   "id": "7264d51e-1b2b-4d18-b864-f6d9338f39fa",
   "metadata": {},
   "outputs": [
    {
     "data": {
      "text/html": [
       "<div>\n",
       "<style scoped>\n",
       "    .dataframe tbody tr th:only-of-type {\n",
       "        vertical-align: middle;\n",
       "    }\n",
       "\n",
       "    .dataframe tbody tr th {\n",
       "        vertical-align: top;\n",
       "    }\n",
       "\n",
       "    .dataframe thead th {\n",
       "        text-align: right;\n",
       "    }\n",
       "</style>\n",
       "<table border=\"1\" class=\"dataframe\">\n",
       "  <thead>\n",
       "    <tr style=\"text-align: right;\">\n",
       "      <th></th>\n",
       "      <th>activity_id</th>\n",
       "      <th>used.input_value</th>\n",
       "      <th>used.h</th>\n",
       "      <th>used.e</th>\n",
       "      <th>used.f</th>\n",
       "      <th>used.g</th>\n",
       "      <th>used.d</th>\n",
       "      <th>used.c</th>\n",
       "      <th>used.b</th>\n",
       "    </tr>\n",
       "  </thead>\n",
       "  <tbody>\n",
       "    <tr>\n",
       "      <th>0</th>\n",
       "      <td>average_results</td>\n",
       "      <td>NaN</td>\n",
       "      <td>NaN</td>\n",
       "      <td>NaN</td>\n",
       "      <td>NaN</td>\n",
       "      <td>NaN</td>\n",
       "      <td>213674.0625</td>\n",
       "      <td>10.67236</td>\n",
       "      <td>320.161259</td>\n",
       "    </tr>\n",
       "    <tr>\n",
       "      <th>1</th>\n",
       "      <td>log_and_shift</td>\n",
       "      <td>NaN</td>\n",
       "      <td>NaN</td>\n",
       "      <td>NaN</td>\n",
       "      <td>39.344631</td>\n",
       "      <td>NaN</td>\n",
       "      <td>NaN</td>\n",
       "      <td>NaN</td>\n",
       "      <td>NaN</td>\n",
       "    </tr>\n",
       "    <tr>\n",
       "      <th>2</th>\n",
       "      <td>power_one_point_five</td>\n",
       "      <td>NaN</td>\n",
       "      <td>NaN</td>\n",
       "      <td>NaN</td>\n",
       "      <td>NaN</td>\n",
       "      <td>46.8</td>\n",
       "      <td>NaN</td>\n",
       "      <td>NaN</td>\n",
       "      <td>NaN</td>\n",
       "    </tr>\n",
       "    <tr>\n",
       "      <th>3</th>\n",
       "      <td>scale_shift_input</td>\n",
       "      <td>12.0</td>\n",
       "      <td>NaN</td>\n",
       "      <td>NaN</td>\n",
       "      <td>NaN</td>\n",
       "      <td>NaN</td>\n",
       "      <td>NaN</td>\n",
       "      <td>NaN</td>\n",
       "      <td>NaN</td>\n",
       "    </tr>\n",
       "    <tr>\n",
       "      <th>4</th>\n",
       "      <td>sqrt_and_scale</td>\n",
       "      <td>NaN</td>\n",
       "      <td>43.0</td>\n",
       "      <td>NaN</td>\n",
       "      <td>NaN</td>\n",
       "      <td>NaN</td>\n",
       "      <td>NaN</td>\n",
       "      <td>NaN</td>\n",
       "      <td>NaN</td>\n",
       "    </tr>\n",
       "    <tr>\n",
       "      <th>5</th>\n",
       "      <td>square_and_quarter</td>\n",
       "      <td>NaN</td>\n",
       "      <td>43.0</td>\n",
       "      <td>NaN</td>\n",
       "      <td>NaN</td>\n",
       "      <td>NaN</td>\n",
       "      <td>NaN</td>\n",
       "      <td>NaN</td>\n",
       "      <td>NaN</td>\n",
       "    </tr>\n",
       "    <tr>\n",
       "      <th>6</th>\n",
       "      <td>square_and_subtract_one</td>\n",
       "      <td>NaN</td>\n",
       "      <td>NaN</td>\n",
       "      <td>462.25</td>\n",
       "      <td>NaN</td>\n",
       "      <td>NaN</td>\n",
       "      <td>NaN</td>\n",
       "      <td>NaN</td>\n",
       "      <td>NaN</td>\n",
       "    </tr>\n",
       "    <tr>\n",
       "      <th>7</th>\n",
       "      <td>subtract_and_shift</td>\n",
       "      <td>NaN</td>\n",
       "      <td>43.0</td>\n",
       "      <td>NaN</td>\n",
       "      <td>NaN</td>\n",
       "      <td>NaN</td>\n",
       "      <td>NaN</td>\n",
       "      <td>NaN</td>\n",
       "      <td>NaN</td>\n",
       "    </tr>\n",
       "  </tbody>\n",
       "</table>\n",
       "</div>"
      ],
      "text/plain": [
       "               activity_id  used.input_value  used.h  used.e     used.f  \\\n",
       "0          average_results               NaN     NaN     NaN        NaN   \n",
       "1            log_and_shift               NaN     NaN     NaN  39.344631   \n",
       "2     power_one_point_five               NaN     NaN     NaN        NaN   \n",
       "3        scale_shift_input              12.0     NaN     NaN        NaN   \n",
       "4           sqrt_and_scale               NaN    43.0     NaN        NaN   \n",
       "5       square_and_quarter               NaN    43.0     NaN        NaN   \n",
       "6  square_and_subtract_one               NaN     NaN  462.25        NaN   \n",
       "7       subtract_and_shift               NaN    43.0     NaN        NaN   \n",
       "\n",
       "   used.g       used.d    used.c      used.b  \n",
       "0     NaN  213674.0625  10.67236  320.161259  \n",
       "1     NaN          NaN       NaN         NaN  \n",
       "2    46.8          NaN       NaN         NaN  \n",
       "3     NaN          NaN       NaN         NaN  \n",
       "4     NaN          NaN       NaN         NaN  \n",
       "5     NaN          NaN       NaN         NaN  \n",
       "6     NaN          NaN       NaN         NaN  \n",
       "7     NaN          NaN       NaN         NaN  "
      ]
     },
     "execution_count": 139,
     "metadata": {},
     "output_type": "execute_result"
    }
   ],
   "source": [
    "result = df[df['workflow_id'].isin(sorted(df['workflow_id'].unique())[-5:])].groupby('activity_id').agg({col: 'max' for col in df.columns if col.startswith('used.')}).reset_index()\n",
    "result"
   ]
  },
  {
   "cell_type": "code",
   "execution_count": 140,
   "id": "ad9ce950-86aa-42a1-8e9f-3028d7bf63d5",
   "metadata": {},
   "outputs": [
    {
     "data": {
      "text/plain": [
       "[]"
      ]
     },
     "execution_count": 140,
     "metadata": {},
     "output_type": "execute_result"
    }
   ],
   "source": [
    "result = df.assign(started_at=pd.to_datetime(df['started_at']), ended_at=pd.to_datetime(df['ended_at'])).groupby('workflow_id').filter(lambda x: (x['ended_at'].max() - x['started_at'].min()).total_seconds() > 120)['workflow_id'].unique().tolist()\n",
    "result"
   ]
  },
  {
   "cell_type": "code",
   "execution_count": null,
   "id": "28b544cd-bc2c-4378-a1b3-3f17fb073dd6",
   "metadata": {},
   "outputs": [],
   "source": []
  },
  {
   "cell_type": "code",
   "execution_count": null,
   "id": "ff72b835-177e-4e3c-90ef-57e18ec9bae4",
   "metadata": {},
   "outputs": [],
   "source": []
  },
  {
   "cell_type": "code",
   "execution_count": 4,
   "id": "8781adaf-ddac-4399-8f0a-0c96d3b59bc0",
   "metadata": {},
   "outputs": [
    {
     "data": {
      "text/plain": [
       "'LAP149969.ornl.gov'"
      ]
     },
     "execution_count": 4,
     "metadata": {},
     "output_type": "execute_result"
    }
   ],
   "source": [
    "result = df['hostname'].value_counts().idxmax()\n",
    "result"
   ]
  },
  {
   "cell_type": "code",
   "execution_count": 5,
   "id": "d030458c-0ed5-4c06-baac-5aae1b04d212",
   "metadata": {},
   "outputs": [
    {
     "data": {
      "text/plain": [
       "hostname\n",
       "LAP149969.ornl.gov    800\n",
       "Name: count, dtype: int64"
      ]
     },
     "execution_count": 5,
     "metadata": {},
     "output_type": "execute_result"
    }
   ],
   "source": [
    "result = df['hostname'].value_counts()\n",
    "result"
   ]
  },
  {
   "cell_type": "code",
   "execution_count": null,
   "id": "36b314fa-470a-4be0-8750-09b5a6f1c6bb",
   "metadata": {},
   "outputs": [],
   "source": []
  },
  {
   "cell_type": "markdown",
   "id": "c4b56b50-85de-4a05-904c-e8a0849afcd3",
   "metadata": {},
   "source": [
    "### Expected vs Actual for Q18 \n",
    "### Config = 0.01 Temp and 1.0 Top_P"
   ]
  },
  {
   "cell_type": "code",
   "execution_count": 6,
   "id": "12aed18c-29d6-409f-81a4-2e94d0f56e1b",
   "metadata": {},
   "outputs": [
    {
     "data": {
      "text/html": [
       "<div>\n",
       "<style scoped>\n",
       "    .dataframe tbody tr th:only-of-type {\n",
       "        vertical-align: middle;\n",
       "    }\n",
       "\n",
       "    .dataframe tbody tr th {\n",
       "        vertical-align: top;\n",
       "    }\n",
       "\n",
       "    .dataframe thead th {\n",
       "        text-align: right;\n",
       "    }\n",
       "</style>\n",
       "<table border=\"1\" class=\"dataframe\">\n",
       "  <thead>\n",
       "    <tr style=\"text-align: right;\">\n",
       "      <th></th>\n",
       "      <th>hostname</th>\n",
       "      <th>task_count</th>\n",
       "    </tr>\n",
       "  </thead>\n",
       "  <tbody>\n",
       "    <tr>\n",
       "      <th>0</th>\n",
       "      <td>LAP149969.ornl.gov</td>\n",
       "      <td>8</td>\n",
       "    </tr>\n",
       "  </tbody>\n",
       "</table>\n",
       "</div>"
      ],
      "text/plain": [
       "             hostname  task_count\n",
       "0  LAP149969.ornl.gov           8"
      ]
     },
     "execution_count": 6,
     "metadata": {},
     "output_type": "execute_result"
    }
   ],
   "source": [
    "# Actual \n",
    "result = df[(df['workflow_id'] == df['workflow_id'].max())][['hostname', 'task_id']].groupby('hostname').size().reset_index(name='task_count').sort_values(by='task_count', ascending=False).head(1)\n",
    "result"
   ]
  },
  {
   "cell_type": "code",
   "execution_count": 8,
   "id": "87aaba0e-7247-4136-aaa8-a666657ea734",
   "metadata": {},
   "outputs": [
    {
     "data": {
      "text/plain": [
       "'LAP149969.ornl.gov'"
      ]
     },
     "execution_count": 8,
     "metadata": {},
     "output_type": "execute_result"
    }
   ],
   "source": [
    "# Expected\n",
    "result = df['hostname'].value_counts().idxmax()\n",
    "result"
   ]
  },
  {
   "cell_type": "code",
   "execution_count": null,
   "id": "1d5e521e-f22a-44e4-859d-f933aed1ae03",
   "metadata": {},
   "outputs": [],
   "source": []
  },
  {
   "cell_type": "code",
   "execution_count": null,
   "id": "b97e5791-e9a1-438e-889e-ce586138de31",
   "metadata": {},
   "outputs": [],
   "source": []
  }
 ],
 "metadata": {
  "kernelspec": {
   "display_name": "Python 3 (ipykernel)",
   "language": "python",
   "name": "python3"
  },
  "language_info": {
   "codemirror_mode": {
    "name": "ipython",
    "version": 3
   },
   "file_extension": ".py",
   "mimetype": "text/x-python",
   "name": "python",
   "nbconvert_exporter": "python",
   "pygments_lexer": "ipython3",
   "version": "3.12.11"
  }
 },
 "nbformat": 4,
 "nbformat_minor": 5
}
